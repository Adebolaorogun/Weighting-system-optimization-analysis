{
 "cells": [
  {
   "cell_type": "markdown",
   "id": "3db2a047",
   "metadata": {},
   "source": [
    "### Importing relevant libraries "
   ]
  },
  {
   "cell_type": "code",
   "execution_count": 1,
   "id": "a4658f40",
   "metadata": {},
   "outputs": [],
   "source": [
    "import pandas as pd\n",
    "import numpy as np\n",
    "import random"
   ]
  },
  {
   "cell_type": "code",
   "execution_count": 172,
   "id": "2cc0848f",
   "metadata": {},
   "outputs": [
    {
     "name": "stdout",
     "output_type": "stream",
     "text": [
      "[26 20  8  8 28 10]\n",
      "100\n"
     ]
    }
   ],
   "source": [
    "## This function select random values and tries to convert them to 100%\n",
    "## This makes the values sum up to 100\n",
    "## It also gives decimal values which when rounded might be +/- 1 of 100.\n",
    "\n",
    "def random_weights(total_sum):\n",
    "    nums = np.random.randint(100, size=6)\n",
    "    return np.round(nums/np.sum(nums)*total_sum).astype(int)\n",
    "\n",
    "\n",
    "n = random_weights(100)\n",
    "print(n)\n",
    "print(n.sum())"
   ]
  },
  {
   "cell_type": "code",
   "execution_count": 735,
   "id": "370c269a",
   "metadata": {},
   "outputs": [],
   "source": [
    "## This function also samples random integers from a range of values\n",
    "## Then computes the sum to assert it is 100.\n",
    "## Then returns the pick... This could take very long.\n",
    "\n",
    "def get_scores(n):\n",
    "    x = 200\n",
    "    while True:\n",
    "        pick = random.sample([i for i in range(5, 65, 5)], n)\n",
    "        if sum(pick) <= x:\n",
    "            #break\n",
    "            return pick"
   ]
  },
  {
   "cell_type": "code",
   "execution_count": 736,
   "id": "0d361d9b",
   "metadata": {},
   "outputs": [
    {
     "name": "stdout",
     "output_type": "stream",
     "text": [
      "[ 5 10 15 20 25 30 35 60]\n",
      "[ 5 10 15 20 25 30 40 50]\n",
      "[ 5 10 15 20 25 35 40 45]\n",
      "[ 5 10 15 20 25 30 40 50]\n",
      "[ 5 10 15 20 25 30 35 55]\n",
      "[ 5 10 15 20 25 30 35 50]\n",
      "[ 5 10 15 20 25 30 40 55]\n",
      "[ 5 10 15 20 25 35 40 45]\n"
     ]
    }
   ],
   "source": [
    "for i in range(8):\n",
    "    np.random.seed(i)\n",
    "    print(np.sort(get_scores(8)))"
   ]
  },
  {
   "cell_type": "code",
   "execution_count": 507,
   "id": "8a49df69",
   "metadata": {},
   "outputs": [],
   "source": [
    "def random_with_patterns(n, m):\n",
    "    \n",
    "    \"\"\"\n",
    "    n: Number of less difficult methods.\n",
    "    m: Number of more difficult methods.    \n",
    "    \"\"\"\n",
    "    \n",
    "    ## Generate random values from a lower range for methods with less difficulty\n",
    "    list1 = list(np.random.randint(low = 5, high = 50, size = n))\n",
    "    \n",
    "    ## Generate random values from a higher range for more difficult verification methods\n",
    "    list2 = list(np.random.randint(low = 30, high = 60, size=m))\n",
    "    \n",
    "    ## Join both list\n",
    "    for i in list2:\n",
    "        list1.append(i)\n",
    "        \n",
    "    ## Convert them, such that they sum up to 100\n",
    "    list_ = [round(i/sum(list1) * 100, 2) for i in list1]\n",
    "    \n",
    "    ## Handling the errors due to approximation during rounding up.\n",
    "    if sum(list_) > 100:\n",
    "        \n",
    "        ## A random index where the correction will be made.\n",
    "        my_index = np.random.randint(len(list_))\n",
    "        \n",
    "        ## Subtract the excessive value from the selected index\n",
    "        list_[my_index] = list_[my_index] - round((sum(list_) - 100), 2)\n",
    "        \n",
    "        ## Returns the list\n",
    "        return list_\n",
    "    \n",
    "    ## Handling values that sums up to less than 100 after rounding up\n",
    "    elif sum(list_) < 100:\n",
    "        \n",
    "        ## Select random index.\n",
    "        my_index = np.random.randint(len(list_))\n",
    "        \n",
    "        ## Add the remaining to the selected index.\n",
    "        list_[my_index] = list_[my_index] + round((100 - sum(list_)), 2)\n",
    "        \n",
    "        ## Return the list\n",
    "        return list_\n",
    "    \n",
    "    ## The value equals 100\n",
    "    else:\n",
    "        return list_"
   ]
  },
  {
   "cell_type": "code",
   "execution_count": 28,
   "id": "bc06e878",
   "metadata": {},
   "outputs": [],
   "source": [
    "## Import dataset here\n",
    "\n",
    "data = pd.read_csv(\"File path\")"
   ]
  },
  {
   "cell_type": "code",
   "execution_count": 117,
   "id": "03778e63",
   "metadata": {},
   "outputs": [],
   "source": [
    "df = data.copy()"
   ]
  },
  {
   "cell_type": "code",
   "execution_count": 642,
   "id": "fb8bb89f",
   "metadata": {},
   "outputs": [
    {
     "data": {
      "text/plain": [
       "(532, 12)"
      ]
     },
     "execution_count": 642,
     "metadata": {},
     "output_type": "execute_result"
    }
   ],
   "source": [
    "df1.shape"
   ]
  },
  {
   "cell_type": "code",
   "execution_count": 121,
   "id": "9247c70a",
   "metadata": {},
   "outputs": [],
   "source": [
    "# drop missing values\n",
    "df.dropna(axis = 0, inplace=True)"
   ]
  },
  {
   "cell_type": "code",
   "execution_count": 122,
   "id": "76cbf413",
   "metadata": {},
   "outputs": [
    {
     "data": {
      "text/plain": [
       "(757, 12)"
      ]
     },
     "execution_count": 122,
     "metadata": {},
     "output_type": "execute_result"
    }
   ],
   "source": [
    "df.shape"
   ]
  },
  {
   "cell_type": "code",
   "execution_count": 120,
   "id": "e5e937d7",
   "metadata": {},
   "outputs": [],
   "source": [
    "# drop columns that are not really important for this analysis\n",
    "df.drop([\"Confidence (low, so-so, high)\", \"public_gists\", \"public_repos\",\n",
    "        \"followers\", \"following\", \"information_count\", \"account_age\", \n",
    "        \"time_since_updated\", \"is_idena_connected\"], axis=1, inplace=True)"
   ]
  },
  {
   "cell_type": "code",
   "execution_count": 33,
   "id": "3539efa4",
   "metadata": {},
   "outputs": [
    {
     "data": {
      "text/plain": [
       "Index(['handle', 'Is Sybil? (T or F)', 'trust_bonus', 'is_brightid_verified',\n",
       "       'is_duniter_verified', 'is_twitter_verified', 'is_poap_verified',\n",
       "       'is_ens_verified', 'is_google_verified', 'is_facebook_verified',\n",
       "       'is_poh_verified', 'is_idena_verified'],\n",
       "      dtype='object')"
      ]
     },
     "execution_count": 33,
     "metadata": {},
     "output_type": "execute_result"
    }
   ],
   "source": [
    "df.columns"
   ]
  },
  {
   "cell_type": "code",
   "execution_count": 123,
   "id": "72ef4efa",
   "metadata": {},
   "outputs": [],
   "source": [
    "## Resetting the index of the data\n",
    "df.reset_index(drop=True, inplace=True)"
   ]
  },
  {
   "cell_type": "code",
   "execution_count": 379,
   "id": "b547868f",
   "metadata": {},
   "outputs": [],
   "source": [
    "## With duniter\n",
    "trust_scores = []\n",
    "\n",
    "trust_mean_differences = []\n",
    "\n",
    "trust_median_differences = []\n",
    "\n",
    "sybil_mean = []\n",
    "\n",
    "not_sybil_mean = []\n",
    "\n",
    "sybil_median = []\n",
    "\n",
    "not_sybil_median = []\n",
    "\n",
    "def calc_score(dfs):\n",
    "    \n",
    "    dff = dfs.copy()\n",
    "    \n",
    "    scores = random_with_patterns(5, 4)\n",
    "    \n",
    "    trust_scores.append([i for i in scores])\n",
    "    \n",
    "    total_score = []\n",
    "    \n",
    "    dff.is_brightid_verified = np.where(dff.is_brightid_verified == True, scores[0], 0)\n",
    "    \n",
    "    dff.is_duniter_verified = np.where(dff.is_duniter_verified == True, scores[1], 0)\n",
    "\n",
    "    dff.is_twitter_verified = np.where(dff.is_twitter_verified == True, scores[2], 0)\n",
    "    \n",
    "    dff.is_google_verified = np.where(dff.is_google_verified == True, scores[3], 0)\n",
    "    \n",
    "    dff.is_facebook_verified = np.where(dff.is_facebook_verified == True, scores[4], 0)\n",
    "    \n",
    "    dff.is_poap_verified = np.where(dff.is_poap_verified == True, scores[5], 0)\n",
    "    \n",
    "    dff.is_ens_verified = np.where(dff.is_ens_verified == True, scores[6], 0)\n",
    "    \n",
    "    dff.is_poh_verified = np.where(dff.is_poh_verified == True, scores[7], 0)\n",
    "    \n",
    "    dff.is_idena_verified = np.where(dff.is_idena_verified == True, scores[8], 0)\n",
    "\n",
    "    \n",
    "    for row in range(dff.shape[0]):\n",
    "        total_score.append(sum(dff.loc[row, [\"is_brightid_verified\", \"is_duniter_verified\", \"is_twitter_verified\", \"is_poap_verified\",\n",
    "                             \"is_ens_verified\", \"is_google_verified\", 'is_facebook_verified', 'is_poh_verified', 'is_idena_verified']]))\n",
    "    \n",
    "    dff[\"total_score\"] = total_score\n",
    "    \n",
    "    sybil_mean_ = dff.groupby(\"Is Sybil? (T or F)\")[\"total_score\"].mean()[1]\n",
    "    not_sybil_mean_ = dff.groupby(\"Is Sybil? (T or F)\")[\"total_score\"].mean()[0]\n",
    "    \n",
    "    sybil_mean.append(sybil_mean_)\n",
    "    not_sybil_mean.append(not_sybil_mean_)\n",
    "    \n",
    "    sybil_median_ = dff.groupby(\"Is Sybil? (T or F)\")[\"total_score\"].median()[1]\n",
    "    not_sybil_median_ = dff.groupby(\"Is Sybil? (T or F)\")[\"total_score\"].median()[0]\n",
    "    \n",
    "    sybil_median.append(sybil_median_)\n",
    "    not_sybil_median.append(not_sybil_median_)\n",
    "    \n",
    "    trust_median_differences.append(abs(sybil_median_ - not_sybil_median_))\n",
    "    \n",
    "    trust_mean_differences.append(abs(sybil_mean_ - not_sybil_mean_))"
   ]
  },
  {
   "cell_type": "code",
   "execution_count": null,
   "id": "ee2629be",
   "metadata": {},
   "outputs": [],
   "source": [
    "# Changing all columns with the verification platforms to integer data type\n",
    "for column in df.columns[3:]:\n",
    "    df[column] = df[column].astype(int) "
   ]
  },
  {
   "cell_type": "code",
   "execution_count": 380,
   "id": "808c3450",
   "metadata": {},
   "outputs": [],
   "source": [
    "## To change the random seeds to control the number of iteration and to make sure there is no duplicates.\n",
    "for i in range(15):\n",
    "    np.random.seed(i)\n",
    "    calc_score(df)"
   ]
  },
  {
   "cell_type": "code",
   "execution_count": 381,
   "id": "d6dab80e",
   "metadata": {},
   "outputs": [],
   "source": [
    "## Convert the output to a dataframe for easy overview.\n",
    "diff = pd.DataFrame()\n",
    "diff[\"Combination of weights\"] = trust_scores\n",
    "diff[\"Sybil mean\"] = sybil_mean\n",
    "diff[\"not_sybil mean\"] = not_sybil_mean\n",
    "diff[\"Mean differences\"] = trust_mean_differences\n",
    "diff[\"Sybil median\"] = sybil_median\n",
    "diff[\"not_sybil median\"] = not_sybil_median\n",
    "diff[\"Median differences\"] = trust_median_differences\n"
   ]
  },
  {
   "cell_type": "code",
   "execution_count": 382,
   "id": "ce348f5c",
   "metadata": {},
   "outputs": [
    {
     "data": {
      "text/html": [
       "<div>\n",
       "<style scoped>\n",
       "    .dataframe tbody tr th:only-of-type {\n",
       "        vertical-align: middle;\n",
       "    }\n",
       "\n",
       "    .dataframe tbody tr th {\n",
       "        vertical-align: top;\n",
       "    }\n",
       "\n",
       "    .dataframe thead th {\n",
       "        text-align: right;\n",
       "    }\n",
       "</style>\n",
       "<table border=\"1\" class=\"dataframe\">\n",
       "  <thead>\n",
       "    <tr style=\"text-align: right;\">\n",
       "      <th></th>\n",
       "      <th>Combination of weights</th>\n",
       "      <th>Sybil mean</th>\n",
       "      <th>not_sybil mean</th>\n",
       "      <th>Mean differences</th>\n",
       "      <th>Sybil median</th>\n",
       "      <th>not_sybil median</th>\n",
       "      <th>Median differences</th>\n",
       "    </tr>\n",
       "  </thead>\n",
       "  <tbody>\n",
       "    <tr>\n",
       "      <th>0</th>\n",
       "      <td>[5, 3, 13, 8, 15, 14, 14, 13, 15]</td>\n",
       "      <td>18.935933</td>\n",
       "      <td>30.429648</td>\n",
       "      <td>11.493715</td>\n",
       "      <td>13</td>\n",
       "      <td>35</td>\n",
       "      <td>22</td>\n",
       "    </tr>\n",
       "    <tr>\n",
       "      <th>1</th>\n",
       "      <td>[14, 6, 4, 9, 15, 15, 13, 12, 12]</td>\n",
       "      <td>20.696379</td>\n",
       "      <td>31.972362</td>\n",
       "      <td>11.275983</td>\n",
       "      <td>14</td>\n",
       "      <td>37</td>\n",
       "      <td>23</td>\n",
       "    </tr>\n",
       "    <tr>\n",
       "      <th>2</th>\n",
       "      <td>[7, 4, 6, 11, 11, 15, 16, 12, 16]</td>\n",
       "      <td>19.972145</td>\n",
       "      <td>31.218593</td>\n",
       "      <td>11.246448</td>\n",
       "      <td>15</td>\n",
       "      <td>34</td>\n",
       "      <td>19</td>\n",
       "    </tr>\n",
       "    <tr>\n",
       "      <th>3</th>\n",
       "      <td>[16, 10, 3, 4, 2, 16, 20, 16, 13]</td>\n",
       "      <td>17.576602</td>\n",
       "      <td>28.690955</td>\n",
       "      <td>11.114353</td>\n",
       "      <td>6</td>\n",
       "      <td>32</td>\n",
       "      <td>26</td>\n",
       "    </tr>\n",
       "    <tr>\n",
       "      <th>4</th>\n",
       "      <td>[3, 9, 16, 3, 11, 12, 17, 13, 16]</td>\n",
       "      <td>15.487465</td>\n",
       "      <td>26.361809</td>\n",
       "      <td>10.874344</td>\n",
       "      <td>6</td>\n",
       "      <td>29</td>\n",
       "      <td>23</td>\n",
       "    </tr>\n",
       "    <tr>\n",
       "      <th>5</th>\n",
       "      <td>[3, 2, 15, 9, 4, 16, 13, 17, 19]</td>\n",
       "      <td>16.782730</td>\n",
       "      <td>27.557789</td>\n",
       "      <td>10.775059</td>\n",
       "      <td>12</td>\n",
       "      <td>29</td>\n",
       "      <td>17</td>\n",
       "    </tr>\n",
       "    <tr>\n",
       "      <th>6</th>\n",
       "      <td>[16, 2, 3, 3, 14, 13, 16, 17, 16]</td>\n",
       "      <td>18.066852</td>\n",
       "      <td>28.783920</td>\n",
       "      <td>10.717067</td>\n",
       "      <td>16</td>\n",
       "      <td>32</td>\n",
       "      <td>16</td>\n",
       "    </tr>\n",
       "    <tr>\n",
       "      <th>7</th>\n",
       "      <td>[13, 6, 14, 7, 5, 13, 11, 12, 19]</td>\n",
       "      <td>17.103064</td>\n",
       "      <td>27.771357</td>\n",
       "      <td>10.668293</td>\n",
       "      <td>12</td>\n",
       "      <td>31</td>\n",
       "      <td>19</td>\n",
       "    </tr>\n",
       "    <tr>\n",
       "      <th>8</th>\n",
       "      <td>[11, 7, 11, 8, 6, 15, 11, 13, 16]</td>\n",
       "      <td>17.515320</td>\n",
       "      <td>28.050251</td>\n",
       "      <td>10.534931</td>\n",
       "      <td>14</td>\n",
       "      <td>30</td>\n",
       "      <td>16</td>\n",
       "    </tr>\n",
       "    <tr>\n",
       "      <th>9</th>\n",
       "      <td>[10, 6, 2, 8, 13, 16, 14, 16, 15]</td>\n",
       "      <td>18.961003</td>\n",
       "      <td>29.449749</td>\n",
       "      <td>10.488746</td>\n",
       "      <td>14</td>\n",
       "      <td>32</td>\n",
       "      <td>18</td>\n",
       "    </tr>\n",
       "    <tr>\n",
       "      <th>10</th>\n",
       "      <td>[3, 10, 3, 8, 10, 13, 20, 18, 15]</td>\n",
       "      <td>17.272981</td>\n",
       "      <td>27.550251</td>\n",
       "      <td>10.277271</td>\n",
       "      <td>11</td>\n",
       "      <td>31</td>\n",
       "      <td>20</td>\n",
       "    </tr>\n",
       "    <tr>\n",
       "      <th>11</th>\n",
       "      <td>[4, 11, 6, 2, 10, 17, 18, 14, 18]</td>\n",
       "      <td>15.467967</td>\n",
       "      <td>25.643216</td>\n",
       "      <td>10.175250</td>\n",
       "      <td>6</td>\n",
       "      <td>29</td>\n",
       "      <td>23</td>\n",
       "    </tr>\n",
       "    <tr>\n",
       "      <th>12</th>\n",
       "      <td>[14, 9, 5, 8, 4, 17, 11, 12, 18]</td>\n",
       "      <td>17.646240</td>\n",
       "      <td>27.690955</td>\n",
       "      <td>10.044715</td>\n",
       "      <td>12</td>\n",
       "      <td>29</td>\n",
       "      <td>17</td>\n",
       "    </tr>\n",
       "    <tr>\n",
       "      <th>13</th>\n",
       "      <td>[14, 17, 6, 5, 5, 14, 12, 16, 11]</td>\n",
       "      <td>15.857939</td>\n",
       "      <td>25.494975</td>\n",
       "      <td>9.637036</td>\n",
       "      <td>10</td>\n",
       "      <td>28</td>\n",
       "      <td>18</td>\n",
       "    </tr>\n",
       "    <tr>\n",
       "      <th>14</th>\n",
       "      <td>[6, 12, 4, 3, 3, 13, 17, 19, 21]</td>\n",
       "      <td>13.105850</td>\n",
       "      <td>21.763819</td>\n",
       "      <td>8.657970</td>\n",
       "      <td>6</td>\n",
       "      <td>24</td>\n",
       "      <td>18</td>\n",
       "    </tr>\n",
       "  </tbody>\n",
       "</table>\n",
       "</div>"
      ],
      "text/plain": [
       "               Combination of weights  Sybil mean  not_sybil mean  \\\n",
       "0   [5, 3, 13, 8, 15, 14, 14, 13, 15]   18.935933       30.429648   \n",
       "1   [14, 6, 4, 9, 15, 15, 13, 12, 12]   20.696379       31.972362   \n",
       "2   [7, 4, 6, 11, 11, 15, 16, 12, 16]   19.972145       31.218593   \n",
       "3   [16, 10, 3, 4, 2, 16, 20, 16, 13]   17.576602       28.690955   \n",
       "4   [3, 9, 16, 3, 11, 12, 17, 13, 16]   15.487465       26.361809   \n",
       "5    [3, 2, 15, 9, 4, 16, 13, 17, 19]   16.782730       27.557789   \n",
       "6   [16, 2, 3, 3, 14, 13, 16, 17, 16]   18.066852       28.783920   \n",
       "7   [13, 6, 14, 7, 5, 13, 11, 12, 19]   17.103064       27.771357   \n",
       "8   [11, 7, 11, 8, 6, 15, 11, 13, 16]   17.515320       28.050251   \n",
       "9   [10, 6, 2, 8, 13, 16, 14, 16, 15]   18.961003       29.449749   \n",
       "10  [3, 10, 3, 8, 10, 13, 20, 18, 15]   17.272981       27.550251   \n",
       "11  [4, 11, 6, 2, 10, 17, 18, 14, 18]   15.467967       25.643216   \n",
       "12   [14, 9, 5, 8, 4, 17, 11, 12, 18]   17.646240       27.690955   \n",
       "13  [14, 17, 6, 5, 5, 14, 12, 16, 11]   15.857939       25.494975   \n",
       "14   [6, 12, 4, 3, 3, 13, 17, 19, 21]   13.105850       21.763819   \n",
       "\n",
       "    Mean differences  Sybil median  not_sybil median  Median differences  \n",
       "0          11.493715            13                35                  22  \n",
       "1          11.275983            14                37                  23  \n",
       "2          11.246448            15                34                  19  \n",
       "3          11.114353             6                32                  26  \n",
       "4          10.874344             6                29                  23  \n",
       "5          10.775059            12                29                  17  \n",
       "6          10.717067            16                32                  16  \n",
       "7          10.668293            12                31                  19  \n",
       "8          10.534931            14                30                  16  \n",
       "9          10.488746            14                32                  18  \n",
       "10         10.277271            11                31                  20  \n",
       "11         10.175250             6                29                  23  \n",
       "12         10.044715            12                29                  17  \n",
       "13          9.637036            10                28                  18  \n",
       "14          8.657970             6                24                  18  "
      ]
     },
     "execution_count": 382,
     "metadata": {},
     "output_type": "execute_result"
    }
   ],
   "source": [
    "diff.sort_values(by=\"Mean differences\", ascending=False).reset_index(drop=True)"
   ]
  },
  {
   "cell_type": "code",
   "execution_count": 383,
   "id": "4559a5fe",
   "metadata": {},
   "outputs": [],
   "source": [
    "methods = [\"is_brightid_verified\",\"is_duniter_verified\",\"is_twitter_verified\",\n",
    " \"is_google_verified\",\"is_facebook_verified\",\"is_poap_verified\",\n",
    " \"is_ens_verified\" ,\"is_poh_verified\",\"is_idena_verified\"]"
   ]
  },
  {
   "cell_type": "code",
   "execution_count": 384,
   "id": "6f8ac5d7",
   "metadata": {},
   "outputs": [],
   "source": [
    "Num = [i for i in range(9)]"
   ]
  },
  {
   "cell_type": "code",
   "execution_count": 387,
   "id": "79ad893f",
   "metadata": {},
   "outputs": [],
   "source": [
    "ref = pd.DataFrame()\n",
    "ref[\"Methods\"] = methods\n",
    "ref[\"Weights_index\"] = Num"
   ]
  },
  {
   "cell_type": "code",
   "execution_count": 388,
   "id": "558c8c2b",
   "metadata": {},
   "outputs": [
    {
     "data": {
      "text/html": [
       "<div>\n",
       "<style scoped>\n",
       "    .dataframe tbody tr th:only-of-type {\n",
       "        vertical-align: middle;\n",
       "    }\n",
       "\n",
       "    .dataframe tbody tr th {\n",
       "        vertical-align: top;\n",
       "    }\n",
       "\n",
       "    .dataframe thead th {\n",
       "        text-align: right;\n",
       "    }\n",
       "</style>\n",
       "<table border=\"1\" class=\"dataframe\">\n",
       "  <thead>\n",
       "    <tr style=\"text-align: right;\">\n",
       "      <th></th>\n",
       "      <th>Methods</th>\n",
       "      <th>Weights_index</th>\n",
       "    </tr>\n",
       "  </thead>\n",
       "  <tbody>\n",
       "    <tr>\n",
       "      <th>0</th>\n",
       "      <td>is_brightid_verified</td>\n",
       "      <td>0</td>\n",
       "    </tr>\n",
       "    <tr>\n",
       "      <th>1</th>\n",
       "      <td>is_duniter_verified</td>\n",
       "      <td>1</td>\n",
       "    </tr>\n",
       "    <tr>\n",
       "      <th>2</th>\n",
       "      <td>is_twitter_verified</td>\n",
       "      <td>2</td>\n",
       "    </tr>\n",
       "    <tr>\n",
       "      <th>3</th>\n",
       "      <td>is_google_verified</td>\n",
       "      <td>3</td>\n",
       "    </tr>\n",
       "    <tr>\n",
       "      <th>4</th>\n",
       "      <td>is_facebook_verified</td>\n",
       "      <td>4</td>\n",
       "    </tr>\n",
       "    <tr>\n",
       "      <th>5</th>\n",
       "      <td>is_poap_verified</td>\n",
       "      <td>5</td>\n",
       "    </tr>\n",
       "    <tr>\n",
       "      <th>6</th>\n",
       "      <td>is_ens_verified</td>\n",
       "      <td>6</td>\n",
       "    </tr>\n",
       "    <tr>\n",
       "      <th>7</th>\n",
       "      <td>is_poh_verified</td>\n",
       "      <td>7</td>\n",
       "    </tr>\n",
       "    <tr>\n",
       "      <th>8</th>\n",
       "      <td>is_idena_verified</td>\n",
       "      <td>8</td>\n",
       "    </tr>\n",
       "  </tbody>\n",
       "</table>\n",
       "</div>"
      ],
      "text/plain": [
       "                Methods  Weights_index\n",
       "0  is_brightid_verified              0\n",
       "1   is_duniter_verified              1\n",
       "2   is_twitter_verified              2\n",
       "3    is_google_verified              3\n",
       "4  is_facebook_verified              4\n",
       "5      is_poap_verified              5\n",
       "6       is_ens_verified              6\n",
       "7       is_poh_verified              7\n",
       "8     is_idena_verified              8"
      ]
     },
     "execution_count": 388,
     "metadata": {},
     "output_type": "execute_result"
    }
   ],
   "source": []
  },
  {
   "cell_type": "code",
   "execution_count": null,
   "id": "aade1d19",
   "metadata": {},
   "outputs": [],
   "source": []
  },
  {
   "cell_type": "code",
   "execution_count": 416,
   "id": "fb58c669",
   "metadata": {},
   "outputs": [],
   "source": [
    "import plotly.express as px\n",
    "\n",
    "combination = []\n",
    "for i in range(diff.shape[0]):\n",
    "    string = \",\".join([str(item) for item in diff.loc[i, \"Combination of weights\"]])\n",
    "    combination.append(string)\n",
    "    \n",
    "diff[\"Weight_combination\"] = combination\n",
    "\n",
    "barchart = px.bar(data_frame= diff,\n",
    "                 y= \"Weight_combination\",\n",
    "                 x= [diff[\"Mean differences\"], diff[\"Median differences\"]],\n",
    "                 #color=\"counts\",\n",
    "                 opacity=0.9,\n",
    "                 orientation=\"h\",\n",
    "                  color_continuous_scale=px.colors.diverging.Spectral,\n",
    "                  barmode=\"group\",\n",
    "                  title=\"Plot of Mean and median differences of randomized weights for each verification method\",\n",
    "                  labels={\"variable\": \"Class\",\n",
    "                         \"x\": \"Methods\", \n",
    "                         \"true_counts\": \"True\",\n",
    "                         \"false_counts\": \"False\"}\n",
    "                  #text= verify.counts_True, verify.counts_False\n",
    "                 #color_discrete_sequence=[\"darkorange\", \"lightblue\"]\n",
    "                 ) \n",
    "\n",
    "#barchart.update_layout(yaxis = dict(tickmode = 'array', ticktext = [i for i in diff[\"Combination of weights\"]]))"
   ]
  },
  {
   "cell_type": "code",
   "execution_count": 417,
   "id": "1b18f9ba",
   "metadata": {},
   "outputs": [
    {
     "data": {
      "application/vnd.plotly.v1+json": {
       "config": {
        "plotlyServerURL": "https://plot.ly"
       },
       "data": [
        {
         "alignmentgroup": "True",
         "hovertemplate": "Class=Mean differences<br>value=%{x}<br>Weight_combination=%{y}<extra></extra>",
         "legendgroup": "Mean differences",
         "marker": {
          "color": "#636efa",
          "opacity": 0.9,
          "pattern": {
           "shape": ""
          }
         },
         "name": "Mean differences",
         "offsetgroup": "Mean differences",
         "orientation": "h",
         "showlegend": true,
         "textposition": "auto",
         "type": "bar",
         "x": [
          10.717067230301929,
          9.637036155708907,
          11.275982978961661,
          11.114353102560155,
          10.77505913970969,
          10.668292717067228,
          11.49371509357372,
          10.277270754888647,
          10.874343864167635,
          10.488745958203275,
          10.175249506585853,
          10.53493092201957,
          8.657969513304685,
          11.246448118027466,
          10.044715219551797
         ],
         "xaxis": "x",
         "y": [
          "16,2,3,3,14,13,16,17,16",
          "14,17,6,5,5,14,12,16,11",
          "14,6,4,9,15,15,13,12,12",
          "16,10,3,4,2,16,20,16,13",
          "3,2,15,9,4,16,13,17,19",
          "13,6,14,7,5,13,11,12,19",
          "5,3,13,8,15,14,14,13,15",
          "3,10,3,8,10,13,20,18,15",
          "3,9,16,3,11,12,17,13,16",
          "10,6,2,8,13,16,14,16,15",
          "4,11,6,2,10,17,18,14,18",
          "11,7,11,8,6,15,11,13,16",
          "6,12,4,3,3,13,17,19,21",
          "7,4,6,11,11,15,16,12,16",
          "14,9,5,8,4,17,11,12,18"
         ],
         "yaxis": "y"
        },
        {
         "alignmentgroup": "True",
         "hovertemplate": "Class=Median differences<br>value=%{x}<br>Weight_combination=%{y}<extra></extra>",
         "legendgroup": "Median differences",
         "marker": {
          "color": "#EF553B",
          "opacity": 0.9,
          "pattern": {
           "shape": ""
          }
         },
         "name": "Median differences",
         "offsetgroup": "Median differences",
         "orientation": "h",
         "showlegend": true,
         "textposition": "auto",
         "type": "bar",
         "x": [
          16,
          18,
          23,
          26,
          17,
          19,
          22,
          20,
          23,
          18,
          23,
          16,
          18,
          19,
          17
         ],
         "xaxis": "x",
         "y": [
          "16,2,3,3,14,13,16,17,16",
          "14,17,6,5,5,14,12,16,11",
          "14,6,4,9,15,15,13,12,12",
          "16,10,3,4,2,16,20,16,13",
          "3,2,15,9,4,16,13,17,19",
          "13,6,14,7,5,13,11,12,19",
          "5,3,13,8,15,14,14,13,15",
          "3,10,3,8,10,13,20,18,15",
          "3,9,16,3,11,12,17,13,16",
          "10,6,2,8,13,16,14,16,15",
          "4,11,6,2,10,17,18,14,18",
          "11,7,11,8,6,15,11,13,16",
          "6,12,4,3,3,13,17,19,21",
          "7,4,6,11,11,15,16,12,16",
          "14,9,5,8,4,17,11,12,18"
         ],
         "yaxis": "y"
        }
       ],
       "layout": {
        "barmode": "group",
        "legend": {
         "title": {
          "text": "Class"
         },
         "tracegroupgap": 0
        },
        "template": {
         "data": {
          "bar": [
           {
            "error_x": {
             "color": "#2a3f5f"
            },
            "error_y": {
             "color": "#2a3f5f"
            },
            "marker": {
             "line": {
              "color": "#E5ECF6",
              "width": 0.5
             },
             "pattern": {
              "fillmode": "overlay",
              "size": 10,
              "solidity": 0.2
             }
            },
            "type": "bar"
           }
          ],
          "barpolar": [
           {
            "marker": {
             "line": {
              "color": "#E5ECF6",
              "width": 0.5
             },
             "pattern": {
              "fillmode": "overlay",
              "size": 10,
              "solidity": 0.2
             }
            },
            "type": "barpolar"
           }
          ],
          "carpet": [
           {
            "aaxis": {
             "endlinecolor": "#2a3f5f",
             "gridcolor": "white",
             "linecolor": "white",
             "minorgridcolor": "white",
             "startlinecolor": "#2a3f5f"
            },
            "baxis": {
             "endlinecolor": "#2a3f5f",
             "gridcolor": "white",
             "linecolor": "white",
             "minorgridcolor": "white",
             "startlinecolor": "#2a3f5f"
            },
            "type": "carpet"
           }
          ],
          "choropleth": [
           {
            "colorbar": {
             "outlinewidth": 0,
             "ticks": ""
            },
            "type": "choropleth"
           }
          ],
          "contour": [
           {
            "colorbar": {
             "outlinewidth": 0,
             "ticks": ""
            },
            "colorscale": [
             [
              0,
              "#0d0887"
             ],
             [
              0.1111111111111111,
              "#46039f"
             ],
             [
              0.2222222222222222,
              "#7201a8"
             ],
             [
              0.3333333333333333,
              "#9c179e"
             ],
             [
              0.4444444444444444,
              "#bd3786"
             ],
             [
              0.5555555555555556,
              "#d8576b"
             ],
             [
              0.6666666666666666,
              "#ed7953"
             ],
             [
              0.7777777777777778,
              "#fb9f3a"
             ],
             [
              0.8888888888888888,
              "#fdca26"
             ],
             [
              1,
              "#f0f921"
             ]
            ],
            "type": "contour"
           }
          ],
          "contourcarpet": [
           {
            "colorbar": {
             "outlinewidth": 0,
             "ticks": ""
            },
            "type": "contourcarpet"
           }
          ],
          "heatmap": [
           {
            "colorbar": {
             "outlinewidth": 0,
             "ticks": ""
            },
            "colorscale": [
             [
              0,
              "#0d0887"
             ],
             [
              0.1111111111111111,
              "#46039f"
             ],
             [
              0.2222222222222222,
              "#7201a8"
             ],
             [
              0.3333333333333333,
              "#9c179e"
             ],
             [
              0.4444444444444444,
              "#bd3786"
             ],
             [
              0.5555555555555556,
              "#d8576b"
             ],
             [
              0.6666666666666666,
              "#ed7953"
             ],
             [
              0.7777777777777778,
              "#fb9f3a"
             ],
             [
              0.8888888888888888,
              "#fdca26"
             ],
             [
              1,
              "#f0f921"
             ]
            ],
            "type": "heatmap"
           }
          ],
          "heatmapgl": [
           {
            "colorbar": {
             "outlinewidth": 0,
             "ticks": ""
            },
            "colorscale": [
             [
              0,
              "#0d0887"
             ],
             [
              0.1111111111111111,
              "#46039f"
             ],
             [
              0.2222222222222222,
              "#7201a8"
             ],
             [
              0.3333333333333333,
              "#9c179e"
             ],
             [
              0.4444444444444444,
              "#bd3786"
             ],
             [
              0.5555555555555556,
              "#d8576b"
             ],
             [
              0.6666666666666666,
              "#ed7953"
             ],
             [
              0.7777777777777778,
              "#fb9f3a"
             ],
             [
              0.8888888888888888,
              "#fdca26"
             ],
             [
              1,
              "#f0f921"
             ]
            ],
            "type": "heatmapgl"
           }
          ],
          "histogram": [
           {
            "marker": {
             "pattern": {
              "fillmode": "overlay",
              "size": 10,
              "solidity": 0.2
             }
            },
            "type": "histogram"
           }
          ],
          "histogram2d": [
           {
            "colorbar": {
             "outlinewidth": 0,
             "ticks": ""
            },
            "colorscale": [
             [
              0,
              "#0d0887"
             ],
             [
              0.1111111111111111,
              "#46039f"
             ],
             [
              0.2222222222222222,
              "#7201a8"
             ],
             [
              0.3333333333333333,
              "#9c179e"
             ],
             [
              0.4444444444444444,
              "#bd3786"
             ],
             [
              0.5555555555555556,
              "#d8576b"
             ],
             [
              0.6666666666666666,
              "#ed7953"
             ],
             [
              0.7777777777777778,
              "#fb9f3a"
             ],
             [
              0.8888888888888888,
              "#fdca26"
             ],
             [
              1,
              "#f0f921"
             ]
            ],
            "type": "histogram2d"
           }
          ],
          "histogram2dcontour": [
           {
            "colorbar": {
             "outlinewidth": 0,
             "ticks": ""
            },
            "colorscale": [
             [
              0,
              "#0d0887"
             ],
             [
              0.1111111111111111,
              "#46039f"
             ],
             [
              0.2222222222222222,
              "#7201a8"
             ],
             [
              0.3333333333333333,
              "#9c179e"
             ],
             [
              0.4444444444444444,
              "#bd3786"
             ],
             [
              0.5555555555555556,
              "#d8576b"
             ],
             [
              0.6666666666666666,
              "#ed7953"
             ],
             [
              0.7777777777777778,
              "#fb9f3a"
             ],
             [
              0.8888888888888888,
              "#fdca26"
             ],
             [
              1,
              "#f0f921"
             ]
            ],
            "type": "histogram2dcontour"
           }
          ],
          "mesh3d": [
           {
            "colorbar": {
             "outlinewidth": 0,
             "ticks": ""
            },
            "type": "mesh3d"
           }
          ],
          "parcoords": [
           {
            "line": {
             "colorbar": {
              "outlinewidth": 0,
              "ticks": ""
             }
            },
            "type": "parcoords"
           }
          ],
          "pie": [
           {
            "automargin": true,
            "type": "pie"
           }
          ],
          "scatter": [
           {
            "marker": {
             "colorbar": {
              "outlinewidth": 0,
              "ticks": ""
             }
            },
            "type": "scatter"
           }
          ],
          "scatter3d": [
           {
            "line": {
             "colorbar": {
              "outlinewidth": 0,
              "ticks": ""
             }
            },
            "marker": {
             "colorbar": {
              "outlinewidth": 0,
              "ticks": ""
             }
            },
            "type": "scatter3d"
           }
          ],
          "scattercarpet": [
           {
            "marker": {
             "colorbar": {
              "outlinewidth": 0,
              "ticks": ""
             }
            },
            "type": "scattercarpet"
           }
          ],
          "scattergeo": [
           {
            "marker": {
             "colorbar": {
              "outlinewidth": 0,
              "ticks": ""
             }
            },
            "type": "scattergeo"
           }
          ],
          "scattergl": [
           {
            "marker": {
             "colorbar": {
              "outlinewidth": 0,
              "ticks": ""
             }
            },
            "type": "scattergl"
           }
          ],
          "scattermapbox": [
           {
            "marker": {
             "colorbar": {
              "outlinewidth": 0,
              "ticks": ""
             }
            },
            "type": "scattermapbox"
           }
          ],
          "scatterpolar": [
           {
            "marker": {
             "colorbar": {
              "outlinewidth": 0,
              "ticks": ""
             }
            },
            "type": "scatterpolar"
           }
          ],
          "scatterpolargl": [
           {
            "marker": {
             "colorbar": {
              "outlinewidth": 0,
              "ticks": ""
             }
            },
            "type": "scatterpolargl"
           }
          ],
          "scatterternary": [
           {
            "marker": {
             "colorbar": {
              "outlinewidth": 0,
              "ticks": ""
             }
            },
            "type": "scatterternary"
           }
          ],
          "surface": [
           {
            "colorbar": {
             "outlinewidth": 0,
             "ticks": ""
            },
            "colorscale": [
             [
              0,
              "#0d0887"
             ],
             [
              0.1111111111111111,
              "#46039f"
             ],
             [
              0.2222222222222222,
              "#7201a8"
             ],
             [
              0.3333333333333333,
              "#9c179e"
             ],
             [
              0.4444444444444444,
              "#bd3786"
             ],
             [
              0.5555555555555556,
              "#d8576b"
             ],
             [
              0.6666666666666666,
              "#ed7953"
             ],
             [
              0.7777777777777778,
              "#fb9f3a"
             ],
             [
              0.8888888888888888,
              "#fdca26"
             ],
             [
              1,
              "#f0f921"
             ]
            ],
            "type": "surface"
           }
          ],
          "table": [
           {
            "cells": {
             "fill": {
              "color": "#EBF0F8"
             },
             "line": {
              "color": "white"
             }
            },
            "header": {
             "fill": {
              "color": "#C8D4E3"
             },
             "line": {
              "color": "white"
             }
            },
            "type": "table"
           }
          ]
         },
         "layout": {
          "annotationdefaults": {
           "arrowcolor": "#2a3f5f",
           "arrowhead": 0,
           "arrowwidth": 1
          },
          "autotypenumbers": "strict",
          "coloraxis": {
           "colorbar": {
            "outlinewidth": 0,
            "ticks": ""
           }
          },
          "colorscale": {
           "diverging": [
            [
             0,
             "#8e0152"
            ],
            [
             0.1,
             "#c51b7d"
            ],
            [
             0.2,
             "#de77ae"
            ],
            [
             0.3,
             "#f1b6da"
            ],
            [
             0.4,
             "#fde0ef"
            ],
            [
             0.5,
             "#f7f7f7"
            ],
            [
             0.6,
             "#e6f5d0"
            ],
            [
             0.7,
             "#b8e186"
            ],
            [
             0.8,
             "#7fbc41"
            ],
            [
             0.9,
             "#4d9221"
            ],
            [
             1,
             "#276419"
            ]
           ],
           "sequential": [
            [
             0,
             "#0d0887"
            ],
            [
             0.1111111111111111,
             "#46039f"
            ],
            [
             0.2222222222222222,
             "#7201a8"
            ],
            [
             0.3333333333333333,
             "#9c179e"
            ],
            [
             0.4444444444444444,
             "#bd3786"
            ],
            [
             0.5555555555555556,
             "#d8576b"
            ],
            [
             0.6666666666666666,
             "#ed7953"
            ],
            [
             0.7777777777777778,
             "#fb9f3a"
            ],
            [
             0.8888888888888888,
             "#fdca26"
            ],
            [
             1,
             "#f0f921"
            ]
           ],
           "sequentialminus": [
            [
             0,
             "#0d0887"
            ],
            [
             0.1111111111111111,
             "#46039f"
            ],
            [
             0.2222222222222222,
             "#7201a8"
            ],
            [
             0.3333333333333333,
             "#9c179e"
            ],
            [
             0.4444444444444444,
             "#bd3786"
            ],
            [
             0.5555555555555556,
             "#d8576b"
            ],
            [
             0.6666666666666666,
             "#ed7953"
            ],
            [
             0.7777777777777778,
             "#fb9f3a"
            ],
            [
             0.8888888888888888,
             "#fdca26"
            ],
            [
             1,
             "#f0f921"
            ]
           ]
          },
          "colorway": [
           "#636efa",
           "#EF553B",
           "#00cc96",
           "#ab63fa",
           "#FFA15A",
           "#19d3f3",
           "#FF6692",
           "#B6E880",
           "#FF97FF",
           "#FECB52"
          ],
          "font": {
           "color": "#2a3f5f"
          },
          "geo": {
           "bgcolor": "white",
           "lakecolor": "white",
           "landcolor": "#E5ECF6",
           "showlakes": true,
           "showland": true,
           "subunitcolor": "white"
          },
          "hoverlabel": {
           "align": "left"
          },
          "hovermode": "closest",
          "mapbox": {
           "style": "light"
          },
          "paper_bgcolor": "white",
          "plot_bgcolor": "#E5ECF6",
          "polar": {
           "angularaxis": {
            "gridcolor": "white",
            "linecolor": "white",
            "ticks": ""
           },
           "bgcolor": "#E5ECF6",
           "radialaxis": {
            "gridcolor": "white",
            "linecolor": "white",
            "ticks": ""
           }
          },
          "scene": {
           "xaxis": {
            "backgroundcolor": "#E5ECF6",
            "gridcolor": "white",
            "gridwidth": 2,
            "linecolor": "white",
            "showbackground": true,
            "ticks": "",
            "zerolinecolor": "white"
           },
           "yaxis": {
            "backgroundcolor": "#E5ECF6",
            "gridcolor": "white",
            "gridwidth": 2,
            "linecolor": "white",
            "showbackground": true,
            "ticks": "",
            "zerolinecolor": "white"
           },
           "zaxis": {
            "backgroundcolor": "#E5ECF6",
            "gridcolor": "white",
            "gridwidth": 2,
            "linecolor": "white",
            "showbackground": true,
            "ticks": "",
            "zerolinecolor": "white"
           }
          },
          "shapedefaults": {
           "line": {
            "color": "#2a3f5f"
           }
          },
          "ternary": {
           "aaxis": {
            "gridcolor": "white",
            "linecolor": "white",
            "ticks": ""
           },
           "baxis": {
            "gridcolor": "white",
            "linecolor": "white",
            "ticks": ""
           },
           "bgcolor": "#E5ECF6",
           "caxis": {
            "gridcolor": "white",
            "linecolor": "white",
            "ticks": ""
           }
          },
          "title": {
           "x": 0.05
          },
          "xaxis": {
           "automargin": true,
           "gridcolor": "white",
           "linecolor": "white",
           "ticks": "",
           "title": {
            "standoff": 15
           },
           "zerolinecolor": "white",
           "zerolinewidth": 2
          },
          "yaxis": {
           "automargin": true,
           "gridcolor": "white",
           "linecolor": "white",
           "ticks": "",
           "title": {
            "standoff": 15
           },
           "zerolinecolor": "white",
           "zerolinewidth": 2
          }
         }
        },
        "title": {
         "text": "Plot of Mean and median differences of randomized weights for each verification method"
        },
        "xaxis": {
         "anchor": "y",
         "domain": [
          0,
          1
         ],
         "title": {
          "text": "value"
         }
        },
        "yaxis": {
         "anchor": "x",
         "domain": [
          0,
          1
         ],
         "title": {
          "text": "Weight_combination"
         }
        }
       }
      },
      "text/html": [
       "<div>                            <div id=\"4825a47e-1b74-4fe1-bf9f-13fe050b2090\" class=\"plotly-graph-div\" style=\"height:525px; width:100%;\"></div>            <script type=\"text/javascript\">                require([\"plotly\"], function(Plotly) {                    window.PLOTLYENV=window.PLOTLYENV || {};                                    if (document.getElementById(\"4825a47e-1b74-4fe1-bf9f-13fe050b2090\")) {                    Plotly.newPlot(                        \"4825a47e-1b74-4fe1-bf9f-13fe050b2090\",                        [{\"alignmentgroup\":\"True\",\"hovertemplate\":\"Class=Mean differences<br>value=%{x}<br>Weight_combination=%{y}<extra></extra>\",\"legendgroup\":\"Mean differences\",\"marker\":{\"color\":\"#636efa\",\"opacity\":0.9,\"pattern\":{\"shape\":\"\"}},\"name\":\"Mean differences\",\"offsetgroup\":\"Mean differences\",\"orientation\":\"h\",\"showlegend\":true,\"textposition\":\"auto\",\"type\":\"bar\",\"x\":[10.717067230301929,9.637036155708907,11.275982978961661,11.114353102560155,10.77505913970969,10.668292717067228,11.49371509357372,10.277270754888647,10.874343864167635,10.488745958203275,10.175249506585853,10.53493092201957,8.657969513304685,11.246448118027466,10.044715219551797],\"xaxis\":\"x\",\"y\":[\"16,2,3,3,14,13,16,17,16\",\"14,17,6,5,5,14,12,16,11\",\"14,6,4,9,15,15,13,12,12\",\"16,10,3,4,2,16,20,16,13\",\"3,2,15,9,4,16,13,17,19\",\"13,6,14,7,5,13,11,12,19\",\"5,3,13,8,15,14,14,13,15\",\"3,10,3,8,10,13,20,18,15\",\"3,9,16,3,11,12,17,13,16\",\"10,6,2,8,13,16,14,16,15\",\"4,11,6,2,10,17,18,14,18\",\"11,7,11,8,6,15,11,13,16\",\"6,12,4,3,3,13,17,19,21\",\"7,4,6,11,11,15,16,12,16\",\"14,9,5,8,4,17,11,12,18\"],\"yaxis\":\"y\"},{\"alignmentgroup\":\"True\",\"hovertemplate\":\"Class=Median differences<br>value=%{x}<br>Weight_combination=%{y}<extra></extra>\",\"legendgroup\":\"Median differences\",\"marker\":{\"color\":\"#EF553B\",\"opacity\":0.9,\"pattern\":{\"shape\":\"\"}},\"name\":\"Median differences\",\"offsetgroup\":\"Median differences\",\"orientation\":\"h\",\"showlegend\":true,\"textposition\":\"auto\",\"type\":\"bar\",\"x\":[16.0,18.0,23.0,26.0,17.0,19.0,22.0,20.0,23.0,18.0,23.0,16.0,18.0,19.0,17.0],\"xaxis\":\"x\",\"y\":[\"16,2,3,3,14,13,16,17,16\",\"14,17,6,5,5,14,12,16,11\",\"14,6,4,9,15,15,13,12,12\",\"16,10,3,4,2,16,20,16,13\",\"3,2,15,9,4,16,13,17,19\",\"13,6,14,7,5,13,11,12,19\",\"5,3,13,8,15,14,14,13,15\",\"3,10,3,8,10,13,20,18,15\",\"3,9,16,3,11,12,17,13,16\",\"10,6,2,8,13,16,14,16,15\",\"4,11,6,2,10,17,18,14,18\",\"11,7,11,8,6,15,11,13,16\",\"6,12,4,3,3,13,17,19,21\",\"7,4,6,11,11,15,16,12,16\",\"14,9,5,8,4,17,11,12,18\"],\"yaxis\":\"y\"}],                        {\"barmode\":\"group\",\"legend\":{\"title\":{\"text\":\"Class\"},\"tracegroupgap\":0},\"template\":{\"data\":{\"bar\":[{\"error_x\":{\"color\":\"#2a3f5f\"},\"error_y\":{\"color\":\"#2a3f5f\"},\"marker\":{\"line\":{\"color\":\"#E5ECF6\",\"width\":0.5},\"pattern\":{\"fillmode\":\"overlay\",\"size\":10,\"solidity\":0.2}},\"type\":\"bar\"}],\"barpolar\":[{\"marker\":{\"line\":{\"color\":\"#E5ECF6\",\"width\":0.5},\"pattern\":{\"fillmode\":\"overlay\",\"size\":10,\"solidity\":0.2}},\"type\":\"barpolar\"}],\"carpet\":[{\"aaxis\":{\"endlinecolor\":\"#2a3f5f\",\"gridcolor\":\"white\",\"linecolor\":\"white\",\"minorgridcolor\":\"white\",\"startlinecolor\":\"#2a3f5f\"},\"baxis\":{\"endlinecolor\":\"#2a3f5f\",\"gridcolor\":\"white\",\"linecolor\":\"white\",\"minorgridcolor\":\"white\",\"startlinecolor\":\"#2a3f5f\"},\"type\":\"carpet\"}],\"choropleth\":[{\"colorbar\":{\"outlinewidth\":0,\"ticks\":\"\"},\"type\":\"choropleth\"}],\"contour\":[{\"colorbar\":{\"outlinewidth\":0,\"ticks\":\"\"},\"colorscale\":[[0.0,\"#0d0887\"],[0.1111111111111111,\"#46039f\"],[0.2222222222222222,\"#7201a8\"],[0.3333333333333333,\"#9c179e\"],[0.4444444444444444,\"#bd3786\"],[0.5555555555555556,\"#d8576b\"],[0.6666666666666666,\"#ed7953\"],[0.7777777777777778,\"#fb9f3a\"],[0.8888888888888888,\"#fdca26\"],[1.0,\"#f0f921\"]],\"type\":\"contour\"}],\"contourcarpet\":[{\"colorbar\":{\"outlinewidth\":0,\"ticks\":\"\"},\"type\":\"contourcarpet\"}],\"heatmap\":[{\"colorbar\":{\"outlinewidth\":0,\"ticks\":\"\"},\"colorscale\":[[0.0,\"#0d0887\"],[0.1111111111111111,\"#46039f\"],[0.2222222222222222,\"#7201a8\"],[0.3333333333333333,\"#9c179e\"],[0.4444444444444444,\"#bd3786\"],[0.5555555555555556,\"#d8576b\"],[0.6666666666666666,\"#ed7953\"],[0.7777777777777778,\"#fb9f3a\"],[0.8888888888888888,\"#fdca26\"],[1.0,\"#f0f921\"]],\"type\":\"heatmap\"}],\"heatmapgl\":[{\"colorbar\":{\"outlinewidth\":0,\"ticks\":\"\"},\"colorscale\":[[0.0,\"#0d0887\"],[0.1111111111111111,\"#46039f\"],[0.2222222222222222,\"#7201a8\"],[0.3333333333333333,\"#9c179e\"],[0.4444444444444444,\"#bd3786\"],[0.5555555555555556,\"#d8576b\"],[0.6666666666666666,\"#ed7953\"],[0.7777777777777778,\"#fb9f3a\"],[0.8888888888888888,\"#fdca26\"],[1.0,\"#f0f921\"]],\"type\":\"heatmapgl\"}],\"histogram\":[{\"marker\":{\"pattern\":{\"fillmode\":\"overlay\",\"size\":10,\"solidity\":0.2}},\"type\":\"histogram\"}],\"histogram2d\":[{\"colorbar\":{\"outlinewidth\":0,\"ticks\":\"\"},\"colorscale\":[[0.0,\"#0d0887\"],[0.1111111111111111,\"#46039f\"],[0.2222222222222222,\"#7201a8\"],[0.3333333333333333,\"#9c179e\"],[0.4444444444444444,\"#bd3786\"],[0.5555555555555556,\"#d8576b\"],[0.6666666666666666,\"#ed7953\"],[0.7777777777777778,\"#fb9f3a\"],[0.8888888888888888,\"#fdca26\"],[1.0,\"#f0f921\"]],\"type\":\"histogram2d\"}],\"histogram2dcontour\":[{\"colorbar\":{\"outlinewidth\":0,\"ticks\":\"\"},\"colorscale\":[[0.0,\"#0d0887\"],[0.1111111111111111,\"#46039f\"],[0.2222222222222222,\"#7201a8\"],[0.3333333333333333,\"#9c179e\"],[0.4444444444444444,\"#bd3786\"],[0.5555555555555556,\"#d8576b\"],[0.6666666666666666,\"#ed7953\"],[0.7777777777777778,\"#fb9f3a\"],[0.8888888888888888,\"#fdca26\"],[1.0,\"#f0f921\"]],\"type\":\"histogram2dcontour\"}],\"mesh3d\":[{\"colorbar\":{\"outlinewidth\":0,\"ticks\":\"\"},\"type\":\"mesh3d\"}],\"parcoords\":[{\"line\":{\"colorbar\":{\"outlinewidth\":0,\"ticks\":\"\"}},\"type\":\"parcoords\"}],\"pie\":[{\"automargin\":true,\"type\":\"pie\"}],\"scatter\":[{\"marker\":{\"colorbar\":{\"outlinewidth\":0,\"ticks\":\"\"}},\"type\":\"scatter\"}],\"scatter3d\":[{\"line\":{\"colorbar\":{\"outlinewidth\":0,\"ticks\":\"\"}},\"marker\":{\"colorbar\":{\"outlinewidth\":0,\"ticks\":\"\"}},\"type\":\"scatter3d\"}],\"scattercarpet\":[{\"marker\":{\"colorbar\":{\"outlinewidth\":0,\"ticks\":\"\"}},\"type\":\"scattercarpet\"}],\"scattergeo\":[{\"marker\":{\"colorbar\":{\"outlinewidth\":0,\"ticks\":\"\"}},\"type\":\"scattergeo\"}],\"scattergl\":[{\"marker\":{\"colorbar\":{\"outlinewidth\":0,\"ticks\":\"\"}},\"type\":\"scattergl\"}],\"scattermapbox\":[{\"marker\":{\"colorbar\":{\"outlinewidth\":0,\"ticks\":\"\"}},\"type\":\"scattermapbox\"}],\"scatterpolar\":[{\"marker\":{\"colorbar\":{\"outlinewidth\":0,\"ticks\":\"\"}},\"type\":\"scatterpolar\"}],\"scatterpolargl\":[{\"marker\":{\"colorbar\":{\"outlinewidth\":0,\"ticks\":\"\"}},\"type\":\"scatterpolargl\"}],\"scatterternary\":[{\"marker\":{\"colorbar\":{\"outlinewidth\":0,\"ticks\":\"\"}},\"type\":\"scatterternary\"}],\"surface\":[{\"colorbar\":{\"outlinewidth\":0,\"ticks\":\"\"},\"colorscale\":[[0.0,\"#0d0887\"],[0.1111111111111111,\"#46039f\"],[0.2222222222222222,\"#7201a8\"],[0.3333333333333333,\"#9c179e\"],[0.4444444444444444,\"#bd3786\"],[0.5555555555555556,\"#d8576b\"],[0.6666666666666666,\"#ed7953\"],[0.7777777777777778,\"#fb9f3a\"],[0.8888888888888888,\"#fdca26\"],[1.0,\"#f0f921\"]],\"type\":\"surface\"}],\"table\":[{\"cells\":{\"fill\":{\"color\":\"#EBF0F8\"},\"line\":{\"color\":\"white\"}},\"header\":{\"fill\":{\"color\":\"#C8D4E3\"},\"line\":{\"color\":\"white\"}},\"type\":\"table\"}]},\"layout\":{\"annotationdefaults\":{\"arrowcolor\":\"#2a3f5f\",\"arrowhead\":0,\"arrowwidth\":1},\"autotypenumbers\":\"strict\",\"coloraxis\":{\"colorbar\":{\"outlinewidth\":0,\"ticks\":\"\"}},\"colorscale\":{\"diverging\":[[0,\"#8e0152\"],[0.1,\"#c51b7d\"],[0.2,\"#de77ae\"],[0.3,\"#f1b6da\"],[0.4,\"#fde0ef\"],[0.5,\"#f7f7f7\"],[0.6,\"#e6f5d0\"],[0.7,\"#b8e186\"],[0.8,\"#7fbc41\"],[0.9,\"#4d9221\"],[1,\"#276419\"]],\"sequential\":[[0.0,\"#0d0887\"],[0.1111111111111111,\"#46039f\"],[0.2222222222222222,\"#7201a8\"],[0.3333333333333333,\"#9c179e\"],[0.4444444444444444,\"#bd3786\"],[0.5555555555555556,\"#d8576b\"],[0.6666666666666666,\"#ed7953\"],[0.7777777777777778,\"#fb9f3a\"],[0.8888888888888888,\"#fdca26\"],[1.0,\"#f0f921\"]],\"sequentialminus\":[[0.0,\"#0d0887\"],[0.1111111111111111,\"#46039f\"],[0.2222222222222222,\"#7201a8\"],[0.3333333333333333,\"#9c179e\"],[0.4444444444444444,\"#bd3786\"],[0.5555555555555556,\"#d8576b\"],[0.6666666666666666,\"#ed7953\"],[0.7777777777777778,\"#fb9f3a\"],[0.8888888888888888,\"#fdca26\"],[1.0,\"#f0f921\"]]},\"colorway\":[\"#636efa\",\"#EF553B\",\"#00cc96\",\"#ab63fa\",\"#FFA15A\",\"#19d3f3\",\"#FF6692\",\"#B6E880\",\"#FF97FF\",\"#FECB52\"],\"font\":{\"color\":\"#2a3f5f\"},\"geo\":{\"bgcolor\":\"white\",\"lakecolor\":\"white\",\"landcolor\":\"#E5ECF6\",\"showlakes\":true,\"showland\":true,\"subunitcolor\":\"white\"},\"hoverlabel\":{\"align\":\"left\"},\"hovermode\":\"closest\",\"mapbox\":{\"style\":\"light\"},\"paper_bgcolor\":\"white\",\"plot_bgcolor\":\"#E5ECF6\",\"polar\":{\"angularaxis\":{\"gridcolor\":\"white\",\"linecolor\":\"white\",\"ticks\":\"\"},\"bgcolor\":\"#E5ECF6\",\"radialaxis\":{\"gridcolor\":\"white\",\"linecolor\":\"white\",\"ticks\":\"\"}},\"scene\":{\"xaxis\":{\"backgroundcolor\":\"#E5ECF6\",\"gridcolor\":\"white\",\"gridwidth\":2,\"linecolor\":\"white\",\"showbackground\":true,\"ticks\":\"\",\"zerolinecolor\":\"white\"},\"yaxis\":{\"backgroundcolor\":\"#E5ECF6\",\"gridcolor\":\"white\",\"gridwidth\":2,\"linecolor\":\"white\",\"showbackground\":true,\"ticks\":\"\",\"zerolinecolor\":\"white\"},\"zaxis\":{\"backgroundcolor\":\"#E5ECF6\",\"gridcolor\":\"white\",\"gridwidth\":2,\"linecolor\":\"white\",\"showbackground\":true,\"ticks\":\"\",\"zerolinecolor\":\"white\"}},\"shapedefaults\":{\"line\":{\"color\":\"#2a3f5f\"}},\"ternary\":{\"aaxis\":{\"gridcolor\":\"white\",\"linecolor\":\"white\",\"ticks\":\"\"},\"baxis\":{\"gridcolor\":\"white\",\"linecolor\":\"white\",\"ticks\":\"\"},\"bgcolor\":\"#E5ECF6\",\"caxis\":{\"gridcolor\":\"white\",\"linecolor\":\"white\",\"ticks\":\"\"}},\"title\":{\"x\":0.05},\"xaxis\":{\"automargin\":true,\"gridcolor\":\"white\",\"linecolor\":\"white\",\"ticks\":\"\",\"title\":{\"standoff\":15},\"zerolinecolor\":\"white\",\"zerolinewidth\":2},\"yaxis\":{\"automargin\":true,\"gridcolor\":\"white\",\"linecolor\":\"white\",\"ticks\":\"\",\"title\":{\"standoff\":15},\"zerolinecolor\":\"white\",\"zerolinewidth\":2}}},\"title\":{\"text\":\"Plot of Mean and median differences of randomized weights for each verification method\"},\"xaxis\":{\"anchor\":\"y\",\"domain\":[0.0,1.0],\"title\":{\"text\":\"value\"}},\"yaxis\":{\"anchor\":\"x\",\"domain\":[0.0,1.0],\"title\":{\"text\":\"Weight_combination\"}}},                        {\"responsive\": true}                    ).then(function(){\n",
       "                            \n",
       "var gd = document.getElementById('4825a47e-1b74-4fe1-bf9f-13fe050b2090');\n",
       "var x = new MutationObserver(function (mutations, observer) {{\n",
       "        var display = window.getComputedStyle(gd).display;\n",
       "        if (!display || display === 'none') {{\n",
       "            console.log([gd, 'removed!']);\n",
       "            Plotly.purge(gd);\n",
       "            observer.disconnect();\n",
       "        }}\n",
       "}});\n",
       "\n",
       "// Listen for the removal of the full notebook cells\n",
       "var notebookContainer = gd.closest('#notebook-container');\n",
       "if (notebookContainer) {{\n",
       "    x.observe(notebookContainer, {childList: true});\n",
       "}}\n",
       "\n",
       "// Listen for the clearing of the current output cell\n",
       "var outputEl = gd.closest('.output');\n",
       "if (outputEl) {{\n",
       "    x.observe(outputEl, {childList: true});\n",
       "}}\n",
       "\n",
       "                        })                };                });            </script>        </div>"
      ]
     },
     "metadata": {},
     "output_type": "display_data"
    }
   ],
   "source": [
    "barchart"
   ]
  },
  {
   "cell_type": "code",
   "execution_count": 406,
   "id": "acc448e2",
   "metadata": {},
   "outputs": [
    {
     "data": {
      "text/plain": [
       "[16, 2, 3, 3, 14, 13, 16, 17, 16]"
      ]
     },
     "execution_count": 406,
     "metadata": {},
     "output_type": "execute_result"
    }
   ],
   "source": [
    "diff.loc[0, \"Combination of weights\"]"
   ]
  },
  {
   "cell_type": "code",
   "execution_count": 409,
   "id": "76f20844",
   "metadata": {},
   "outputs": [],
   "source": [
    "combination = []"
   ]
  },
  {
   "cell_type": "code",
   "execution_count": 439,
   "id": "248e0b6f",
   "metadata": {},
   "outputs": [],
   "source": [
    "trust_scores = []\n",
    "\n",
    "trust_mean_differences = []\n",
    "\n",
    "trust_median_differences = []\n",
    "\n",
    "sybil_mean = []\n",
    "\n",
    "not_sybil_mean = []\n",
    "\n",
    "sybil_median = []\n",
    "\n",
    "not_sybil_median = []\n",
    "\n",
    "def calc_score_no_duniter(dfs):\n",
    "    \n",
    "    dff = dfs.copy()\n",
    "    \n",
    "    scores = random_with_patterns(4, 4)\n",
    "    \n",
    "    trust_scores.append([i for i in scores])\n",
    "    \n",
    "    total_score = []\n",
    "    \n",
    "    dff.is_brightid_verified = np.where(dff.is_brightid_verified == True, scores[0], 0)\n",
    "    \n",
    "    dff.is_twitter_verified = np.where(dff.is_twitter_verified == True, scores[1], 0)\n",
    "    \n",
    "    dff.is_google_verified = np.where(dff.is_google_verified == True, scores[2], 0)\n",
    "    \n",
    "    dff.is_facebook_verified = np.where(dff.is_facebook_verified == True, scores[3], 0)\n",
    "    \n",
    "    dff.is_poap_verified = np.where(dff.is_poap_verified == True, scores[4], 0)\n",
    "    \n",
    "    dff.is_ens_verified = np.where(dff.is_ens_verified == True, scores[5], 0)\n",
    "    \n",
    "    dff.is_poh_verified = np.where(dff.is_poh_verified == True, scores[6], 0)\n",
    "    \n",
    "    dff.is_idena_verified = np.where(dff.is_idena_verified == True, scores[7], 0)\n",
    "\n",
    "    \n",
    "    for row in range(dff.shape[0]):\n",
    "        total_score.append(sum(dff.loc[row, [\"is_brightid_verified\", \"is_twitter_verified\", \"is_poap_verified\",\n",
    "                             \"is_ens_verified\", \"is_google_verified\", 'is_facebook_verified', 'is_poh_verified', 'is_idena_verified']]))\n",
    "    \n",
    "    dff[\"total_score\"] = total_score\n",
    "    \n",
    "    sybil_mean_ = dff.groupby(\"Is Sybil? (T or F)\")[\"total_score\"].mean()[1]\n",
    "    not_sybil_mean_ = dff.groupby(\"Is Sybil? (T or F)\")[\"total_score\"].mean()[0]\n",
    "    \n",
    "    sybil_mean.append(sybil_mean_)\n",
    "    not_sybil_mean.append(not_sybil_mean_)\n",
    "    \n",
    "    sybil_median_ = dff.groupby(\"Is Sybil? (T or F)\")[\"total_score\"].median()[1]\n",
    "    not_sybil_median_ = dff.groupby(\"Is Sybil? (T or F)\")[\"total_score\"].median()[0]\n",
    "    \n",
    "    sybil_median.append(sybil_median_)\n",
    "    not_sybil_median.append(not_sybil_median_)\n",
    "    \n",
    "    trust_median_differences.append(abs(sybil_median_ - not_sybil_median_))\n",
    "    \n",
    "    trust_mean_differences.append(abs(sybil_mean_ - not_sybil_mean_))"
   ]
  },
  {
   "cell_type": "code",
   "execution_count": 440,
   "id": "eccbfd2c",
   "metadata": {},
   "outputs": [],
   "source": [
    "for i in range(15):\n",
    "    np.random.seed(i)\n",
    "    calc_score_no_duniter(df)"
   ]
  },
  {
   "cell_type": "code",
   "execution_count": 441,
   "id": "839d5eb2",
   "metadata": {},
   "outputs": [],
   "source": [
    "methods_no_duniter = [\"is_brightid_verified\",\"is_twitter_verified\",\n",
    " \"is_google_verified\",\"is_facebook_verified\",\"is_poap_verified\",\n",
    " \"is_ens_verified\" ,\"is_poh_verified\",\"is_idena_verified\"]\n",
    "\n",
    "Num_no_duniter = [i for i in range(8)]\n",
    "\n",
    "ref_2 = pd.DataFrame()\n",
    "ref_2[\"Methods\"] = methods_no_duniter\n",
    "ref_2[\"Weights_index\"] = Num_no_duniter"
   ]
  },
  {
   "cell_type": "code",
   "execution_count": 442,
   "id": "f699ca67",
   "metadata": {},
   "outputs": [
    {
     "data": {
      "text/html": [
       "<div>\n",
       "<style scoped>\n",
       "    .dataframe tbody tr th:only-of-type {\n",
       "        vertical-align: middle;\n",
       "    }\n",
       "\n",
       "    .dataframe tbody tr th {\n",
       "        vertical-align: top;\n",
       "    }\n",
       "\n",
       "    .dataframe thead th {\n",
       "        text-align: right;\n",
       "    }\n",
       "</style>\n",
       "<table border=\"1\" class=\"dataframe\">\n",
       "  <thead>\n",
       "    <tr style=\"text-align: right;\">\n",
       "      <th></th>\n",
       "      <th>Methods</th>\n",
       "      <th>Weights_index</th>\n",
       "    </tr>\n",
       "  </thead>\n",
       "  <tbody>\n",
       "    <tr>\n",
       "      <th>0</th>\n",
       "      <td>is_brightid_verified</td>\n",
       "      <td>0</td>\n",
       "    </tr>\n",
       "    <tr>\n",
       "      <th>1</th>\n",
       "      <td>is_twitter_verified</td>\n",
       "      <td>1</td>\n",
       "    </tr>\n",
       "    <tr>\n",
       "      <th>2</th>\n",
       "      <td>is_google_verified</td>\n",
       "      <td>2</td>\n",
       "    </tr>\n",
       "    <tr>\n",
       "      <th>3</th>\n",
       "      <td>is_facebook_verified</td>\n",
       "      <td>3</td>\n",
       "    </tr>\n",
       "    <tr>\n",
       "      <th>4</th>\n",
       "      <td>is_poap_verified</td>\n",
       "      <td>4</td>\n",
       "    </tr>\n",
       "    <tr>\n",
       "      <th>5</th>\n",
       "      <td>is_ens_verified</td>\n",
       "      <td>5</td>\n",
       "    </tr>\n",
       "    <tr>\n",
       "      <th>6</th>\n",
       "      <td>is_poh_verified</td>\n",
       "      <td>6</td>\n",
       "    </tr>\n",
       "    <tr>\n",
       "      <th>7</th>\n",
       "      <td>is_idena_verified</td>\n",
       "      <td>7</td>\n",
       "    </tr>\n",
       "  </tbody>\n",
       "</table>\n",
       "</div>"
      ],
      "text/plain": [
       "                Methods  Weights_index\n",
       "0  is_brightid_verified              0\n",
       "1   is_twitter_verified              1\n",
       "2    is_google_verified              2\n",
       "3  is_facebook_verified              3\n",
       "4      is_poap_verified              4\n",
       "5       is_ens_verified              5\n",
       "6       is_poh_verified              6\n",
       "7     is_idena_verified              7"
      ]
     },
     "execution_count": 442,
     "metadata": {},
     "output_type": "execute_result"
    }
   ],
   "source": [
    "ref_2"
   ]
  },
  {
   "cell_type": "code",
   "execution_count": 443,
   "id": "d56b7551",
   "metadata": {},
   "outputs": [],
   "source": [
    "## Convert the output to a dataframe for easy overview.\n",
    "diff2 = pd.DataFrame()\n",
    "diff2[\"Combination of weights\"] = trust_scores\n",
    "diff2[\"Sybil mean\"] = sybil_mean\n",
    "diff2[\"not_sybil mean\"] = not_sybil_mean\n",
    "diff2[\"Mean differences\"] = trust_mean_differences\n",
    "diff2[\"Sybil median\"] = sybil_median\n",
    "diff2[\"not_sybil median\"] = not_sybil_median\n",
    "diff2[\"Median differences\"] = trust_median_differences"
   ]
  },
  {
   "cell_type": "code",
   "execution_count": 448,
   "id": "ae049a37",
   "metadata": {},
   "outputs": [
    {
     "data": {
      "text/html": [
       "<div>\n",
       "<style scoped>\n",
       "    .dataframe tbody tr th:only-of-type {\n",
       "        vertical-align: middle;\n",
       "    }\n",
       "\n",
       "    .dataframe tbody tr th {\n",
       "        vertical-align: top;\n",
       "    }\n",
       "\n",
       "    .dataframe thead th {\n",
       "        text-align: right;\n",
       "    }\n",
       "</style>\n",
       "<table border=\"1\" class=\"dataframe\">\n",
       "  <thead>\n",
       "    <tr style=\"text-align: right;\">\n",
       "      <th></th>\n",
       "      <th>Combination of weights</th>\n",
       "      <th>Sybil mean</th>\n",
       "      <th>not_sybil mean</th>\n",
       "      <th>Mean differences</th>\n",
       "      <th>Sybil median</th>\n",
       "      <th>not_sybil median</th>\n",
       "      <th>Median differences</th>\n",
       "      <th>Weight_combination</th>\n",
       "    </tr>\n",
       "  </thead>\n",
       "  <tbody>\n",
       "    <tr>\n",
       "      <th>0</th>\n",
       "      <td>[11, 8, 12, 8, 19, 16, 15, 11]</td>\n",
       "      <td>22.217270</td>\n",
       "      <td>34.987437</td>\n",
       "      <td>12.770167</td>\n",
       "      <td>19.0</td>\n",
       "      <td>39.0</td>\n",
       "      <td>20.0</td>\n",
       "      <td>11,8,12,8,19,16,15,11</td>\n",
       "    </tr>\n",
       "    <tr>\n",
       "      <th>1</th>\n",
       "      <td>[17, 10, 6, 9, 13, 19, 12, 14]</td>\n",
       "      <td>20.339833</td>\n",
       "      <td>32.972362</td>\n",
       "      <td>12.632529</td>\n",
       "      <td>15.0</td>\n",
       "      <td>36.0</td>\n",
       "      <td>21.0</td>\n",
       "      <td>17,10,6,9,13,19,12,14</td>\n",
       "    </tr>\n",
       "    <tr>\n",
       "      <th>2</th>\n",
       "      <td>[15, 17, 6, 5, 14, 15, 12, 16]</td>\n",
       "      <td>18.899721</td>\n",
       "      <td>31.306533</td>\n",
       "      <td>12.406811</td>\n",
       "      <td>14.0</td>\n",
       "      <td>35.0</td>\n",
       "      <td>21.0</td>\n",
       "      <td>15,17,6,5,14,15,12,16</td>\n",
       "    </tr>\n",
       "    <tr>\n",
       "      <th>3</th>\n",
       "      <td>[15, 7, 16, 8, 14, 14, 12, 14]</td>\n",
       "      <td>23.197772</td>\n",
       "      <td>35.540201</td>\n",
       "      <td>12.342429</td>\n",
       "      <td>16.0</td>\n",
       "      <td>39.0</td>\n",
       "      <td>23.0</td>\n",
       "      <td>15,7,16,8,14,14,12,14</td>\n",
       "    </tr>\n",
       "    <tr>\n",
       "      <th>4</th>\n",
       "      <td>[3, 9, 17, 4, 21, 14, 18, 14]</td>\n",
       "      <td>21.830084</td>\n",
       "      <td>33.997487</td>\n",
       "      <td>12.167404</td>\n",
       "      <td>20.0</td>\n",
       "      <td>36.5</td>\n",
       "      <td>16.5</td>\n",
       "      <td>3,9,17,4,21,14,18,14</td>\n",
       "    </tr>\n",
       "    <tr>\n",
       "      <th>5</th>\n",
       "      <td>[16, 7, 5, 10, 15, 18, 15, 14]</td>\n",
       "      <td>19.738162</td>\n",
       "      <td>31.844221</td>\n",
       "      <td>12.106060</td>\n",
       "      <td>15.0</td>\n",
       "      <td>34.0</td>\n",
       "      <td>19.0</td>\n",
       "      <td>16,7,5,10,15,18,15,14</td>\n",
       "    </tr>\n",
       "    <tr>\n",
       "      <th>6</th>\n",
       "      <td>[11, 8, 2, 9, 17, 19, 13, 19]</td>\n",
       "      <td>17.629526</td>\n",
       "      <td>29.195980</td>\n",
       "      <td>11.566453</td>\n",
       "      <td>11.0</td>\n",
       "      <td>31.0</td>\n",
       "      <td>20.0</td>\n",
       "      <td>11,8,2,9,17,19,13,19</td>\n",
       "    </tr>\n",
       "    <tr>\n",
       "      <th>7</th>\n",
       "      <td>[5, 5, 15, 10, 15, 16, 17, 15]</td>\n",
       "      <td>21.119777</td>\n",
       "      <td>32.527638</td>\n",
       "      <td>11.407861</td>\n",
       "      <td>15.0</td>\n",
       "      <td>36.0</td>\n",
       "      <td>21.0</td>\n",
       "      <td>5,5,15,10,15,16,17,15</td>\n",
       "    </tr>\n",
       "    <tr>\n",
       "      <th>8</th>\n",
       "      <td>[5, 14, 7, 2, 16, 17, 20, 19]</td>\n",
       "      <td>16.791086</td>\n",
       "      <td>28.110553</td>\n",
       "      <td>11.319466</td>\n",
       "      <td>9.0</td>\n",
       "      <td>29.0</td>\n",
       "      <td>20.0</td>\n",
       "      <td>5,14,7,2,16,17,20,19</td>\n",
       "    </tr>\n",
       "    <tr>\n",
       "      <th>9</th>\n",
       "      <td>[4, 2, 17, 10, 14, 18, 14, 21]</td>\n",
       "      <td>21.782730</td>\n",
       "      <td>33.055276</td>\n",
       "      <td>11.272547</td>\n",
       "      <td>17.0</td>\n",
       "      <td>35.0</td>\n",
       "      <td>18.0</td>\n",
       "      <td>4,2,17,10,14,18,14,21</td>\n",
       "    </tr>\n",
       "    <tr>\n",
       "      <th>10</th>\n",
       "      <td>[16, 10, 3, 5, 10, 18, 21, 17]</td>\n",
       "      <td>16.428969</td>\n",
       "      <td>27.402010</td>\n",
       "      <td>10.973041</td>\n",
       "      <td>10.0</td>\n",
       "      <td>30.0</td>\n",
       "      <td>20.0</td>\n",
       "      <td>16,10,3,5,10,18,21,17</td>\n",
       "    </tr>\n",
       "    <tr>\n",
       "      <th>11</th>\n",
       "      <td>[7, 15, 5, 3, 15, 15, 19, 21]</td>\n",
       "      <td>15.835655</td>\n",
       "      <td>26.721106</td>\n",
       "      <td>10.885451</td>\n",
       "      <td>8.0</td>\n",
       "      <td>30.0</td>\n",
       "      <td>22.0</td>\n",
       "      <td>7,15,5,3,15,15,19,21</td>\n",
       "    </tr>\n",
       "    <tr>\n",
       "      <th>12</th>\n",
       "      <td>[8, 5, 6, 15, 11, 18, 20, 15]</td>\n",
       "      <td>17.944290</td>\n",
       "      <td>28.643216</td>\n",
       "      <td>10.698926</td>\n",
       "      <td>11.0</td>\n",
       "      <td>32.0</td>\n",
       "      <td>21.0</td>\n",
       "      <td>8,5,6,15,11,18,20,15</td>\n",
       "    </tr>\n",
       "    <tr>\n",
       "      <th>13</th>\n",
       "      <td>[3, 11, 3, 9, 19, 14, 21, 20]</td>\n",
       "      <td>15.607242</td>\n",
       "      <td>26.092965</td>\n",
       "      <td>10.485722</td>\n",
       "      <td>6.0</td>\n",
       "      <td>28.0</td>\n",
       "      <td>22.0</td>\n",
       "      <td>3,11,3,9,19,14,21,20</td>\n",
       "    </tr>\n",
       "    <tr>\n",
       "      <th>14</th>\n",
       "      <td>[20, 2, 3, 3, 15, 16, 20, 21]</td>\n",
       "      <td>16.902507</td>\n",
       "      <td>27.248744</td>\n",
       "      <td>10.346237</td>\n",
       "      <td>6.0</td>\n",
       "      <td>31.0</td>\n",
       "      <td>25.0</td>\n",
       "      <td>20,2,3,3,15,16,20,21</td>\n",
       "    </tr>\n",
       "  </tbody>\n",
       "</table>\n",
       "</div>"
      ],
      "text/plain": [
       "            Combination of weights  Sybil mean  not_sybil mean  \\\n",
       "0   [11, 8, 12, 8, 19, 16, 15, 11]   22.217270       34.987437   \n",
       "1   [17, 10, 6, 9, 13, 19, 12, 14]   20.339833       32.972362   \n",
       "2   [15, 17, 6, 5, 14, 15, 12, 16]   18.899721       31.306533   \n",
       "3   [15, 7, 16, 8, 14, 14, 12, 14]   23.197772       35.540201   \n",
       "4    [3, 9, 17, 4, 21, 14, 18, 14]   21.830084       33.997487   \n",
       "5   [16, 7, 5, 10, 15, 18, 15, 14]   19.738162       31.844221   \n",
       "6    [11, 8, 2, 9, 17, 19, 13, 19]   17.629526       29.195980   \n",
       "7   [5, 5, 15, 10, 15, 16, 17, 15]   21.119777       32.527638   \n",
       "8    [5, 14, 7, 2, 16, 17, 20, 19]   16.791086       28.110553   \n",
       "9   [4, 2, 17, 10, 14, 18, 14, 21]   21.782730       33.055276   \n",
       "10  [16, 10, 3, 5, 10, 18, 21, 17]   16.428969       27.402010   \n",
       "11   [7, 15, 5, 3, 15, 15, 19, 21]   15.835655       26.721106   \n",
       "12   [8, 5, 6, 15, 11, 18, 20, 15]   17.944290       28.643216   \n",
       "13   [3, 11, 3, 9, 19, 14, 21, 20]   15.607242       26.092965   \n",
       "14   [20, 2, 3, 3, 15, 16, 20, 21]   16.902507       27.248744   \n",
       "\n",
       "    Mean differences  Sybil median  not_sybil median  Median differences  \\\n",
       "0          12.770167          19.0              39.0                20.0   \n",
       "1          12.632529          15.0              36.0                21.0   \n",
       "2          12.406811          14.0              35.0                21.0   \n",
       "3          12.342429          16.0              39.0                23.0   \n",
       "4          12.167404          20.0              36.5                16.5   \n",
       "5          12.106060          15.0              34.0                19.0   \n",
       "6          11.566453          11.0              31.0                20.0   \n",
       "7          11.407861          15.0              36.0                21.0   \n",
       "8          11.319466           9.0              29.0                20.0   \n",
       "9          11.272547          17.0              35.0                18.0   \n",
       "10         10.973041          10.0              30.0                20.0   \n",
       "11         10.885451           8.0              30.0                22.0   \n",
       "12         10.698926          11.0              32.0                21.0   \n",
       "13         10.485722           6.0              28.0                22.0   \n",
       "14         10.346237           6.0              31.0                25.0   \n",
       "\n",
       "       Weight_combination  \n",
       "0   11,8,12,8,19,16,15,11  \n",
       "1   17,10,6,9,13,19,12,14  \n",
       "2   15,17,6,5,14,15,12,16  \n",
       "3   15,7,16,8,14,14,12,14  \n",
       "4    3,9,17,4,21,14,18,14  \n",
       "5   16,7,5,10,15,18,15,14  \n",
       "6    11,8,2,9,17,19,13,19  \n",
       "7   5,5,15,10,15,16,17,15  \n",
       "8    5,14,7,2,16,17,20,19  \n",
       "9   4,2,17,10,14,18,14,21  \n",
       "10  16,10,3,5,10,18,21,17  \n",
       "11   7,15,5,3,15,15,19,21  \n",
       "12   8,5,6,15,11,18,20,15  \n",
       "13   3,11,3,9,19,14,21,20  \n",
       "14   20,2,3,3,15,16,20,21  "
      ]
     },
     "execution_count": 448,
     "metadata": {},
     "output_type": "execute_result"
    }
   ],
   "source": [
    "diff2.sort_values(by=[\"Mean differences\", \"Median differences\"], ascending=False).reset_index(drop=True)"
   ]
  },
  {
   "cell_type": "code",
   "execution_count": 445,
   "id": "0fcd7f95",
   "metadata": {},
   "outputs": [],
   "source": [
    "combination = []\n",
    "\n",
    "for i in range(diff2.shape[0]):\n",
    "    string = \",\".join([str(item) for item in diff2.loc[i, \"Combination of weights\"]])\n",
    "    combination.append(string)\n",
    "    \n",
    "diff2[\"Weight_combination\"] = combination"
   ]
  },
  {
   "cell_type": "code",
   "execution_count": 446,
   "id": "f49b19c5",
   "metadata": {},
   "outputs": [],
   "source": [
    "import plotly.express as px\n",
    "barchart = px.bar(data_frame= diff2,\n",
    "                 y= \"Weight_combination\",\n",
    "                 x= [diff2[\"Mean differences\"], diff2[\"Median differences\"]],\n",
    "                 #color=\"counts\",\n",
    "                 opacity=0.9,\n",
    "                 orientation=\"h\",\n",
    "                  color_continuous_scale=px.colors.diverging.Spectral,\n",
    "                  barmode=\"group\",\n",
    "                  title=\"Plot of Mean and median differences of randomized weights for each verification method (No Duniter)\",\n",
    "                  labels={\"variable\": \"Class\",\n",
    "                         \"x\": \"Methods\", \n",
    "                         \"true_counts\": \"True\",\n",
    "                         \"false_counts\": \"False\"}\n",
    "                  #text= verify.counts_True, verify.counts_False\n",
    "                 #color_discrete_sequence=[\"darkorange\", \"lightblue\"]\n",
    "                 ) \n",
    "\n",
    "#barchart.update_layout(yaxis = dict(tickmode = 'array', ticktext = [i for i in diff[\"Combination of weights\"]]))"
   ]
  },
  {
   "cell_type": "code",
   "execution_count": 447,
   "id": "a78ba716",
   "metadata": {
    "collapsed": true
   },
   "outputs": [
    {
     "data": {
      "application/vnd.plotly.v1+json": {
       "config": {
        "plotlyServerURL": "https://plot.ly"
       },
       "data": [
        {
         "alignmentgroup": "True",
         "hovertemplate": "Class=Mean differences<br>value=%{x}<br>Weight_combination=%{y}<extra></extra>",
         "legendgroup": "Mean differences",
         "marker": {
          "color": "#636efa",
          "opacity": 0.9,
          "pattern": {
           "shape": ""
          }
         },
         "name": "Mean differences",
         "offsetgroup": "Mean differences",
         "orientation": "h",
         "showlegend": true,
         "textposition": "auto",
         "type": "bar",
         "x": [
          10.346236754804664,
          12.406811214848616,
          12.10605954563906,
          10.973040690919781,
          11.272546576895621,
          12.34242941728139,
          11.407861032180403,
          10.485722484287734,
          12.167403871726322,
          11.566453437101945,
          11.319466412844168,
          12.77016699094358,
          10.885450931537912,
          10.698926386808694,
          12.632528939964445
         ],
         "xaxis": "x",
         "y": [
          "20,2,3,3,15,16,20,21",
          "15,17,6,5,14,15,12,16",
          "16,7,5,10,15,18,15,14",
          "16,10,3,5,10,18,21,17",
          "4,2,17,10,14,18,14,21",
          "15,7,16,8,14,14,12,14",
          "5,5,15,10,15,16,17,15",
          "3,11,3,9,19,14,21,20",
          "3,9,17,4,21,14,18,14",
          "11,8,2,9,17,19,13,19",
          "5,14,7,2,16,17,20,19",
          "11,8,12,8,19,16,15,11",
          "7,15,5,3,15,15,19,21",
          "8,5,6,15,11,18,20,15",
          "17,10,6,9,13,19,12,14"
         ],
         "yaxis": "y"
        },
        {
         "alignmentgroup": "True",
         "hovertemplate": "Class=Median differences<br>value=%{x}<br>Weight_combination=%{y}<extra></extra>",
         "legendgroup": "Median differences",
         "marker": {
          "color": "#EF553B",
          "opacity": 0.9,
          "pattern": {
           "shape": ""
          }
         },
         "name": "Median differences",
         "offsetgroup": "Median differences",
         "orientation": "h",
         "showlegend": true,
         "textposition": "auto",
         "type": "bar",
         "x": [
          25,
          21,
          19,
          20,
          18,
          23,
          21,
          22,
          16.5,
          20,
          20,
          20,
          22,
          21,
          21
         ],
         "xaxis": "x",
         "y": [
          "20,2,3,3,15,16,20,21",
          "15,17,6,5,14,15,12,16",
          "16,7,5,10,15,18,15,14",
          "16,10,3,5,10,18,21,17",
          "4,2,17,10,14,18,14,21",
          "15,7,16,8,14,14,12,14",
          "5,5,15,10,15,16,17,15",
          "3,11,3,9,19,14,21,20",
          "3,9,17,4,21,14,18,14",
          "11,8,2,9,17,19,13,19",
          "5,14,7,2,16,17,20,19",
          "11,8,12,8,19,16,15,11",
          "7,15,5,3,15,15,19,21",
          "8,5,6,15,11,18,20,15",
          "17,10,6,9,13,19,12,14"
         ],
         "yaxis": "y"
        }
       ],
       "layout": {
        "barmode": "group",
        "legend": {
         "title": {
          "text": "Class"
         },
         "tracegroupgap": 0
        },
        "template": {
         "data": {
          "bar": [
           {
            "error_x": {
             "color": "#2a3f5f"
            },
            "error_y": {
             "color": "#2a3f5f"
            },
            "marker": {
             "line": {
              "color": "#E5ECF6",
              "width": 0.5
             },
             "pattern": {
              "fillmode": "overlay",
              "size": 10,
              "solidity": 0.2
             }
            },
            "type": "bar"
           }
          ],
          "barpolar": [
           {
            "marker": {
             "line": {
              "color": "#E5ECF6",
              "width": 0.5
             },
             "pattern": {
              "fillmode": "overlay",
              "size": 10,
              "solidity": 0.2
             }
            },
            "type": "barpolar"
           }
          ],
          "carpet": [
           {
            "aaxis": {
             "endlinecolor": "#2a3f5f",
             "gridcolor": "white",
             "linecolor": "white",
             "minorgridcolor": "white",
             "startlinecolor": "#2a3f5f"
            },
            "baxis": {
             "endlinecolor": "#2a3f5f",
             "gridcolor": "white",
             "linecolor": "white",
             "minorgridcolor": "white",
             "startlinecolor": "#2a3f5f"
            },
            "type": "carpet"
           }
          ],
          "choropleth": [
           {
            "colorbar": {
             "outlinewidth": 0,
             "ticks": ""
            },
            "type": "choropleth"
           }
          ],
          "contour": [
           {
            "colorbar": {
             "outlinewidth": 0,
             "ticks": ""
            },
            "colorscale": [
             [
              0,
              "#0d0887"
             ],
             [
              0.1111111111111111,
              "#46039f"
             ],
             [
              0.2222222222222222,
              "#7201a8"
             ],
             [
              0.3333333333333333,
              "#9c179e"
             ],
             [
              0.4444444444444444,
              "#bd3786"
             ],
             [
              0.5555555555555556,
              "#d8576b"
             ],
             [
              0.6666666666666666,
              "#ed7953"
             ],
             [
              0.7777777777777778,
              "#fb9f3a"
             ],
             [
              0.8888888888888888,
              "#fdca26"
             ],
             [
              1,
              "#f0f921"
             ]
            ],
            "type": "contour"
           }
          ],
          "contourcarpet": [
           {
            "colorbar": {
             "outlinewidth": 0,
             "ticks": ""
            },
            "type": "contourcarpet"
           }
          ],
          "heatmap": [
           {
            "colorbar": {
             "outlinewidth": 0,
             "ticks": ""
            },
            "colorscale": [
             [
              0,
              "#0d0887"
             ],
             [
              0.1111111111111111,
              "#46039f"
             ],
             [
              0.2222222222222222,
              "#7201a8"
             ],
             [
              0.3333333333333333,
              "#9c179e"
             ],
             [
              0.4444444444444444,
              "#bd3786"
             ],
             [
              0.5555555555555556,
              "#d8576b"
             ],
             [
              0.6666666666666666,
              "#ed7953"
             ],
             [
              0.7777777777777778,
              "#fb9f3a"
             ],
             [
              0.8888888888888888,
              "#fdca26"
             ],
             [
              1,
              "#f0f921"
             ]
            ],
            "type": "heatmap"
           }
          ],
          "heatmapgl": [
           {
            "colorbar": {
             "outlinewidth": 0,
             "ticks": ""
            },
            "colorscale": [
             [
              0,
              "#0d0887"
             ],
             [
              0.1111111111111111,
              "#46039f"
             ],
             [
              0.2222222222222222,
              "#7201a8"
             ],
             [
              0.3333333333333333,
              "#9c179e"
             ],
             [
              0.4444444444444444,
              "#bd3786"
             ],
             [
              0.5555555555555556,
              "#d8576b"
             ],
             [
              0.6666666666666666,
              "#ed7953"
             ],
             [
              0.7777777777777778,
              "#fb9f3a"
             ],
             [
              0.8888888888888888,
              "#fdca26"
             ],
             [
              1,
              "#f0f921"
             ]
            ],
            "type": "heatmapgl"
           }
          ],
          "histogram": [
           {
            "marker": {
             "pattern": {
              "fillmode": "overlay",
              "size": 10,
              "solidity": 0.2
             }
            },
            "type": "histogram"
           }
          ],
          "histogram2d": [
           {
            "colorbar": {
             "outlinewidth": 0,
             "ticks": ""
            },
            "colorscale": [
             [
              0,
              "#0d0887"
             ],
             [
              0.1111111111111111,
              "#46039f"
             ],
             [
              0.2222222222222222,
              "#7201a8"
             ],
             [
              0.3333333333333333,
              "#9c179e"
             ],
             [
              0.4444444444444444,
              "#bd3786"
             ],
             [
              0.5555555555555556,
              "#d8576b"
             ],
             [
              0.6666666666666666,
              "#ed7953"
             ],
             [
              0.7777777777777778,
              "#fb9f3a"
             ],
             [
              0.8888888888888888,
              "#fdca26"
             ],
             [
              1,
              "#f0f921"
             ]
            ],
            "type": "histogram2d"
           }
          ],
          "histogram2dcontour": [
           {
            "colorbar": {
             "outlinewidth": 0,
             "ticks": ""
            },
            "colorscale": [
             [
              0,
              "#0d0887"
             ],
             [
              0.1111111111111111,
              "#46039f"
             ],
             [
              0.2222222222222222,
              "#7201a8"
             ],
             [
              0.3333333333333333,
              "#9c179e"
             ],
             [
              0.4444444444444444,
              "#bd3786"
             ],
             [
              0.5555555555555556,
              "#d8576b"
             ],
             [
              0.6666666666666666,
              "#ed7953"
             ],
             [
              0.7777777777777778,
              "#fb9f3a"
             ],
             [
              0.8888888888888888,
              "#fdca26"
             ],
             [
              1,
              "#f0f921"
             ]
            ],
            "type": "histogram2dcontour"
           }
          ],
          "mesh3d": [
           {
            "colorbar": {
             "outlinewidth": 0,
             "ticks": ""
            },
            "type": "mesh3d"
           }
          ],
          "parcoords": [
           {
            "line": {
             "colorbar": {
              "outlinewidth": 0,
              "ticks": ""
             }
            },
            "type": "parcoords"
           }
          ],
          "pie": [
           {
            "automargin": true,
            "type": "pie"
           }
          ],
          "scatter": [
           {
            "marker": {
             "colorbar": {
              "outlinewidth": 0,
              "ticks": ""
             }
            },
            "type": "scatter"
           }
          ],
          "scatter3d": [
           {
            "line": {
             "colorbar": {
              "outlinewidth": 0,
              "ticks": ""
             }
            },
            "marker": {
             "colorbar": {
              "outlinewidth": 0,
              "ticks": ""
             }
            },
            "type": "scatter3d"
           }
          ],
          "scattercarpet": [
           {
            "marker": {
             "colorbar": {
              "outlinewidth": 0,
              "ticks": ""
             }
            },
            "type": "scattercarpet"
           }
          ],
          "scattergeo": [
           {
            "marker": {
             "colorbar": {
              "outlinewidth": 0,
              "ticks": ""
             }
            },
            "type": "scattergeo"
           }
          ],
          "scattergl": [
           {
            "marker": {
             "colorbar": {
              "outlinewidth": 0,
              "ticks": ""
             }
            },
            "type": "scattergl"
           }
          ],
          "scattermapbox": [
           {
            "marker": {
             "colorbar": {
              "outlinewidth": 0,
              "ticks": ""
             }
            },
            "type": "scattermapbox"
           }
          ],
          "scatterpolar": [
           {
            "marker": {
             "colorbar": {
              "outlinewidth": 0,
              "ticks": ""
             }
            },
            "type": "scatterpolar"
           }
          ],
          "scatterpolargl": [
           {
            "marker": {
             "colorbar": {
              "outlinewidth": 0,
              "ticks": ""
             }
            },
            "type": "scatterpolargl"
           }
          ],
          "scatterternary": [
           {
            "marker": {
             "colorbar": {
              "outlinewidth": 0,
              "ticks": ""
             }
            },
            "type": "scatterternary"
           }
          ],
          "surface": [
           {
            "colorbar": {
             "outlinewidth": 0,
             "ticks": ""
            },
            "colorscale": [
             [
              0,
              "#0d0887"
             ],
             [
              0.1111111111111111,
              "#46039f"
             ],
             [
              0.2222222222222222,
              "#7201a8"
             ],
             [
              0.3333333333333333,
              "#9c179e"
             ],
             [
              0.4444444444444444,
              "#bd3786"
             ],
             [
              0.5555555555555556,
              "#d8576b"
             ],
             [
              0.6666666666666666,
              "#ed7953"
             ],
             [
              0.7777777777777778,
              "#fb9f3a"
             ],
             [
              0.8888888888888888,
              "#fdca26"
             ],
             [
              1,
              "#f0f921"
             ]
            ],
            "type": "surface"
           }
          ],
          "table": [
           {
            "cells": {
             "fill": {
              "color": "#EBF0F8"
             },
             "line": {
              "color": "white"
             }
            },
            "header": {
             "fill": {
              "color": "#C8D4E3"
             },
             "line": {
              "color": "white"
             }
            },
            "type": "table"
           }
          ]
         },
         "layout": {
          "annotationdefaults": {
           "arrowcolor": "#2a3f5f",
           "arrowhead": 0,
           "arrowwidth": 1
          },
          "autotypenumbers": "strict",
          "coloraxis": {
           "colorbar": {
            "outlinewidth": 0,
            "ticks": ""
           }
          },
          "colorscale": {
           "diverging": [
            [
             0,
             "#8e0152"
            ],
            [
             0.1,
             "#c51b7d"
            ],
            [
             0.2,
             "#de77ae"
            ],
            [
             0.3,
             "#f1b6da"
            ],
            [
             0.4,
             "#fde0ef"
            ],
            [
             0.5,
             "#f7f7f7"
            ],
            [
             0.6,
             "#e6f5d0"
            ],
            [
             0.7,
             "#b8e186"
            ],
            [
             0.8,
             "#7fbc41"
            ],
            [
             0.9,
             "#4d9221"
            ],
            [
             1,
             "#276419"
            ]
           ],
           "sequential": [
            [
             0,
             "#0d0887"
            ],
            [
             0.1111111111111111,
             "#46039f"
            ],
            [
             0.2222222222222222,
             "#7201a8"
            ],
            [
             0.3333333333333333,
             "#9c179e"
            ],
            [
             0.4444444444444444,
             "#bd3786"
            ],
            [
             0.5555555555555556,
             "#d8576b"
            ],
            [
             0.6666666666666666,
             "#ed7953"
            ],
            [
             0.7777777777777778,
             "#fb9f3a"
            ],
            [
             0.8888888888888888,
             "#fdca26"
            ],
            [
             1,
             "#f0f921"
            ]
           ],
           "sequentialminus": [
            [
             0,
             "#0d0887"
            ],
            [
             0.1111111111111111,
             "#46039f"
            ],
            [
             0.2222222222222222,
             "#7201a8"
            ],
            [
             0.3333333333333333,
             "#9c179e"
            ],
            [
             0.4444444444444444,
             "#bd3786"
            ],
            [
             0.5555555555555556,
             "#d8576b"
            ],
            [
             0.6666666666666666,
             "#ed7953"
            ],
            [
             0.7777777777777778,
             "#fb9f3a"
            ],
            [
             0.8888888888888888,
             "#fdca26"
            ],
            [
             1,
             "#f0f921"
            ]
           ]
          },
          "colorway": [
           "#636efa",
           "#EF553B",
           "#00cc96",
           "#ab63fa",
           "#FFA15A",
           "#19d3f3",
           "#FF6692",
           "#B6E880",
           "#FF97FF",
           "#FECB52"
          ],
          "font": {
           "color": "#2a3f5f"
          },
          "geo": {
           "bgcolor": "white",
           "lakecolor": "white",
           "landcolor": "#E5ECF6",
           "showlakes": true,
           "showland": true,
           "subunitcolor": "white"
          },
          "hoverlabel": {
           "align": "left"
          },
          "hovermode": "closest",
          "mapbox": {
           "style": "light"
          },
          "paper_bgcolor": "white",
          "plot_bgcolor": "#E5ECF6",
          "polar": {
           "angularaxis": {
            "gridcolor": "white",
            "linecolor": "white",
            "ticks": ""
           },
           "bgcolor": "#E5ECF6",
           "radialaxis": {
            "gridcolor": "white",
            "linecolor": "white",
            "ticks": ""
           }
          },
          "scene": {
           "xaxis": {
            "backgroundcolor": "#E5ECF6",
            "gridcolor": "white",
            "gridwidth": 2,
            "linecolor": "white",
            "showbackground": true,
            "ticks": "",
            "zerolinecolor": "white"
           },
           "yaxis": {
            "backgroundcolor": "#E5ECF6",
            "gridcolor": "white",
            "gridwidth": 2,
            "linecolor": "white",
            "showbackground": true,
            "ticks": "",
            "zerolinecolor": "white"
           },
           "zaxis": {
            "backgroundcolor": "#E5ECF6",
            "gridcolor": "white",
            "gridwidth": 2,
            "linecolor": "white",
            "showbackground": true,
            "ticks": "",
            "zerolinecolor": "white"
           }
          },
          "shapedefaults": {
           "line": {
            "color": "#2a3f5f"
           }
          },
          "ternary": {
           "aaxis": {
            "gridcolor": "white",
            "linecolor": "white",
            "ticks": ""
           },
           "baxis": {
            "gridcolor": "white",
            "linecolor": "white",
            "ticks": ""
           },
           "bgcolor": "#E5ECF6",
           "caxis": {
            "gridcolor": "white",
            "linecolor": "white",
            "ticks": ""
           }
          },
          "title": {
           "x": 0.05
          },
          "xaxis": {
           "automargin": true,
           "gridcolor": "white",
           "linecolor": "white",
           "ticks": "",
           "title": {
            "standoff": 15
           },
           "zerolinecolor": "white",
           "zerolinewidth": 2
          },
          "yaxis": {
           "automargin": true,
           "gridcolor": "white",
           "linecolor": "white",
           "ticks": "",
           "title": {
            "standoff": 15
           },
           "zerolinecolor": "white",
           "zerolinewidth": 2
          }
         }
        },
        "title": {
         "text": "Plot of Mean and median differences of randomized weights for each verification method (No Duniter)"
        },
        "xaxis": {
         "anchor": "y",
         "domain": [
          0,
          1
         ],
         "title": {
          "text": "value"
         }
        },
        "yaxis": {
         "anchor": "x",
         "domain": [
          0,
          1
         ],
         "title": {
          "text": "Weight_combination"
         }
        }
       }
      },
      "text/html": [
       "<div>                            <div id=\"4329c0b5-5986-48d1-b3b7-076488d86ab8\" class=\"plotly-graph-div\" style=\"height:525px; width:100%;\"></div>            <script type=\"text/javascript\">                require([\"plotly\"], function(Plotly) {                    window.PLOTLYENV=window.PLOTLYENV || {};                                    if (document.getElementById(\"4329c0b5-5986-48d1-b3b7-076488d86ab8\")) {                    Plotly.newPlot(                        \"4329c0b5-5986-48d1-b3b7-076488d86ab8\",                        [{\"alignmentgroup\":\"True\",\"hovertemplate\":\"Class=Mean differences<br>value=%{x}<br>Weight_combination=%{y}<extra></extra>\",\"legendgroup\":\"Mean differences\",\"marker\":{\"color\":\"#636efa\",\"opacity\":0.9,\"pattern\":{\"shape\":\"\"}},\"name\":\"Mean differences\",\"offsetgroup\":\"Mean differences\",\"orientation\":\"h\",\"showlegend\":true,\"textposition\":\"auto\",\"type\":\"bar\",\"x\":[10.346236754804664,12.406811214848616,12.10605954563906,10.973040690919781,11.272546576895621,12.34242941728139,11.407861032180403,10.485722484287734,12.167403871726322,11.566453437101945,11.319466412844168,12.77016699094358,10.885450931537912,10.698926386808694,12.632528939964445],\"xaxis\":\"x\",\"y\":[\"20,2,3,3,15,16,20,21\",\"15,17,6,5,14,15,12,16\",\"16,7,5,10,15,18,15,14\",\"16,10,3,5,10,18,21,17\",\"4,2,17,10,14,18,14,21\",\"15,7,16,8,14,14,12,14\",\"5,5,15,10,15,16,17,15\",\"3,11,3,9,19,14,21,20\",\"3,9,17,4,21,14,18,14\",\"11,8,2,9,17,19,13,19\",\"5,14,7,2,16,17,20,19\",\"11,8,12,8,19,16,15,11\",\"7,15,5,3,15,15,19,21\",\"8,5,6,15,11,18,20,15\",\"17,10,6,9,13,19,12,14\"],\"yaxis\":\"y\"},{\"alignmentgroup\":\"True\",\"hovertemplate\":\"Class=Median differences<br>value=%{x}<br>Weight_combination=%{y}<extra></extra>\",\"legendgroup\":\"Median differences\",\"marker\":{\"color\":\"#EF553B\",\"opacity\":0.9,\"pattern\":{\"shape\":\"\"}},\"name\":\"Median differences\",\"offsetgroup\":\"Median differences\",\"orientation\":\"h\",\"showlegend\":true,\"textposition\":\"auto\",\"type\":\"bar\",\"x\":[25.0,21.0,19.0,20.0,18.0,23.0,21.0,22.0,16.5,20.0,20.0,20.0,22.0,21.0,21.0],\"xaxis\":\"x\",\"y\":[\"20,2,3,3,15,16,20,21\",\"15,17,6,5,14,15,12,16\",\"16,7,5,10,15,18,15,14\",\"16,10,3,5,10,18,21,17\",\"4,2,17,10,14,18,14,21\",\"15,7,16,8,14,14,12,14\",\"5,5,15,10,15,16,17,15\",\"3,11,3,9,19,14,21,20\",\"3,9,17,4,21,14,18,14\",\"11,8,2,9,17,19,13,19\",\"5,14,7,2,16,17,20,19\",\"11,8,12,8,19,16,15,11\",\"7,15,5,3,15,15,19,21\",\"8,5,6,15,11,18,20,15\",\"17,10,6,9,13,19,12,14\"],\"yaxis\":\"y\"}],                        {\"barmode\":\"group\",\"legend\":{\"title\":{\"text\":\"Class\"},\"tracegroupgap\":0},\"template\":{\"data\":{\"bar\":[{\"error_x\":{\"color\":\"#2a3f5f\"},\"error_y\":{\"color\":\"#2a3f5f\"},\"marker\":{\"line\":{\"color\":\"#E5ECF6\",\"width\":0.5},\"pattern\":{\"fillmode\":\"overlay\",\"size\":10,\"solidity\":0.2}},\"type\":\"bar\"}],\"barpolar\":[{\"marker\":{\"line\":{\"color\":\"#E5ECF6\",\"width\":0.5},\"pattern\":{\"fillmode\":\"overlay\",\"size\":10,\"solidity\":0.2}},\"type\":\"barpolar\"}],\"carpet\":[{\"aaxis\":{\"endlinecolor\":\"#2a3f5f\",\"gridcolor\":\"white\",\"linecolor\":\"white\",\"minorgridcolor\":\"white\",\"startlinecolor\":\"#2a3f5f\"},\"baxis\":{\"endlinecolor\":\"#2a3f5f\",\"gridcolor\":\"white\",\"linecolor\":\"white\",\"minorgridcolor\":\"white\",\"startlinecolor\":\"#2a3f5f\"},\"type\":\"carpet\"}],\"choropleth\":[{\"colorbar\":{\"outlinewidth\":0,\"ticks\":\"\"},\"type\":\"choropleth\"}],\"contour\":[{\"colorbar\":{\"outlinewidth\":0,\"ticks\":\"\"},\"colorscale\":[[0.0,\"#0d0887\"],[0.1111111111111111,\"#46039f\"],[0.2222222222222222,\"#7201a8\"],[0.3333333333333333,\"#9c179e\"],[0.4444444444444444,\"#bd3786\"],[0.5555555555555556,\"#d8576b\"],[0.6666666666666666,\"#ed7953\"],[0.7777777777777778,\"#fb9f3a\"],[0.8888888888888888,\"#fdca26\"],[1.0,\"#f0f921\"]],\"type\":\"contour\"}],\"contourcarpet\":[{\"colorbar\":{\"outlinewidth\":0,\"ticks\":\"\"},\"type\":\"contourcarpet\"}],\"heatmap\":[{\"colorbar\":{\"outlinewidth\":0,\"ticks\":\"\"},\"colorscale\":[[0.0,\"#0d0887\"],[0.1111111111111111,\"#46039f\"],[0.2222222222222222,\"#7201a8\"],[0.3333333333333333,\"#9c179e\"],[0.4444444444444444,\"#bd3786\"],[0.5555555555555556,\"#d8576b\"],[0.6666666666666666,\"#ed7953\"],[0.7777777777777778,\"#fb9f3a\"],[0.8888888888888888,\"#fdca26\"],[1.0,\"#f0f921\"]],\"type\":\"heatmap\"}],\"heatmapgl\":[{\"colorbar\":{\"outlinewidth\":0,\"ticks\":\"\"},\"colorscale\":[[0.0,\"#0d0887\"],[0.1111111111111111,\"#46039f\"],[0.2222222222222222,\"#7201a8\"],[0.3333333333333333,\"#9c179e\"],[0.4444444444444444,\"#bd3786\"],[0.5555555555555556,\"#d8576b\"],[0.6666666666666666,\"#ed7953\"],[0.7777777777777778,\"#fb9f3a\"],[0.8888888888888888,\"#fdca26\"],[1.0,\"#f0f921\"]],\"type\":\"heatmapgl\"}],\"histogram\":[{\"marker\":{\"pattern\":{\"fillmode\":\"overlay\",\"size\":10,\"solidity\":0.2}},\"type\":\"histogram\"}],\"histogram2d\":[{\"colorbar\":{\"outlinewidth\":0,\"ticks\":\"\"},\"colorscale\":[[0.0,\"#0d0887\"],[0.1111111111111111,\"#46039f\"],[0.2222222222222222,\"#7201a8\"],[0.3333333333333333,\"#9c179e\"],[0.4444444444444444,\"#bd3786\"],[0.5555555555555556,\"#d8576b\"],[0.6666666666666666,\"#ed7953\"],[0.7777777777777778,\"#fb9f3a\"],[0.8888888888888888,\"#fdca26\"],[1.0,\"#f0f921\"]],\"type\":\"histogram2d\"}],\"histogram2dcontour\":[{\"colorbar\":{\"outlinewidth\":0,\"ticks\":\"\"},\"colorscale\":[[0.0,\"#0d0887\"],[0.1111111111111111,\"#46039f\"],[0.2222222222222222,\"#7201a8\"],[0.3333333333333333,\"#9c179e\"],[0.4444444444444444,\"#bd3786\"],[0.5555555555555556,\"#d8576b\"],[0.6666666666666666,\"#ed7953\"],[0.7777777777777778,\"#fb9f3a\"],[0.8888888888888888,\"#fdca26\"],[1.0,\"#f0f921\"]],\"type\":\"histogram2dcontour\"}],\"mesh3d\":[{\"colorbar\":{\"outlinewidth\":0,\"ticks\":\"\"},\"type\":\"mesh3d\"}],\"parcoords\":[{\"line\":{\"colorbar\":{\"outlinewidth\":0,\"ticks\":\"\"}},\"type\":\"parcoords\"}],\"pie\":[{\"automargin\":true,\"type\":\"pie\"}],\"scatter\":[{\"marker\":{\"colorbar\":{\"outlinewidth\":0,\"ticks\":\"\"}},\"type\":\"scatter\"}],\"scatter3d\":[{\"line\":{\"colorbar\":{\"outlinewidth\":0,\"ticks\":\"\"}},\"marker\":{\"colorbar\":{\"outlinewidth\":0,\"ticks\":\"\"}},\"type\":\"scatter3d\"}],\"scattercarpet\":[{\"marker\":{\"colorbar\":{\"outlinewidth\":0,\"ticks\":\"\"}},\"type\":\"scattercarpet\"}],\"scattergeo\":[{\"marker\":{\"colorbar\":{\"outlinewidth\":0,\"ticks\":\"\"}},\"type\":\"scattergeo\"}],\"scattergl\":[{\"marker\":{\"colorbar\":{\"outlinewidth\":0,\"ticks\":\"\"}},\"type\":\"scattergl\"}],\"scattermapbox\":[{\"marker\":{\"colorbar\":{\"outlinewidth\":0,\"ticks\":\"\"}},\"type\":\"scattermapbox\"}],\"scatterpolar\":[{\"marker\":{\"colorbar\":{\"outlinewidth\":0,\"ticks\":\"\"}},\"type\":\"scatterpolar\"}],\"scatterpolargl\":[{\"marker\":{\"colorbar\":{\"outlinewidth\":0,\"ticks\":\"\"}},\"type\":\"scatterpolargl\"}],\"scatterternary\":[{\"marker\":{\"colorbar\":{\"outlinewidth\":0,\"ticks\":\"\"}},\"type\":\"scatterternary\"}],\"surface\":[{\"colorbar\":{\"outlinewidth\":0,\"ticks\":\"\"},\"colorscale\":[[0.0,\"#0d0887\"],[0.1111111111111111,\"#46039f\"],[0.2222222222222222,\"#7201a8\"],[0.3333333333333333,\"#9c179e\"],[0.4444444444444444,\"#bd3786\"],[0.5555555555555556,\"#d8576b\"],[0.6666666666666666,\"#ed7953\"],[0.7777777777777778,\"#fb9f3a\"],[0.8888888888888888,\"#fdca26\"],[1.0,\"#f0f921\"]],\"type\":\"surface\"}],\"table\":[{\"cells\":{\"fill\":{\"color\":\"#EBF0F8\"},\"line\":{\"color\":\"white\"}},\"header\":{\"fill\":{\"color\":\"#C8D4E3\"},\"line\":{\"color\":\"white\"}},\"type\":\"table\"}]},\"layout\":{\"annotationdefaults\":{\"arrowcolor\":\"#2a3f5f\",\"arrowhead\":0,\"arrowwidth\":1},\"autotypenumbers\":\"strict\",\"coloraxis\":{\"colorbar\":{\"outlinewidth\":0,\"ticks\":\"\"}},\"colorscale\":{\"diverging\":[[0,\"#8e0152\"],[0.1,\"#c51b7d\"],[0.2,\"#de77ae\"],[0.3,\"#f1b6da\"],[0.4,\"#fde0ef\"],[0.5,\"#f7f7f7\"],[0.6,\"#e6f5d0\"],[0.7,\"#b8e186\"],[0.8,\"#7fbc41\"],[0.9,\"#4d9221\"],[1,\"#276419\"]],\"sequential\":[[0.0,\"#0d0887\"],[0.1111111111111111,\"#46039f\"],[0.2222222222222222,\"#7201a8\"],[0.3333333333333333,\"#9c179e\"],[0.4444444444444444,\"#bd3786\"],[0.5555555555555556,\"#d8576b\"],[0.6666666666666666,\"#ed7953\"],[0.7777777777777778,\"#fb9f3a\"],[0.8888888888888888,\"#fdca26\"],[1.0,\"#f0f921\"]],\"sequentialminus\":[[0.0,\"#0d0887\"],[0.1111111111111111,\"#46039f\"],[0.2222222222222222,\"#7201a8\"],[0.3333333333333333,\"#9c179e\"],[0.4444444444444444,\"#bd3786\"],[0.5555555555555556,\"#d8576b\"],[0.6666666666666666,\"#ed7953\"],[0.7777777777777778,\"#fb9f3a\"],[0.8888888888888888,\"#fdca26\"],[1.0,\"#f0f921\"]]},\"colorway\":[\"#636efa\",\"#EF553B\",\"#00cc96\",\"#ab63fa\",\"#FFA15A\",\"#19d3f3\",\"#FF6692\",\"#B6E880\",\"#FF97FF\",\"#FECB52\"],\"font\":{\"color\":\"#2a3f5f\"},\"geo\":{\"bgcolor\":\"white\",\"lakecolor\":\"white\",\"landcolor\":\"#E5ECF6\",\"showlakes\":true,\"showland\":true,\"subunitcolor\":\"white\"},\"hoverlabel\":{\"align\":\"left\"},\"hovermode\":\"closest\",\"mapbox\":{\"style\":\"light\"},\"paper_bgcolor\":\"white\",\"plot_bgcolor\":\"#E5ECF6\",\"polar\":{\"angularaxis\":{\"gridcolor\":\"white\",\"linecolor\":\"white\",\"ticks\":\"\"},\"bgcolor\":\"#E5ECF6\",\"radialaxis\":{\"gridcolor\":\"white\",\"linecolor\":\"white\",\"ticks\":\"\"}},\"scene\":{\"xaxis\":{\"backgroundcolor\":\"#E5ECF6\",\"gridcolor\":\"white\",\"gridwidth\":2,\"linecolor\":\"white\",\"showbackground\":true,\"ticks\":\"\",\"zerolinecolor\":\"white\"},\"yaxis\":{\"backgroundcolor\":\"#E5ECF6\",\"gridcolor\":\"white\",\"gridwidth\":2,\"linecolor\":\"white\",\"showbackground\":true,\"ticks\":\"\",\"zerolinecolor\":\"white\"},\"zaxis\":{\"backgroundcolor\":\"#E5ECF6\",\"gridcolor\":\"white\",\"gridwidth\":2,\"linecolor\":\"white\",\"showbackground\":true,\"ticks\":\"\",\"zerolinecolor\":\"white\"}},\"shapedefaults\":{\"line\":{\"color\":\"#2a3f5f\"}},\"ternary\":{\"aaxis\":{\"gridcolor\":\"white\",\"linecolor\":\"white\",\"ticks\":\"\"},\"baxis\":{\"gridcolor\":\"white\",\"linecolor\":\"white\",\"ticks\":\"\"},\"bgcolor\":\"#E5ECF6\",\"caxis\":{\"gridcolor\":\"white\",\"linecolor\":\"white\",\"ticks\":\"\"}},\"title\":{\"x\":0.05},\"xaxis\":{\"automargin\":true,\"gridcolor\":\"white\",\"linecolor\":\"white\",\"ticks\":\"\",\"title\":{\"standoff\":15},\"zerolinecolor\":\"white\",\"zerolinewidth\":2},\"yaxis\":{\"automargin\":true,\"gridcolor\":\"white\",\"linecolor\":\"white\",\"ticks\":\"\",\"title\":{\"standoff\":15},\"zerolinecolor\":\"white\",\"zerolinewidth\":2}}},\"title\":{\"text\":\"Plot of Mean and median differences of randomized weights for each verification method (No Duniter)\"},\"xaxis\":{\"anchor\":\"y\",\"domain\":[0.0,1.0],\"title\":{\"text\":\"value\"}},\"yaxis\":{\"anchor\":\"x\",\"domain\":[0.0,1.0],\"title\":{\"text\":\"Weight_combination\"}}},                        {\"responsive\": true}                    ).then(function(){\n",
       "                            \n",
       "var gd = document.getElementById('4329c0b5-5986-48d1-b3b7-076488d86ab8');\n",
       "var x = new MutationObserver(function (mutations, observer) {{\n",
       "        var display = window.getComputedStyle(gd).display;\n",
       "        if (!display || display === 'none') {{\n",
       "            console.log([gd, 'removed!']);\n",
       "            Plotly.purge(gd);\n",
       "            observer.disconnect();\n",
       "        }}\n",
       "}});\n",
       "\n",
       "// Listen for the removal of the full notebook cells\n",
       "var notebookContainer = gd.closest('#notebook-container');\n",
       "if (notebookContainer) {{\n",
       "    x.observe(notebookContainer, {childList: true});\n",
       "}}\n",
       "\n",
       "// Listen for the clearing of the current output cell\n",
       "var outputEl = gd.closest('.output');\n",
       "if (outputEl) {{\n",
       "    x.observe(outputEl, {childList: true});\n",
       "}}\n",
       "\n",
       "                        })                };                });            </script>        </div>"
      ]
     },
     "metadata": {},
     "output_type": "display_data"
    }
   ],
   "source": [
    "barchart"
   ]
  },
  {
   "cell_type": "markdown",
   "id": "50ec24a9",
   "metadata": {},
   "source": [
    "### Scaling"
   ]
  },
  {
   "cell_type": "code",
   "execution_count": 492,
   "id": "19459134",
   "metadata": {},
   "outputs": [],
   "source": [
    "\n",
    "def calc_score_no_duniter(dfs):\n",
    "    \n",
    "    dff = dfs.copy()\n",
    "    \n",
    "    scores = random_with_patterns(4, 4)\n",
    "    \n",
    "    trust_scores.append([i for i in scores])\n",
    "    \n",
    "    total_score = []\n",
    "    \n",
    "    dff.is_brightid_verified = np.where(dff.is_brightid_verified == True, scores[0], 0)\n",
    "    \n",
    "    dff.is_twitter_verified = np.where(dff.is_twitter_verified == True, scores[1], 0)\n",
    "    \n",
    "    dff.is_google_verified = np.where(dff.is_google_verified == True, scores[2], 0)\n",
    "    \n",
    "    dff.is_facebook_verified = np.where(dff.is_facebook_verified == True, scores[3], 0)\n",
    "    \n",
    "    dff.is_poap_verified = np.where(dff.is_poap_verified == True, scores[4], 0)\n",
    "    \n",
    "    dff.is_ens_verified = np.where(dff.is_ens_verified == True, scores[5], 0)\n",
    "    \n",
    "    dff.is_poh_verified = np.where(dff.is_poh_verified == True, scores[6], 0)\n",
    "    \n",
    "    dff.is_idena_verified = np.where(dff.is_idena_verified == True, scores[7], 0)\n",
    "\n",
    "    \n",
    "    for row in range(dff.shape[0]):\n",
    "        total_score.append(sum(dff.loc[row, [\"is_brightid_verified\", \"is_twitter_verified\", \"is_poap_verified\",\n",
    "                             \"is_ens_verified\", \"is_google_verified\", 'is_facebook_verified', 'is_poh_verified', 'is_idena_verified']]))\n",
    "    \n",
    "    dff[\"total_score\"] = total_score\n",
    "    \n",
    "    sybil_mean_ = dff.groupby(\"Is Sybil? (T or F)\")[\"total_score\"].mean()[1]\n",
    "    not_sybil_mean_ = dff.groupby(\"Is Sybil? (T or F)\")[\"total_score\"].mean()[0]\n",
    "    \n",
    "    sybil_mean.append(sybil_mean_)\n",
    "    not_sybil_mean.append(not_sybil_mean_)\n",
    "    \n",
    "    sybil_median_ = dff.groupby(\"Is Sybil? (T or F)\")[\"total_score\"].median()[1]\n",
    "    not_sybil_median_ = dff.groupby(\"Is Sybil? (T or F)\")[\"total_score\"].median()[0]\n",
    "    \n",
    "    sybil_median.append(sybil_median_)\n",
    "    not_sybil_median.append(not_sybil_median_)\n",
    "    \n",
    "    trust_median_differences.append(abs(sybil_median_ - not_sybil_median_))\n",
    "    \n",
    "    trust_mean_differences.append(abs(sybil_mean_ - not_sybil_mean_))"
   ]
  },
  {
   "cell_type": "code",
   "execution_count": 466,
   "id": "a7336d60",
   "metadata": {},
   "outputs": [],
   "source": [
    "df1 = df[df.trust_bonus > 0.5]"
   ]
  },
  {
   "cell_type": "code",
   "execution_count": 671,
   "id": "df66d23c",
   "metadata": {},
   "outputs": [
    {
     "data": {
      "text/html": [
       "<div>\n",
       "<style scoped>\n",
       "    .dataframe tbody tr th:only-of-type {\n",
       "        vertical-align: middle;\n",
       "    }\n",
       "\n",
       "    .dataframe tbody tr th {\n",
       "        vertical-align: top;\n",
       "    }\n",
       "\n",
       "    .dataframe thead th {\n",
       "        text-align: right;\n",
       "    }\n",
       "</style>\n",
       "<table border=\"1\" class=\"dataframe\">\n",
       "  <thead>\n",
       "    <tr style=\"text-align: right;\">\n",
       "      <th></th>\n",
       "      <th>handle</th>\n",
       "      <th>Is Sybil? (T or F)</th>\n",
       "      <th>trust_bonus</th>\n",
       "      <th>is_brightid_verified</th>\n",
       "      <th>is_duniter_verified</th>\n",
       "      <th>is_twitter_verified</th>\n",
       "      <th>is_poap_verified</th>\n",
       "      <th>is_ens_verified</th>\n",
       "      <th>is_google_verified</th>\n",
       "      <th>is_facebook_verified</th>\n",
       "      <th>is_poh_verified</th>\n",
       "      <th>is_idena_verified</th>\n",
       "    </tr>\n",
       "  </thead>\n",
       "  <tbody>\n",
       "    <tr>\n",
       "      <th>6</th>\n",
       "      <td>gmifrfr</td>\n",
       "      <td>True</td>\n",
       "      <td>0.5</td>\n",
       "      <td>False</td>\n",
       "      <td>False</td>\n",
       "      <td>False</td>\n",
       "      <td>False</td>\n",
       "      <td>False</td>\n",
       "      <td>False</td>\n",
       "      <td>False</td>\n",
       "      <td>False</td>\n",
       "      <td>False</td>\n",
       "    </tr>\n",
       "    <tr>\n",
       "      <th>7</th>\n",
       "      <td>ssyahoo</td>\n",
       "      <td>True</td>\n",
       "      <td>0.5</td>\n",
       "      <td>False</td>\n",
       "      <td>False</td>\n",
       "      <td>False</td>\n",
       "      <td>False</td>\n",
       "      <td>False</td>\n",
       "      <td>False</td>\n",
       "      <td>False</td>\n",
       "      <td>False</td>\n",
       "      <td>False</td>\n",
       "    </tr>\n",
       "    <tr>\n",
       "      <th>9</th>\n",
       "      <td>phantom5031</td>\n",
       "      <td>True</td>\n",
       "      <td>0.5</td>\n",
       "      <td>False</td>\n",
       "      <td>False</td>\n",
       "      <td>False</td>\n",
       "      <td>False</td>\n",
       "      <td>False</td>\n",
       "      <td>False</td>\n",
       "      <td>False</td>\n",
       "      <td>False</td>\n",
       "      <td>False</td>\n",
       "    </tr>\n",
       "    <tr>\n",
       "      <th>12</th>\n",
       "      <td>zpunketh</td>\n",
       "      <td>True</td>\n",
       "      <td>0.5</td>\n",
       "      <td>False</td>\n",
       "      <td>False</td>\n",
       "      <td>False</td>\n",
       "      <td>False</td>\n",
       "      <td>False</td>\n",
       "      <td>False</td>\n",
       "      <td>False</td>\n",
       "      <td>False</td>\n",
       "      <td>False</td>\n",
       "    </tr>\n",
       "    <tr>\n",
       "      <th>13</th>\n",
       "      <td>jcarvajalmunera</td>\n",
       "      <td>True</td>\n",
       "      <td>0.5</td>\n",
       "      <td>False</td>\n",
       "      <td>False</td>\n",
       "      <td>False</td>\n",
       "      <td>False</td>\n",
       "      <td>False</td>\n",
       "      <td>False</td>\n",
       "      <td>False</td>\n",
       "      <td>False</td>\n",
       "      <td>False</td>\n",
       "    </tr>\n",
       "    <tr>\n",
       "      <th>...</th>\n",
       "      <td>...</td>\n",
       "      <td>...</td>\n",
       "      <td>...</td>\n",
       "      <td>...</td>\n",
       "      <td>...</td>\n",
       "      <td>...</td>\n",
       "      <td>...</td>\n",
       "      <td>...</td>\n",
       "      <td>...</td>\n",
       "      <td>...</td>\n",
       "      <td>...</td>\n",
       "      <td>...</td>\n",
       "    </tr>\n",
       "    <tr>\n",
       "      <th>734</th>\n",
       "      <td>yabirgb</td>\n",
       "      <td>False</td>\n",
       "      <td>0.5</td>\n",
       "      <td>False</td>\n",
       "      <td>False</td>\n",
       "      <td>False</td>\n",
       "      <td>False</td>\n",
       "      <td>False</td>\n",
       "      <td>False</td>\n",
       "      <td>False</td>\n",
       "      <td>False</td>\n",
       "      <td>False</td>\n",
       "    </tr>\n",
       "    <tr>\n",
       "      <th>740</th>\n",
       "      <td>alpselin</td>\n",
       "      <td>True</td>\n",
       "      <td>0.5</td>\n",
       "      <td>False</td>\n",
       "      <td>False</td>\n",
       "      <td>False</td>\n",
       "      <td>False</td>\n",
       "      <td>False</td>\n",
       "      <td>False</td>\n",
       "      <td>False</td>\n",
       "      <td>False</td>\n",
       "      <td>False</td>\n",
       "    </tr>\n",
       "    <tr>\n",
       "      <th>744</th>\n",
       "      <td>cosmiccollusion</td>\n",
       "      <td>True</td>\n",
       "      <td>0.5</td>\n",
       "      <td>False</td>\n",
       "      <td>False</td>\n",
       "      <td>False</td>\n",
       "      <td>False</td>\n",
       "      <td>False</td>\n",
       "      <td>False</td>\n",
       "      <td>False</td>\n",
       "      <td>False</td>\n",
       "      <td>False</td>\n",
       "    </tr>\n",
       "    <tr>\n",
       "      <th>749</th>\n",
       "      <td>laobaib</td>\n",
       "      <td>True</td>\n",
       "      <td>0.5</td>\n",
       "      <td>False</td>\n",
       "      <td>False</td>\n",
       "      <td>False</td>\n",
       "      <td>False</td>\n",
       "      <td>False</td>\n",
       "      <td>False</td>\n",
       "      <td>False</td>\n",
       "      <td>False</td>\n",
       "      <td>False</td>\n",
       "    </tr>\n",
       "    <tr>\n",
       "      <th>751</th>\n",
       "      <td>puckkingcrypto</td>\n",
       "      <td>True</td>\n",
       "      <td>0.5</td>\n",
       "      <td>False</td>\n",
       "      <td>False</td>\n",
       "      <td>False</td>\n",
       "      <td>False</td>\n",
       "      <td>False</td>\n",
       "      <td>False</td>\n",
       "      <td>False</td>\n",
       "      <td>False</td>\n",
       "      <td>False</td>\n",
       "    </tr>\n",
       "  </tbody>\n",
       "</table>\n",
       "<p>225 rows × 12 columns</p>\n",
       "</div>"
      ],
      "text/plain": [
       "              handle  Is Sybil? (T or F)  trust_bonus is_brightid_verified  \\\n",
       "6            gmifrfr                True          0.5                False   \n",
       "7            ssyahoo                True          0.5                False   \n",
       "9        phantom5031                True          0.5                False   \n",
       "12          zpunketh                True          0.5                False   \n",
       "13   jcarvajalmunera                True          0.5                False   \n",
       "..               ...                 ...          ...                  ...   \n",
       "734          yabirgb               False          0.5                False   \n",
       "740         alpselin                True          0.5                False   \n",
       "744  cosmiccollusion                True          0.5                False   \n",
       "749          laobaib                True          0.5                False   \n",
       "751   puckkingcrypto                True          0.5                False   \n",
       "\n",
       "    is_duniter_verified is_twitter_verified is_poap_verified is_ens_verified  \\\n",
       "6                 False               False            False           False   \n",
       "7                 False               False            False           False   \n",
       "9                 False               False            False           False   \n",
       "12                False               False            False           False   \n",
       "13                False               False            False           False   \n",
       "..                  ...                 ...              ...             ...   \n",
       "734               False               False            False           False   \n",
       "740               False               False            False           False   \n",
       "744               False               False            False           False   \n",
       "749               False               False            False           False   \n",
       "751               False               False            False           False   \n",
       "\n",
       "    is_google_verified is_facebook_verified is_poh_verified is_idena_verified  \n",
       "6                False                False           False             False  \n",
       "7                False                False           False             False  \n",
       "9                False                False           False             False  \n",
       "12               False                False           False             False  \n",
       "13               False                False           False             False  \n",
       "..                 ...                  ...             ...               ...  \n",
       "734              False                False           False             False  \n",
       "740              False                False           False             False  \n",
       "744              False                False           False             False  \n",
       "749              False                False           False             False  \n",
       "751              False                False           False             False  \n",
       "\n",
       "[225 rows x 12 columns]"
      ]
     },
     "execution_count": 671,
     "metadata": {},
     "output_type": "execute_result"
    }
   ],
   "source": [
    "df[df.trust_bonus == 0.5]"
   ]
  },
  {
   "cell_type": "code",
   "execution_count": 468,
   "id": "5d7a82f6",
   "metadata": {},
   "outputs": [],
   "source": [
    "df1.reset_index(drop=True, inplace=True)"
   ]
  },
  {
   "cell_type": "code",
   "execution_count": 508,
   "id": "b67a1f2b",
   "metadata": {},
   "outputs": [
    {
     "name": "stdout",
     "output_type": "stream",
     "text": [
      "0:06:09.576951\n"
     ]
    }
   ],
   "source": [
    "#%%timeit\n",
    "\n",
    "trust_scores = []\n",
    "\n",
    "trust_mean_differences = []\n",
    "\n",
    "trust_median_differences = []\n",
    "\n",
    "sybil_mean = []\n",
    "\n",
    "not_sybil_mean = []\n",
    "\n",
    "sybil_median = []\n",
    "\n",
    "not_sybil_median = []\n",
    "\n",
    "\n",
    "import time\n",
    "from datetime import datetime\n",
    "\n",
    "\n",
    "start = datetime.now()\n",
    "for i in range(1000):\n",
    "    np.random.seed(i)\n",
    "    calc_score_no_duniter(df1)\n",
    "    \n",
    "end = datetime.now()\n",
    "\n",
    "print(end - start)"
   ]
  },
  {
   "cell_type": "code",
   "execution_count": 509,
   "id": "8449e3b6",
   "metadata": {},
   "outputs": [
    {
     "data": {
      "text/plain": [
       "1000"
      ]
     },
     "execution_count": 509,
     "metadata": {},
     "output_type": "execute_result"
    }
   ],
   "source": [
    "len(sybil_median)"
   ]
  },
  {
   "cell_type": "code",
   "execution_count": 499,
   "id": "6055aef3",
   "metadata": {},
   "outputs": [],
   "source": [
    "diff2 = pd.DataFrame()\n",
    "diff2[\"Combination of weights\"] = trust_scores\n",
    "diff2[\"Sybil mean\"] = sybil_mean\n",
    "diff2[\"not_sybil mean\"] = not_sybil_mean\n",
    "diff2[\"Mean differences\"] = trust_mean_differences\n",
    "diff2[\"Sybil median\"] = sybil_median\n",
    "diff2[\"not_sybil median\"] = not_sybil_median\n",
    "diff2[\"Median differences\"] = trust_median_differences"
   ]
  },
  {
   "cell_type": "code",
   "execution_count": 503,
   "id": "2dc6b97c",
   "metadata": {},
   "outputs": [],
   "source": [
    "diff2.sort_values(by=\"Mean differences\", inplace=True, ascending=False)\n",
    "diff2.reset_index(drop=True, inplace=True)"
   ]
  },
  {
   "cell_type": "code",
   "execution_count": 505,
   "id": "853e7bdc",
   "metadata": {},
   "outputs": [],
   "source": []
  },
  {
   "cell_type": "code",
   "execution_count": 506,
   "id": "3c1b0ecd",
   "metadata": {},
   "outputs": [],
   "source": [
    "diff2.to_csv(\"./first_1k_1dp.csv\", index=False)"
   ]
  },
  {
   "cell_type": "code",
   "execution_count": 511,
   "id": "6a0a8b2b",
   "metadata": {},
   "outputs": [
    {
     "data": {
      "text/html": [
       "<div>\n",
       "<style scoped>\n",
       "    .dataframe tbody tr th:only-of-type {\n",
       "        vertical-align: middle;\n",
       "    }\n",
       "\n",
       "    .dataframe tbody tr th {\n",
       "        vertical-align: top;\n",
       "    }\n",
       "\n",
       "    .dataframe thead th {\n",
       "        text-align: right;\n",
       "    }\n",
       "</style>\n",
       "<table border=\"1\" class=\"dataframe\">\n",
       "  <thead>\n",
       "    <tr style=\"text-align: right;\">\n",
       "      <th></th>\n",
       "      <th>Combination of weights</th>\n",
       "      <th>Sybil mean</th>\n",
       "      <th>not_sybil mean</th>\n",
       "      <th>Mean differences</th>\n",
       "      <th>Sybil median</th>\n",
       "      <th>not_sybil median</th>\n",
       "      <th>Median differences</th>\n",
       "    </tr>\n",
       "  </thead>\n",
       "  <tbody>\n",
       "    <tr>\n",
       "      <th>0</th>\n",
       "      <td>[11.4, 16.9, 3.1, 2.7, 16.1, 20.7, 17.2, 11.9]</td>\n",
       "      <td>30.242925</td>\n",
       "      <td>38.418437</td>\n",
       "      <td>8.175513</td>\n",
       "      <td>33.30</td>\n",
       "      <td>39.9</td>\n",
       "      <td>6.60</td>\n",
       "    </tr>\n",
       "    <tr>\n",
       "      <th>1</th>\n",
       "      <td>[2.9, 16.3, 6.3, 6.7, 15.1, 23.4, 16.7, 12.6]</td>\n",
       "      <td>31.620283</td>\n",
       "      <td>39.465312</td>\n",
       "      <td>7.845029</td>\n",
       "      <td>31.80</td>\n",
       "      <td>41.4</td>\n",
       "      <td>9.60</td>\n",
       "    </tr>\n",
       "    <tr>\n",
       "      <th>2</th>\n",
       "      <td>[14.9, 15.3, 3.0, 3.4, 19.0, 17.2, 15.6, 11.6]</td>\n",
       "      <td>31.414151</td>\n",
       "      <td>39.248750</td>\n",
       "      <td>7.834599</td>\n",
       "      <td>35.10</td>\n",
       "      <td>39.2</td>\n",
       "      <td>4.10</td>\n",
       "    </tr>\n",
       "    <tr>\n",
       "      <th>3</th>\n",
       "      <td>[11.1, 11.5, 2.0, 7.1, 20.2, 20.9, 14.6, 12.6]</td>\n",
       "      <td>31.962264</td>\n",
       "      <td>39.763750</td>\n",
       "      <td>7.801486</td>\n",
       "      <td>32.85</td>\n",
       "      <td>41.3</td>\n",
       "      <td>8.45</td>\n",
       "    </tr>\n",
       "    <tr>\n",
       "      <th>4</th>\n",
       "      <td>[13.2, 16.6, 3.1, 4.7, 14.6, 19.0, 13.9, 14.9]</td>\n",
       "      <td>30.274528</td>\n",
       "      <td>38.044062</td>\n",
       "      <td>7.769534</td>\n",
       "      <td>33.60</td>\n",
       "      <td>37.6</td>\n",
       "      <td>4.00</td>\n",
       "    </tr>\n",
       "    <tr>\n",
       "      <th>5</th>\n",
       "      <td>[13.0, 15.6, 3.6, 2.0, 18.9, 17.6, 11.7, 17.6]</td>\n",
       "      <td>30.757547</td>\n",
       "      <td>38.413438</td>\n",
       "      <td>7.655890</td>\n",
       "      <td>34.20</td>\n",
       "      <td>38.8</td>\n",
       "      <td>4.60</td>\n",
       "    </tr>\n",
       "    <tr>\n",
       "      <th>6</th>\n",
       "      <td>[4.7, 12.4, 3.8, 8.5, 21.4, 21.4, 12.8, 15.0]</td>\n",
       "      <td>32.355189</td>\n",
       "      <td>40.002812</td>\n",
       "      <td>7.647624</td>\n",
       "      <td>33.70</td>\n",
       "      <td>42.8</td>\n",
       "      <td>9.10</td>\n",
       "    </tr>\n",
       "    <tr>\n",
       "      <th>7</th>\n",
       "      <td>[2.5, 18.1, 4.0, 4.8, 21.0, 16.5, 19.0, 14.1]</td>\n",
       "      <td>28.790094</td>\n",
       "      <td>36.398437</td>\n",
       "      <td>7.608343</td>\n",
       "      <td>27.80</td>\n",
       "      <td>40.0</td>\n",
       "      <td>12.20</td>\n",
       "    </tr>\n",
       "    <tr>\n",
       "      <th>8</th>\n",
       "      <td>[4.0, 17.8, 8.0, 4.4, 20.4, 17.8, 13.8, 13.8]</td>\n",
       "      <td>32.924528</td>\n",
       "      <td>40.492500</td>\n",
       "      <td>7.567972</td>\n",
       "      <td>32.80</td>\n",
       "      <td>42.2</td>\n",
       "      <td>9.40</td>\n",
       "    </tr>\n",
       "    <tr>\n",
       "      <th>9</th>\n",
       "      <td>[7.6, 13.1, 2.1, 9.3, 13.1, 23.5, 12.7, 18.6]</td>\n",
       "      <td>29.545283</td>\n",
       "      <td>37.083750</td>\n",
       "      <td>7.538467</td>\n",
       "      <td>32.10</td>\n",
       "      <td>38.7</td>\n",
       "      <td>6.60</td>\n",
       "    </tr>\n",
       "  </tbody>\n",
       "</table>\n",
       "</div>"
      ],
      "text/plain": [
       "                           Combination of weights  Sybil mean  not_sybil mean  \\\n",
       "0  [11.4, 16.9, 3.1, 2.7, 16.1, 20.7, 17.2, 11.9]   30.242925       38.418437   \n",
       "1   [2.9, 16.3, 6.3, 6.7, 15.1, 23.4, 16.7, 12.6]   31.620283       39.465312   \n",
       "2  [14.9, 15.3, 3.0, 3.4, 19.0, 17.2, 15.6, 11.6]   31.414151       39.248750   \n",
       "3  [11.1, 11.5, 2.0, 7.1, 20.2, 20.9, 14.6, 12.6]   31.962264       39.763750   \n",
       "4  [13.2, 16.6, 3.1, 4.7, 14.6, 19.0, 13.9, 14.9]   30.274528       38.044062   \n",
       "5  [13.0, 15.6, 3.6, 2.0, 18.9, 17.6, 11.7, 17.6]   30.757547       38.413438   \n",
       "6   [4.7, 12.4, 3.8, 8.5, 21.4, 21.4, 12.8, 15.0]   32.355189       40.002812   \n",
       "7   [2.5, 18.1, 4.0, 4.8, 21.0, 16.5, 19.0, 14.1]   28.790094       36.398437   \n",
       "8   [4.0, 17.8, 8.0, 4.4, 20.4, 17.8, 13.8, 13.8]   32.924528       40.492500   \n",
       "9   [7.6, 13.1, 2.1, 9.3, 13.1, 23.5, 12.7, 18.6]   29.545283       37.083750   \n",
       "\n",
       "   Mean differences  Sybil median  not_sybil median  Median differences  \n",
       "0          8.175513         33.30              39.9                6.60  \n",
       "1          7.845029         31.80              41.4                9.60  \n",
       "2          7.834599         35.10              39.2                4.10  \n",
       "3          7.801486         32.85              41.3                8.45  \n",
       "4          7.769534         33.60              37.6                4.00  \n",
       "5          7.655890         34.20              38.8                4.60  \n",
       "6          7.647624         33.70              42.8                9.10  \n",
       "7          7.608343         27.80              40.0               12.20  \n",
       "8          7.567972         32.80              42.2                9.40  \n",
       "9          7.538467         32.10              38.7                6.60  "
      ]
     },
     "execution_count": 511,
     "metadata": {},
     "output_type": "execute_result"
    }
   ],
   "source": [
    "diff2.head(10)"
   ]
  },
  {
   "cell_type": "code",
   "execution_count": 512,
   "id": "409a5879",
   "metadata": {},
   "outputs": [],
   "source": [
    "import plotly.express as px\n",
    "\n",
    "combination = []\n",
    "for i in range(diff2.shape[0]):\n",
    "    string = \",\".join([str(item) for item in diff2.loc[i, \"Combination of weights\"]])\n",
    "    combination.append(string)\n",
    "    \n",
    "diff2[\"Weight_combination\"] = combination\n",
    "\n",
    "barchart = px.bar(data_frame= diff2.head(10),\n",
    "                 y= \"Weight_combination\",\n",
    "                 x= [diff2.head(10)[\"Mean differences\"], diff2.head(10)[\"Median differences\"]],\n",
    "                 #color=\"counts\",\n",
    "                 opacity=0.9,\n",
    "                 orientation=\"h\",\n",
    "                  color_continuous_scale=px.colors.diverging.Spectral,\n",
    "                  barmode=\"group\",\n",
    "                  title=\"Plot of Mean and median differences of randomized weights for each verification method for 1 d.p\",\n",
    "                  labels={\"variable\": \"Class\",\n",
    "                         \"x\": \"Methods\", \n",
    "                         \"true_counts\": \"True\",\n",
    "                         \"false_counts\": \"False\"}\n",
    "                  #text= verify.counts_True, verify.counts_False\n",
    "                 #color_discrete_sequence=[\"darkorange\", \"lightblue\"]\n",
    "                 ) \n",
    "\n",
    "#barchart.update_layout(yaxis = dict(tickmode = 'array', ticktext = [i for i in diff[\"Combination of weights\"]]))"
   ]
  },
  {
   "cell_type": "code",
   "execution_count": 513,
   "id": "3ee119f3",
   "metadata": {},
   "outputs": [
    {
     "data": {
      "application/vnd.plotly.v1+json": {
       "config": {
        "plotlyServerURL": "https://plot.ly"
       },
       "data": [
        {
         "alignmentgroup": "True",
         "hovertemplate": "Class=wide_variable_0<br>value=%{x}<br>Weight_combination=%{y}<extra></extra>",
         "legendgroup": "wide_variable_0",
         "marker": {
          "color": "#636efa",
          "opacity": 0.9,
          "pattern": {
           "shape": ""
          }
         },
         "name": "wide_variable_0",
         "offsetgroup": "wide_variable_0",
         "orientation": "h",
         "showlegend": true,
         "textposition": "auto",
         "type": "bar",
         "x": [
          8.175512971698065,
          7.84502948113208,
          7.8345990566037855,
          7.801485849056661,
          7.769534198113163,
          7.655890330188782,
          7.647623820754674,
          7.608343160377284,
          7.56797169811324,
          7.538466981132096
         ],
         "xaxis": "x",
         "y": [
          "11.4,16.9,3.1,2.7,16.1,20.7,17.2,11.9",
          "2.9,16.3,6.3,6.7,15.1,23.4,16.7,12.6",
          "14.9,15.3,3.0,3.4,19.0,17.2,15.6,11.6",
          "11.1,11.5,2.0,7.1,20.2,20.9,14.6,12.6",
          "13.2,16.6,3.1,4.7,14.6,19.0,13.9,14.9",
          "13.0,15.6,3.6,2.0,18.9,17.6,11.7,17.6",
          "4.7,12.4,3.8,8.5,21.4,21.4,12.8,15.0",
          "2.5,18.1,4.0,4.8,21.0,16.5,19.0,14.1",
          "4.0,17.8,8.0,4.4,20.4,17.8,13.8,13.8",
          "7.6,13.1,2.1,9.3,13.1,23.5,12.7,18.6"
         ],
         "yaxis": "y"
        },
        {
         "alignmentgroup": "True",
         "hovertemplate": "Class=wide_variable_1<br>value=%{x}<br>Weight_combination=%{y}<extra></extra>",
         "legendgroup": "wide_variable_1",
         "marker": {
          "color": "#EF553B",
          "opacity": 0.9,
          "pattern": {
           "shape": ""
          }
         },
         "name": "wide_variable_1",
         "offsetgroup": "wide_variable_1",
         "orientation": "h",
         "showlegend": true,
         "textposition": "auto",
         "type": "bar",
         "x": [
          6.599999999999994,
          9.599999999999998,
          4.100000000000001,
          8.450000000000003,
          4,
          4.600000000000001,
          9.099999999999994,
          12.2,
          9.400000000000006,
          6.600000000000001
         ],
         "xaxis": "x",
         "y": [
          "11.4,16.9,3.1,2.7,16.1,20.7,17.2,11.9",
          "2.9,16.3,6.3,6.7,15.1,23.4,16.7,12.6",
          "14.9,15.3,3.0,3.4,19.0,17.2,15.6,11.6",
          "11.1,11.5,2.0,7.1,20.2,20.9,14.6,12.6",
          "13.2,16.6,3.1,4.7,14.6,19.0,13.9,14.9",
          "13.0,15.6,3.6,2.0,18.9,17.6,11.7,17.6",
          "4.7,12.4,3.8,8.5,21.4,21.4,12.8,15.0",
          "2.5,18.1,4.0,4.8,21.0,16.5,19.0,14.1",
          "4.0,17.8,8.0,4.4,20.4,17.8,13.8,13.8",
          "7.6,13.1,2.1,9.3,13.1,23.5,12.7,18.6"
         ],
         "yaxis": "y"
        }
       ],
       "layout": {
        "barmode": "group",
        "legend": {
         "title": {
          "text": "Class"
         },
         "tracegroupgap": 0
        },
        "template": {
         "data": {
          "bar": [
           {
            "error_x": {
             "color": "#2a3f5f"
            },
            "error_y": {
             "color": "#2a3f5f"
            },
            "marker": {
             "line": {
              "color": "#E5ECF6",
              "width": 0.5
             },
             "pattern": {
              "fillmode": "overlay",
              "size": 10,
              "solidity": 0.2
             }
            },
            "type": "bar"
           }
          ],
          "barpolar": [
           {
            "marker": {
             "line": {
              "color": "#E5ECF6",
              "width": 0.5
             },
             "pattern": {
              "fillmode": "overlay",
              "size": 10,
              "solidity": 0.2
             }
            },
            "type": "barpolar"
           }
          ],
          "carpet": [
           {
            "aaxis": {
             "endlinecolor": "#2a3f5f",
             "gridcolor": "white",
             "linecolor": "white",
             "minorgridcolor": "white",
             "startlinecolor": "#2a3f5f"
            },
            "baxis": {
             "endlinecolor": "#2a3f5f",
             "gridcolor": "white",
             "linecolor": "white",
             "minorgridcolor": "white",
             "startlinecolor": "#2a3f5f"
            },
            "type": "carpet"
           }
          ],
          "choropleth": [
           {
            "colorbar": {
             "outlinewidth": 0,
             "ticks": ""
            },
            "type": "choropleth"
           }
          ],
          "contour": [
           {
            "colorbar": {
             "outlinewidth": 0,
             "ticks": ""
            },
            "colorscale": [
             [
              0,
              "#0d0887"
             ],
             [
              0.1111111111111111,
              "#46039f"
             ],
             [
              0.2222222222222222,
              "#7201a8"
             ],
             [
              0.3333333333333333,
              "#9c179e"
             ],
             [
              0.4444444444444444,
              "#bd3786"
             ],
             [
              0.5555555555555556,
              "#d8576b"
             ],
             [
              0.6666666666666666,
              "#ed7953"
             ],
             [
              0.7777777777777778,
              "#fb9f3a"
             ],
             [
              0.8888888888888888,
              "#fdca26"
             ],
             [
              1,
              "#f0f921"
             ]
            ],
            "type": "contour"
           }
          ],
          "contourcarpet": [
           {
            "colorbar": {
             "outlinewidth": 0,
             "ticks": ""
            },
            "type": "contourcarpet"
           }
          ],
          "heatmap": [
           {
            "colorbar": {
             "outlinewidth": 0,
             "ticks": ""
            },
            "colorscale": [
             [
              0,
              "#0d0887"
             ],
             [
              0.1111111111111111,
              "#46039f"
             ],
             [
              0.2222222222222222,
              "#7201a8"
             ],
             [
              0.3333333333333333,
              "#9c179e"
             ],
             [
              0.4444444444444444,
              "#bd3786"
             ],
             [
              0.5555555555555556,
              "#d8576b"
             ],
             [
              0.6666666666666666,
              "#ed7953"
             ],
             [
              0.7777777777777778,
              "#fb9f3a"
             ],
             [
              0.8888888888888888,
              "#fdca26"
             ],
             [
              1,
              "#f0f921"
             ]
            ],
            "type": "heatmap"
           }
          ],
          "heatmapgl": [
           {
            "colorbar": {
             "outlinewidth": 0,
             "ticks": ""
            },
            "colorscale": [
             [
              0,
              "#0d0887"
             ],
             [
              0.1111111111111111,
              "#46039f"
             ],
             [
              0.2222222222222222,
              "#7201a8"
             ],
             [
              0.3333333333333333,
              "#9c179e"
             ],
             [
              0.4444444444444444,
              "#bd3786"
             ],
             [
              0.5555555555555556,
              "#d8576b"
             ],
             [
              0.6666666666666666,
              "#ed7953"
             ],
             [
              0.7777777777777778,
              "#fb9f3a"
             ],
             [
              0.8888888888888888,
              "#fdca26"
             ],
             [
              1,
              "#f0f921"
             ]
            ],
            "type": "heatmapgl"
           }
          ],
          "histogram": [
           {
            "marker": {
             "pattern": {
              "fillmode": "overlay",
              "size": 10,
              "solidity": 0.2
             }
            },
            "type": "histogram"
           }
          ],
          "histogram2d": [
           {
            "colorbar": {
             "outlinewidth": 0,
             "ticks": ""
            },
            "colorscale": [
             [
              0,
              "#0d0887"
             ],
             [
              0.1111111111111111,
              "#46039f"
             ],
             [
              0.2222222222222222,
              "#7201a8"
             ],
             [
              0.3333333333333333,
              "#9c179e"
             ],
             [
              0.4444444444444444,
              "#bd3786"
             ],
             [
              0.5555555555555556,
              "#d8576b"
             ],
             [
              0.6666666666666666,
              "#ed7953"
             ],
             [
              0.7777777777777778,
              "#fb9f3a"
             ],
             [
              0.8888888888888888,
              "#fdca26"
             ],
             [
              1,
              "#f0f921"
             ]
            ],
            "type": "histogram2d"
           }
          ],
          "histogram2dcontour": [
           {
            "colorbar": {
             "outlinewidth": 0,
             "ticks": ""
            },
            "colorscale": [
             [
              0,
              "#0d0887"
             ],
             [
              0.1111111111111111,
              "#46039f"
             ],
             [
              0.2222222222222222,
              "#7201a8"
             ],
             [
              0.3333333333333333,
              "#9c179e"
             ],
             [
              0.4444444444444444,
              "#bd3786"
             ],
             [
              0.5555555555555556,
              "#d8576b"
             ],
             [
              0.6666666666666666,
              "#ed7953"
             ],
             [
              0.7777777777777778,
              "#fb9f3a"
             ],
             [
              0.8888888888888888,
              "#fdca26"
             ],
             [
              1,
              "#f0f921"
             ]
            ],
            "type": "histogram2dcontour"
           }
          ],
          "mesh3d": [
           {
            "colorbar": {
             "outlinewidth": 0,
             "ticks": ""
            },
            "type": "mesh3d"
           }
          ],
          "parcoords": [
           {
            "line": {
             "colorbar": {
              "outlinewidth": 0,
              "ticks": ""
             }
            },
            "type": "parcoords"
           }
          ],
          "pie": [
           {
            "automargin": true,
            "type": "pie"
           }
          ],
          "scatter": [
           {
            "marker": {
             "colorbar": {
              "outlinewidth": 0,
              "ticks": ""
             }
            },
            "type": "scatter"
           }
          ],
          "scatter3d": [
           {
            "line": {
             "colorbar": {
              "outlinewidth": 0,
              "ticks": ""
             }
            },
            "marker": {
             "colorbar": {
              "outlinewidth": 0,
              "ticks": ""
             }
            },
            "type": "scatter3d"
           }
          ],
          "scattercarpet": [
           {
            "marker": {
             "colorbar": {
              "outlinewidth": 0,
              "ticks": ""
             }
            },
            "type": "scattercarpet"
           }
          ],
          "scattergeo": [
           {
            "marker": {
             "colorbar": {
              "outlinewidth": 0,
              "ticks": ""
             }
            },
            "type": "scattergeo"
           }
          ],
          "scattergl": [
           {
            "marker": {
             "colorbar": {
              "outlinewidth": 0,
              "ticks": ""
             }
            },
            "type": "scattergl"
           }
          ],
          "scattermapbox": [
           {
            "marker": {
             "colorbar": {
              "outlinewidth": 0,
              "ticks": ""
             }
            },
            "type": "scattermapbox"
           }
          ],
          "scatterpolar": [
           {
            "marker": {
             "colorbar": {
              "outlinewidth": 0,
              "ticks": ""
             }
            },
            "type": "scatterpolar"
           }
          ],
          "scatterpolargl": [
           {
            "marker": {
             "colorbar": {
              "outlinewidth": 0,
              "ticks": ""
             }
            },
            "type": "scatterpolargl"
           }
          ],
          "scatterternary": [
           {
            "marker": {
             "colorbar": {
              "outlinewidth": 0,
              "ticks": ""
             }
            },
            "type": "scatterternary"
           }
          ],
          "surface": [
           {
            "colorbar": {
             "outlinewidth": 0,
             "ticks": ""
            },
            "colorscale": [
             [
              0,
              "#0d0887"
             ],
             [
              0.1111111111111111,
              "#46039f"
             ],
             [
              0.2222222222222222,
              "#7201a8"
             ],
             [
              0.3333333333333333,
              "#9c179e"
             ],
             [
              0.4444444444444444,
              "#bd3786"
             ],
             [
              0.5555555555555556,
              "#d8576b"
             ],
             [
              0.6666666666666666,
              "#ed7953"
             ],
             [
              0.7777777777777778,
              "#fb9f3a"
             ],
             [
              0.8888888888888888,
              "#fdca26"
             ],
             [
              1,
              "#f0f921"
             ]
            ],
            "type": "surface"
           }
          ],
          "table": [
           {
            "cells": {
             "fill": {
              "color": "#EBF0F8"
             },
             "line": {
              "color": "white"
             }
            },
            "header": {
             "fill": {
              "color": "#C8D4E3"
             },
             "line": {
              "color": "white"
             }
            },
            "type": "table"
           }
          ]
         },
         "layout": {
          "annotationdefaults": {
           "arrowcolor": "#2a3f5f",
           "arrowhead": 0,
           "arrowwidth": 1
          },
          "autotypenumbers": "strict",
          "coloraxis": {
           "colorbar": {
            "outlinewidth": 0,
            "ticks": ""
           }
          },
          "colorscale": {
           "diverging": [
            [
             0,
             "#8e0152"
            ],
            [
             0.1,
             "#c51b7d"
            ],
            [
             0.2,
             "#de77ae"
            ],
            [
             0.3,
             "#f1b6da"
            ],
            [
             0.4,
             "#fde0ef"
            ],
            [
             0.5,
             "#f7f7f7"
            ],
            [
             0.6,
             "#e6f5d0"
            ],
            [
             0.7,
             "#b8e186"
            ],
            [
             0.8,
             "#7fbc41"
            ],
            [
             0.9,
             "#4d9221"
            ],
            [
             1,
             "#276419"
            ]
           ],
           "sequential": [
            [
             0,
             "#0d0887"
            ],
            [
             0.1111111111111111,
             "#46039f"
            ],
            [
             0.2222222222222222,
             "#7201a8"
            ],
            [
             0.3333333333333333,
             "#9c179e"
            ],
            [
             0.4444444444444444,
             "#bd3786"
            ],
            [
             0.5555555555555556,
             "#d8576b"
            ],
            [
             0.6666666666666666,
             "#ed7953"
            ],
            [
             0.7777777777777778,
             "#fb9f3a"
            ],
            [
             0.8888888888888888,
             "#fdca26"
            ],
            [
             1,
             "#f0f921"
            ]
           ],
           "sequentialminus": [
            [
             0,
             "#0d0887"
            ],
            [
             0.1111111111111111,
             "#46039f"
            ],
            [
             0.2222222222222222,
             "#7201a8"
            ],
            [
             0.3333333333333333,
             "#9c179e"
            ],
            [
             0.4444444444444444,
             "#bd3786"
            ],
            [
             0.5555555555555556,
             "#d8576b"
            ],
            [
             0.6666666666666666,
             "#ed7953"
            ],
            [
             0.7777777777777778,
             "#fb9f3a"
            ],
            [
             0.8888888888888888,
             "#fdca26"
            ],
            [
             1,
             "#f0f921"
            ]
           ]
          },
          "colorway": [
           "#636efa",
           "#EF553B",
           "#00cc96",
           "#ab63fa",
           "#FFA15A",
           "#19d3f3",
           "#FF6692",
           "#B6E880",
           "#FF97FF",
           "#FECB52"
          ],
          "font": {
           "color": "#2a3f5f"
          },
          "geo": {
           "bgcolor": "white",
           "lakecolor": "white",
           "landcolor": "#E5ECF6",
           "showlakes": true,
           "showland": true,
           "subunitcolor": "white"
          },
          "hoverlabel": {
           "align": "left"
          },
          "hovermode": "closest",
          "mapbox": {
           "style": "light"
          },
          "paper_bgcolor": "white",
          "plot_bgcolor": "#E5ECF6",
          "polar": {
           "angularaxis": {
            "gridcolor": "white",
            "linecolor": "white",
            "ticks": ""
           },
           "bgcolor": "#E5ECF6",
           "radialaxis": {
            "gridcolor": "white",
            "linecolor": "white",
            "ticks": ""
           }
          },
          "scene": {
           "xaxis": {
            "backgroundcolor": "#E5ECF6",
            "gridcolor": "white",
            "gridwidth": 2,
            "linecolor": "white",
            "showbackground": true,
            "ticks": "",
            "zerolinecolor": "white"
           },
           "yaxis": {
            "backgroundcolor": "#E5ECF6",
            "gridcolor": "white",
            "gridwidth": 2,
            "linecolor": "white",
            "showbackground": true,
            "ticks": "",
            "zerolinecolor": "white"
           },
           "zaxis": {
            "backgroundcolor": "#E5ECF6",
            "gridcolor": "white",
            "gridwidth": 2,
            "linecolor": "white",
            "showbackground": true,
            "ticks": "",
            "zerolinecolor": "white"
           }
          },
          "shapedefaults": {
           "line": {
            "color": "#2a3f5f"
           }
          },
          "ternary": {
           "aaxis": {
            "gridcolor": "white",
            "linecolor": "white",
            "ticks": ""
           },
           "baxis": {
            "gridcolor": "white",
            "linecolor": "white",
            "ticks": ""
           },
           "bgcolor": "#E5ECF6",
           "caxis": {
            "gridcolor": "white",
            "linecolor": "white",
            "ticks": ""
           }
          },
          "title": {
           "x": 0.05
          },
          "xaxis": {
           "automargin": true,
           "gridcolor": "white",
           "linecolor": "white",
           "ticks": "",
           "title": {
            "standoff": 15
           },
           "zerolinecolor": "white",
           "zerolinewidth": 2
          },
          "yaxis": {
           "automargin": true,
           "gridcolor": "white",
           "linecolor": "white",
           "ticks": "",
           "title": {
            "standoff": 15
           },
           "zerolinecolor": "white",
           "zerolinewidth": 2
          }
         }
        },
        "title": {
         "text": "Plot of Mean and median differences of randomized weights for each verification method for 1 d.p"
        },
        "xaxis": {
         "anchor": "y",
         "domain": [
          0,
          1
         ],
         "title": {
          "text": "value"
         }
        },
        "yaxis": {
         "anchor": "x",
         "domain": [
          0,
          1
         ],
         "title": {
          "text": "Weight_combination"
         }
        }
       }
      },
      "text/html": [
       "<div>                            <div id=\"14a64088-625b-4b89-8433-178794c90f70\" class=\"plotly-graph-div\" style=\"height:525px; width:100%;\"></div>            <script type=\"text/javascript\">                require([\"plotly\"], function(Plotly) {                    window.PLOTLYENV=window.PLOTLYENV || {};                                    if (document.getElementById(\"14a64088-625b-4b89-8433-178794c90f70\")) {                    Plotly.newPlot(                        \"14a64088-625b-4b89-8433-178794c90f70\",                        [{\"alignmentgroup\":\"True\",\"hovertemplate\":\"Class=wide_variable_0<br>value=%{x}<br>Weight_combination=%{y}<extra></extra>\",\"legendgroup\":\"wide_variable_0\",\"marker\":{\"color\":\"#636efa\",\"opacity\":0.9,\"pattern\":{\"shape\":\"\"}},\"name\":\"wide_variable_0\",\"offsetgroup\":\"wide_variable_0\",\"orientation\":\"h\",\"showlegend\":true,\"textposition\":\"auto\",\"type\":\"bar\",\"x\":[8.175512971698065,7.84502948113208,7.8345990566037855,7.801485849056661,7.769534198113163,7.655890330188782,7.647623820754674,7.608343160377284,7.56797169811324,7.538466981132096],\"xaxis\":\"x\",\"y\":[\"11.4,16.9,3.1,2.7,16.1,20.7,17.2,11.9\",\"2.9,16.3,6.3,6.7,15.1,23.4,16.7,12.6\",\"14.9,15.3,3.0,3.4,19.0,17.2,15.6,11.6\",\"11.1,11.5,2.0,7.1,20.2,20.9,14.6,12.6\",\"13.2,16.6,3.1,4.7,14.6,19.0,13.9,14.9\",\"13.0,15.6,3.6,2.0,18.9,17.6,11.7,17.6\",\"4.7,12.4,3.8,8.5,21.4,21.4,12.8,15.0\",\"2.5,18.1,4.0,4.8,21.0,16.5,19.0,14.1\",\"4.0,17.8,8.0,4.4,20.4,17.8,13.8,13.8\",\"7.6,13.1,2.1,9.3,13.1,23.5,12.7,18.6\"],\"yaxis\":\"y\"},{\"alignmentgroup\":\"True\",\"hovertemplate\":\"Class=wide_variable_1<br>value=%{x}<br>Weight_combination=%{y}<extra></extra>\",\"legendgroup\":\"wide_variable_1\",\"marker\":{\"color\":\"#EF553B\",\"opacity\":0.9,\"pattern\":{\"shape\":\"\"}},\"name\":\"wide_variable_1\",\"offsetgroup\":\"wide_variable_1\",\"orientation\":\"h\",\"showlegend\":true,\"textposition\":\"auto\",\"type\":\"bar\",\"x\":[6.599999999999994,9.599999999999998,4.100000000000001,8.450000000000003,4.0,4.600000000000001,9.099999999999994,12.2,9.400000000000006,6.600000000000001],\"xaxis\":\"x\",\"y\":[\"11.4,16.9,3.1,2.7,16.1,20.7,17.2,11.9\",\"2.9,16.3,6.3,6.7,15.1,23.4,16.7,12.6\",\"14.9,15.3,3.0,3.4,19.0,17.2,15.6,11.6\",\"11.1,11.5,2.0,7.1,20.2,20.9,14.6,12.6\",\"13.2,16.6,3.1,4.7,14.6,19.0,13.9,14.9\",\"13.0,15.6,3.6,2.0,18.9,17.6,11.7,17.6\",\"4.7,12.4,3.8,8.5,21.4,21.4,12.8,15.0\",\"2.5,18.1,4.0,4.8,21.0,16.5,19.0,14.1\",\"4.0,17.8,8.0,4.4,20.4,17.8,13.8,13.8\",\"7.6,13.1,2.1,9.3,13.1,23.5,12.7,18.6\"],\"yaxis\":\"y\"}],                        {\"barmode\":\"group\",\"legend\":{\"title\":{\"text\":\"Class\"},\"tracegroupgap\":0},\"template\":{\"data\":{\"bar\":[{\"error_x\":{\"color\":\"#2a3f5f\"},\"error_y\":{\"color\":\"#2a3f5f\"},\"marker\":{\"line\":{\"color\":\"#E5ECF6\",\"width\":0.5},\"pattern\":{\"fillmode\":\"overlay\",\"size\":10,\"solidity\":0.2}},\"type\":\"bar\"}],\"barpolar\":[{\"marker\":{\"line\":{\"color\":\"#E5ECF6\",\"width\":0.5},\"pattern\":{\"fillmode\":\"overlay\",\"size\":10,\"solidity\":0.2}},\"type\":\"barpolar\"}],\"carpet\":[{\"aaxis\":{\"endlinecolor\":\"#2a3f5f\",\"gridcolor\":\"white\",\"linecolor\":\"white\",\"minorgridcolor\":\"white\",\"startlinecolor\":\"#2a3f5f\"},\"baxis\":{\"endlinecolor\":\"#2a3f5f\",\"gridcolor\":\"white\",\"linecolor\":\"white\",\"minorgridcolor\":\"white\",\"startlinecolor\":\"#2a3f5f\"},\"type\":\"carpet\"}],\"choropleth\":[{\"colorbar\":{\"outlinewidth\":0,\"ticks\":\"\"},\"type\":\"choropleth\"}],\"contour\":[{\"colorbar\":{\"outlinewidth\":0,\"ticks\":\"\"},\"colorscale\":[[0.0,\"#0d0887\"],[0.1111111111111111,\"#46039f\"],[0.2222222222222222,\"#7201a8\"],[0.3333333333333333,\"#9c179e\"],[0.4444444444444444,\"#bd3786\"],[0.5555555555555556,\"#d8576b\"],[0.6666666666666666,\"#ed7953\"],[0.7777777777777778,\"#fb9f3a\"],[0.8888888888888888,\"#fdca26\"],[1.0,\"#f0f921\"]],\"type\":\"contour\"}],\"contourcarpet\":[{\"colorbar\":{\"outlinewidth\":0,\"ticks\":\"\"},\"type\":\"contourcarpet\"}],\"heatmap\":[{\"colorbar\":{\"outlinewidth\":0,\"ticks\":\"\"},\"colorscale\":[[0.0,\"#0d0887\"],[0.1111111111111111,\"#46039f\"],[0.2222222222222222,\"#7201a8\"],[0.3333333333333333,\"#9c179e\"],[0.4444444444444444,\"#bd3786\"],[0.5555555555555556,\"#d8576b\"],[0.6666666666666666,\"#ed7953\"],[0.7777777777777778,\"#fb9f3a\"],[0.8888888888888888,\"#fdca26\"],[1.0,\"#f0f921\"]],\"type\":\"heatmap\"}],\"heatmapgl\":[{\"colorbar\":{\"outlinewidth\":0,\"ticks\":\"\"},\"colorscale\":[[0.0,\"#0d0887\"],[0.1111111111111111,\"#46039f\"],[0.2222222222222222,\"#7201a8\"],[0.3333333333333333,\"#9c179e\"],[0.4444444444444444,\"#bd3786\"],[0.5555555555555556,\"#d8576b\"],[0.6666666666666666,\"#ed7953\"],[0.7777777777777778,\"#fb9f3a\"],[0.8888888888888888,\"#fdca26\"],[1.0,\"#f0f921\"]],\"type\":\"heatmapgl\"}],\"histogram\":[{\"marker\":{\"pattern\":{\"fillmode\":\"overlay\",\"size\":10,\"solidity\":0.2}},\"type\":\"histogram\"}],\"histogram2d\":[{\"colorbar\":{\"outlinewidth\":0,\"ticks\":\"\"},\"colorscale\":[[0.0,\"#0d0887\"],[0.1111111111111111,\"#46039f\"],[0.2222222222222222,\"#7201a8\"],[0.3333333333333333,\"#9c179e\"],[0.4444444444444444,\"#bd3786\"],[0.5555555555555556,\"#d8576b\"],[0.6666666666666666,\"#ed7953\"],[0.7777777777777778,\"#fb9f3a\"],[0.8888888888888888,\"#fdca26\"],[1.0,\"#f0f921\"]],\"type\":\"histogram2d\"}],\"histogram2dcontour\":[{\"colorbar\":{\"outlinewidth\":0,\"ticks\":\"\"},\"colorscale\":[[0.0,\"#0d0887\"],[0.1111111111111111,\"#46039f\"],[0.2222222222222222,\"#7201a8\"],[0.3333333333333333,\"#9c179e\"],[0.4444444444444444,\"#bd3786\"],[0.5555555555555556,\"#d8576b\"],[0.6666666666666666,\"#ed7953\"],[0.7777777777777778,\"#fb9f3a\"],[0.8888888888888888,\"#fdca26\"],[1.0,\"#f0f921\"]],\"type\":\"histogram2dcontour\"}],\"mesh3d\":[{\"colorbar\":{\"outlinewidth\":0,\"ticks\":\"\"},\"type\":\"mesh3d\"}],\"parcoords\":[{\"line\":{\"colorbar\":{\"outlinewidth\":0,\"ticks\":\"\"}},\"type\":\"parcoords\"}],\"pie\":[{\"automargin\":true,\"type\":\"pie\"}],\"scatter\":[{\"marker\":{\"colorbar\":{\"outlinewidth\":0,\"ticks\":\"\"}},\"type\":\"scatter\"}],\"scatter3d\":[{\"line\":{\"colorbar\":{\"outlinewidth\":0,\"ticks\":\"\"}},\"marker\":{\"colorbar\":{\"outlinewidth\":0,\"ticks\":\"\"}},\"type\":\"scatter3d\"}],\"scattercarpet\":[{\"marker\":{\"colorbar\":{\"outlinewidth\":0,\"ticks\":\"\"}},\"type\":\"scattercarpet\"}],\"scattergeo\":[{\"marker\":{\"colorbar\":{\"outlinewidth\":0,\"ticks\":\"\"}},\"type\":\"scattergeo\"}],\"scattergl\":[{\"marker\":{\"colorbar\":{\"outlinewidth\":0,\"ticks\":\"\"}},\"type\":\"scattergl\"}],\"scattermapbox\":[{\"marker\":{\"colorbar\":{\"outlinewidth\":0,\"ticks\":\"\"}},\"type\":\"scattermapbox\"}],\"scatterpolar\":[{\"marker\":{\"colorbar\":{\"outlinewidth\":0,\"ticks\":\"\"}},\"type\":\"scatterpolar\"}],\"scatterpolargl\":[{\"marker\":{\"colorbar\":{\"outlinewidth\":0,\"ticks\":\"\"}},\"type\":\"scatterpolargl\"}],\"scatterternary\":[{\"marker\":{\"colorbar\":{\"outlinewidth\":0,\"ticks\":\"\"}},\"type\":\"scatterternary\"}],\"surface\":[{\"colorbar\":{\"outlinewidth\":0,\"ticks\":\"\"},\"colorscale\":[[0.0,\"#0d0887\"],[0.1111111111111111,\"#46039f\"],[0.2222222222222222,\"#7201a8\"],[0.3333333333333333,\"#9c179e\"],[0.4444444444444444,\"#bd3786\"],[0.5555555555555556,\"#d8576b\"],[0.6666666666666666,\"#ed7953\"],[0.7777777777777778,\"#fb9f3a\"],[0.8888888888888888,\"#fdca26\"],[1.0,\"#f0f921\"]],\"type\":\"surface\"}],\"table\":[{\"cells\":{\"fill\":{\"color\":\"#EBF0F8\"},\"line\":{\"color\":\"white\"}},\"header\":{\"fill\":{\"color\":\"#C8D4E3\"},\"line\":{\"color\":\"white\"}},\"type\":\"table\"}]},\"layout\":{\"annotationdefaults\":{\"arrowcolor\":\"#2a3f5f\",\"arrowhead\":0,\"arrowwidth\":1},\"autotypenumbers\":\"strict\",\"coloraxis\":{\"colorbar\":{\"outlinewidth\":0,\"ticks\":\"\"}},\"colorscale\":{\"diverging\":[[0,\"#8e0152\"],[0.1,\"#c51b7d\"],[0.2,\"#de77ae\"],[0.3,\"#f1b6da\"],[0.4,\"#fde0ef\"],[0.5,\"#f7f7f7\"],[0.6,\"#e6f5d0\"],[0.7,\"#b8e186\"],[0.8,\"#7fbc41\"],[0.9,\"#4d9221\"],[1,\"#276419\"]],\"sequential\":[[0.0,\"#0d0887\"],[0.1111111111111111,\"#46039f\"],[0.2222222222222222,\"#7201a8\"],[0.3333333333333333,\"#9c179e\"],[0.4444444444444444,\"#bd3786\"],[0.5555555555555556,\"#d8576b\"],[0.6666666666666666,\"#ed7953\"],[0.7777777777777778,\"#fb9f3a\"],[0.8888888888888888,\"#fdca26\"],[1.0,\"#f0f921\"]],\"sequentialminus\":[[0.0,\"#0d0887\"],[0.1111111111111111,\"#46039f\"],[0.2222222222222222,\"#7201a8\"],[0.3333333333333333,\"#9c179e\"],[0.4444444444444444,\"#bd3786\"],[0.5555555555555556,\"#d8576b\"],[0.6666666666666666,\"#ed7953\"],[0.7777777777777778,\"#fb9f3a\"],[0.8888888888888888,\"#fdca26\"],[1.0,\"#f0f921\"]]},\"colorway\":[\"#636efa\",\"#EF553B\",\"#00cc96\",\"#ab63fa\",\"#FFA15A\",\"#19d3f3\",\"#FF6692\",\"#B6E880\",\"#FF97FF\",\"#FECB52\"],\"font\":{\"color\":\"#2a3f5f\"},\"geo\":{\"bgcolor\":\"white\",\"lakecolor\":\"white\",\"landcolor\":\"#E5ECF6\",\"showlakes\":true,\"showland\":true,\"subunitcolor\":\"white\"},\"hoverlabel\":{\"align\":\"left\"},\"hovermode\":\"closest\",\"mapbox\":{\"style\":\"light\"},\"paper_bgcolor\":\"white\",\"plot_bgcolor\":\"#E5ECF6\",\"polar\":{\"angularaxis\":{\"gridcolor\":\"white\",\"linecolor\":\"white\",\"ticks\":\"\"},\"bgcolor\":\"#E5ECF6\",\"radialaxis\":{\"gridcolor\":\"white\",\"linecolor\":\"white\",\"ticks\":\"\"}},\"scene\":{\"xaxis\":{\"backgroundcolor\":\"#E5ECF6\",\"gridcolor\":\"white\",\"gridwidth\":2,\"linecolor\":\"white\",\"showbackground\":true,\"ticks\":\"\",\"zerolinecolor\":\"white\"},\"yaxis\":{\"backgroundcolor\":\"#E5ECF6\",\"gridcolor\":\"white\",\"gridwidth\":2,\"linecolor\":\"white\",\"showbackground\":true,\"ticks\":\"\",\"zerolinecolor\":\"white\"},\"zaxis\":{\"backgroundcolor\":\"#E5ECF6\",\"gridcolor\":\"white\",\"gridwidth\":2,\"linecolor\":\"white\",\"showbackground\":true,\"ticks\":\"\",\"zerolinecolor\":\"white\"}},\"shapedefaults\":{\"line\":{\"color\":\"#2a3f5f\"}},\"ternary\":{\"aaxis\":{\"gridcolor\":\"white\",\"linecolor\":\"white\",\"ticks\":\"\"},\"baxis\":{\"gridcolor\":\"white\",\"linecolor\":\"white\",\"ticks\":\"\"},\"bgcolor\":\"#E5ECF6\",\"caxis\":{\"gridcolor\":\"white\",\"linecolor\":\"white\",\"ticks\":\"\"}},\"title\":{\"x\":0.05},\"xaxis\":{\"automargin\":true,\"gridcolor\":\"white\",\"linecolor\":\"white\",\"ticks\":\"\",\"title\":{\"standoff\":15},\"zerolinecolor\":\"white\",\"zerolinewidth\":2},\"yaxis\":{\"automargin\":true,\"gridcolor\":\"white\",\"linecolor\":\"white\",\"ticks\":\"\",\"title\":{\"standoff\":15},\"zerolinecolor\":\"white\",\"zerolinewidth\":2}}},\"title\":{\"text\":\"Plot of Mean and median differences of randomized weights for each verification method for 1 d.p\"},\"xaxis\":{\"anchor\":\"y\",\"domain\":[0.0,1.0],\"title\":{\"text\":\"value\"}},\"yaxis\":{\"anchor\":\"x\",\"domain\":[0.0,1.0],\"title\":{\"text\":\"Weight_combination\"}}},                        {\"responsive\": true}                    ).then(function(){\n",
       "                            \n",
       "var gd = document.getElementById('14a64088-625b-4b89-8433-178794c90f70');\n",
       "var x = new MutationObserver(function (mutations, observer) {{\n",
       "        var display = window.getComputedStyle(gd).display;\n",
       "        if (!display || display === 'none') {{\n",
       "            console.log([gd, 'removed!']);\n",
       "            Plotly.purge(gd);\n",
       "            observer.disconnect();\n",
       "        }}\n",
       "}});\n",
       "\n",
       "// Listen for the removal of the full notebook cells\n",
       "var notebookContainer = gd.closest('#notebook-container');\n",
       "if (notebookContainer) {{\n",
       "    x.observe(notebookContainer, {childList: true});\n",
       "}}\n",
       "\n",
       "// Listen for the clearing of the current output cell\n",
       "var outputEl = gd.closest('.output');\n",
       "if (outputEl) {{\n",
       "    x.observe(outputEl, {childList: true});\n",
       "}}\n",
       "\n",
       "                        })                };                });            </script>        </div>"
      ]
     },
     "metadata": {},
     "output_type": "display_data"
    }
   ],
   "source": [
    "barchart"
   ]
  },
  {
   "cell_type": "code",
   "execution_count": 514,
   "id": "93e7b03f",
   "metadata": {},
   "outputs": [],
   "source": [
    "diff3 = pd.DataFrame()\n",
    "diff3[\"Combination of weights\"] = trust_scores\n",
    "diff3[\"Sybil mean\"] = sybil_mean\n",
    "diff3[\"not_sybil mean\"] = not_sybil_mean\n",
    "diff3[\"Mean differences\"] = trust_mean_differences\n",
    "diff3[\"Sybil median\"] = sybil_median\n",
    "diff3[\"not_sybil median\"] = not_sybil_median\n",
    "diff3[\"Median differences\"] = trust_median_differences"
   ]
  },
  {
   "cell_type": "code",
   "execution_count": 515,
   "id": "48f3da5e",
   "metadata": {},
   "outputs": [],
   "source": [
    "diff3.sort_values(by=\"Mean differences\", inplace=True, ascending=False)\n",
    "diff3.reset_index(drop=True, inplace=True)"
   ]
  },
  {
   "cell_type": "code",
   "execution_count": 517,
   "id": "7d56b296",
   "metadata": {},
   "outputs": [
    {
     "data": {
      "text/html": [
       "<div>\n",
       "<style scoped>\n",
       "    .dataframe tbody tr th:only-of-type {\n",
       "        vertical-align: middle;\n",
       "    }\n",
       "\n",
       "    .dataframe tbody tr th {\n",
       "        vertical-align: top;\n",
       "    }\n",
       "\n",
       "    .dataframe thead th {\n",
       "        text-align: right;\n",
       "    }\n",
       "</style>\n",
       "<table border=\"1\" class=\"dataframe\">\n",
       "  <thead>\n",
       "    <tr style=\"text-align: right;\">\n",
       "      <th></th>\n",
       "      <th>Combination of weights</th>\n",
       "      <th>Sybil mean</th>\n",
       "      <th>not_sybil mean</th>\n",
       "      <th>Mean differences</th>\n",
       "      <th>Sybil median</th>\n",
       "      <th>not_sybil median</th>\n",
       "      <th>Median differences</th>\n",
       "    </tr>\n",
       "  </thead>\n",
       "  <tbody>\n",
       "    <tr>\n",
       "      <th>0</th>\n",
       "      <td>[11.49, 16.86, 3.07, 2.68, 16.09, 20.69, 17.24...</td>\n",
       "      <td>30.229528</td>\n",
       "      <td>38.403500</td>\n",
       "      <td>8.173972</td>\n",
       "      <td>33.33</td>\n",
       "      <td>39.850</td>\n",
       "      <td>6.520</td>\n",
       "    </tr>\n",
       "    <tr>\n",
       "      <th>1</th>\n",
       "      <td>[2.93, 16.32, 6.28, 6.69, 15.06, 23.43, 16.74,...</td>\n",
       "      <td>31.610189</td>\n",
       "      <td>39.462937</td>\n",
       "      <td>7.852749</td>\n",
       "      <td>31.80</td>\n",
       "      <td>41.420</td>\n",
       "      <td>9.620</td>\n",
       "    </tr>\n",
       "    <tr>\n",
       "      <th>2</th>\n",
       "      <td>[14.93, 15.3, 2.99, 3.36, 19.03, 17.16, 15.66,...</td>\n",
       "      <td>31.397972</td>\n",
       "      <td>39.231781</td>\n",
       "      <td>7.833810</td>\n",
       "      <td>35.08</td>\n",
       "      <td>39.180</td>\n",
       "      <td>4.100</td>\n",
       "    </tr>\n",
       "    <tr>\n",
       "      <th>3</th>\n",
       "      <td>[11.07, 11.46, 1.98, 7.11, 20.16, 20.95, 14.62...</td>\n",
       "      <td>31.931698</td>\n",
       "      <td>39.730437</td>\n",
       "      <td>7.798739</td>\n",
       "      <td>32.81</td>\n",
       "      <td>41.305</td>\n",
       "      <td>8.495</td>\n",
       "    </tr>\n",
       "    <tr>\n",
       "      <th>4</th>\n",
       "      <td>[13.22, 16.61, 3.04, 4.75, 14.58, 18.98, 13.9,...</td>\n",
       "      <td>30.235802</td>\n",
       "      <td>38.005719</td>\n",
       "      <td>7.769917</td>\n",
       "      <td>33.56</td>\n",
       "      <td>37.620</td>\n",
       "      <td>4.060</td>\n",
       "    </tr>\n",
       "    <tr>\n",
       "      <th>5</th>\n",
       "      <td>[13.03, 15.64, 3.58, 1.95, 18.89, 17.59, 11.73...</td>\n",
       "      <td>30.731509</td>\n",
       "      <td>38.393344</td>\n",
       "      <td>7.661834</td>\n",
       "      <td>34.20</td>\n",
       "      <td>38.760</td>\n",
       "      <td>4.560</td>\n",
       "    </tr>\n",
       "    <tr>\n",
       "      <th>6</th>\n",
       "      <td>[4.7, 12.39, 3.85, 8.55, 21.36, 21.37, 12.82, ...</td>\n",
       "      <td>32.382830</td>\n",
       "      <td>40.020031</td>\n",
       "      <td>7.637201</td>\n",
       "      <td>33.76</td>\n",
       "      <td>42.730</td>\n",
       "      <td>8.970</td>\n",
       "    </tr>\n",
       "    <tr>\n",
       "      <th>7</th>\n",
       "      <td>[2.42, 18.15, 4.03, 4.84, 20.97, 16.53, 18.95,...</td>\n",
       "      <td>28.807783</td>\n",
       "      <td>36.419531</td>\n",
       "      <td>7.611748</td>\n",
       "      <td>27.82</td>\n",
       "      <td>39.920</td>\n",
       "      <td>12.100</td>\n",
       "    </tr>\n",
       "    <tr>\n",
       "      <th>8</th>\n",
       "      <td>[4.0, 17.78, 8.0, 4.44, 20.44, 17.78, 13.78, 1...</td>\n",
       "      <td>32.947170</td>\n",
       "      <td>40.513000</td>\n",
       "      <td>7.565830</td>\n",
       "      <td>32.88</td>\n",
       "      <td>42.220</td>\n",
       "      <td>9.340</td>\n",
       "    </tr>\n",
       "    <tr>\n",
       "      <th>9</th>\n",
       "      <td>[7.59, 13.08, 2.11, 9.28, 13.08, 23.63, 12.66,...</td>\n",
       "      <td>29.587123</td>\n",
       "      <td>37.140000</td>\n",
       "      <td>7.552877</td>\n",
       "      <td>32.06</td>\n",
       "      <td>38.820</td>\n",
       "      <td>6.760</td>\n",
       "    </tr>\n",
       "  </tbody>\n",
       "</table>\n",
       "</div>"
      ],
      "text/plain": [
       "                              Combination of weights  Sybil mean  \\\n",
       "0  [11.49, 16.86, 3.07, 2.68, 16.09, 20.69, 17.24...   30.229528   \n",
       "1  [2.93, 16.32, 6.28, 6.69, 15.06, 23.43, 16.74,...   31.610189   \n",
       "2  [14.93, 15.3, 2.99, 3.36, 19.03, 17.16, 15.66,...   31.397972   \n",
       "3  [11.07, 11.46, 1.98, 7.11, 20.16, 20.95, 14.62...   31.931698   \n",
       "4  [13.22, 16.61, 3.04, 4.75, 14.58, 18.98, 13.9,...   30.235802   \n",
       "5  [13.03, 15.64, 3.58, 1.95, 18.89, 17.59, 11.73...   30.731509   \n",
       "6  [4.7, 12.39, 3.85, 8.55, 21.36, 21.37, 12.82, ...   32.382830   \n",
       "7  [2.42, 18.15, 4.03, 4.84, 20.97, 16.53, 18.95,...   28.807783   \n",
       "8  [4.0, 17.78, 8.0, 4.44, 20.44, 17.78, 13.78, 1...   32.947170   \n",
       "9  [7.59, 13.08, 2.11, 9.28, 13.08, 23.63, 12.66,...   29.587123   \n",
       "\n",
       "   not_sybil mean  Mean differences  Sybil median  not_sybil median  \\\n",
       "0       38.403500          8.173972         33.33            39.850   \n",
       "1       39.462937          7.852749         31.80            41.420   \n",
       "2       39.231781          7.833810         35.08            39.180   \n",
       "3       39.730437          7.798739         32.81            41.305   \n",
       "4       38.005719          7.769917         33.56            37.620   \n",
       "5       38.393344          7.661834         34.20            38.760   \n",
       "6       40.020031          7.637201         33.76            42.730   \n",
       "7       36.419531          7.611748         27.82            39.920   \n",
       "8       40.513000          7.565830         32.88            42.220   \n",
       "9       37.140000          7.552877         32.06            38.820   \n",
       "\n",
       "   Median differences  \n",
       "0               6.520  \n",
       "1               9.620  \n",
       "2               4.100  \n",
       "3               8.495  \n",
       "4               4.060  \n",
       "5               4.560  \n",
       "6               8.970  \n",
       "7              12.100  \n",
       "8               9.340  \n",
       "9               6.760  "
      ]
     },
     "execution_count": 517,
     "metadata": {},
     "output_type": "execute_result"
    }
   ],
   "source": [
    "diff3.head(10)"
   ]
  },
  {
   "cell_type": "code",
   "execution_count": 521,
   "id": "32fbda8a",
   "metadata": {},
   "outputs": [],
   "source": [
    "import plotly.express as px\n",
    "\n",
    "combination = []\n",
    "for i in range(diff3.shape[0]):\n",
    "    string = \",\".join([str(item) for item in diff3.loc[i, \"Combination of weights\"]])\n",
    "    combination.append(string)\n",
    "    \n",
    "diff3[\"Weight_combination\"] = combination\n",
    "\n",
    "barchart = px.bar(data_frame= diff3.head(10),\n",
    "                 y= \"Weight_combination\",\n",
    "                 x= [diff3.head(10)[\"Mean differences\"], diff3.head(10)[\"Median differences\"]],\n",
    "                 #color=\"counts\",\n",
    "                 opacity=0.9,\n",
    "                 orientation=\"h\",\n",
    "                  color_continuous_scale=px.colors.diverging.Spectral,\n",
    "                  barmode=\"group\",\n",
    "                  title=\"Plot of Mean and median differences of randomized weights for each verification method for 2 d.p\",\n",
    "                  labels={\"variable\": \"Class\",\n",
    "                         \"x\": \"Methods\", \n",
    "                         \"true_counts\": \"True\",\n",
    "                         \"false_counts\": \"False\"}\n",
    "                  #text= verify.counts_True, verify.counts_False\n",
    "                 #color_discrete_sequence=[\"darkorange\", \"lightblue\"]\n",
    "                 ) \n",
    "\n",
    "#barchart.update_layout(yaxis = dict(tickmode = 'array', ticktext = [i for i in diff[\"Combination of weights\"]]))"
   ]
  },
  {
   "cell_type": "code",
   "execution_count": 522,
   "id": "56285dee",
   "metadata": {},
   "outputs": [
    {
     "data": {
      "application/vnd.plotly.v1+json": {
       "config": {
        "plotlyServerURL": "https://plot.ly"
       },
       "data": [
        {
         "alignmentgroup": "True",
         "hovertemplate": "Class=wide_variable_0<br>value=%{x}<br>Weight_combination=%{y}<extra></extra>",
         "legendgroup": "wide_variable_0",
         "marker": {
          "color": "#636efa",
          "opacity": 0.9,
          "pattern": {
           "shape": ""
          }
         },
         "name": "wide_variable_0",
         "offsetgroup": "wide_variable_0",
         "orientation": "h",
         "showlegend": true,
         "textposition": "auto",
         "type": "bar",
         "x": [
          8.173971698113242,
          7.85274882075468,
          7.833809551886823,
          7.798739386792448,
          7.769916863207552,
          7.661834316037787,
          7.637201061320724,
          7.611748231132179,
          7.565830188679193,
          7.552877358490591
         ],
         "xaxis": "x",
         "y": [
          "11.49,16.86,3.07,2.68,16.09,20.69,17.24,11.88",
          "2.93,16.32,6.28,6.69,15.06,23.43,16.74,12.55",
          "14.93,15.3,2.99,3.36,19.03,17.16,15.66,11.57",
          "11.07,11.46,1.98,7.11,20.16,20.95,14.62,12.65",
          "13.22,16.61,3.04,4.75,14.58,18.98,13.9,14.92",
          "13.03,15.64,3.58,1.95,18.89,17.59,11.73,17.59",
          "4.7,12.39,3.85,8.55,21.36,21.37,12.82,14.96",
          "2.42,18.15,4.03,4.84,20.97,16.53,18.95,14.11",
          "4.0,17.78,8.0,4.44,20.44,17.78,13.78,13.78",
          "7.59,13.08,2.11,9.28,13.08,23.63,12.66,18.57"
         ],
         "yaxis": "y"
        },
        {
         "alignmentgroup": "True",
         "hovertemplate": "Class=wide_variable_1<br>value=%{x}<br>Weight_combination=%{y}<extra></extra>",
         "legendgroup": "wide_variable_1",
         "marker": {
          "color": "#EF553B",
          "opacity": 0.9,
          "pattern": {
           "shape": ""
          }
         },
         "name": "wide_variable_1",
         "offsetgroup": "wide_variable_1",
         "orientation": "h",
         "showlegend": true,
         "textposition": "auto",
         "type": "bar",
         "x": [
          6.520000000000003,
          9.620000000000001,
          4.099999999999994,
          8.49499999999999,
          4.059999999999995,
          4.560000000000009,
          8.969999999999999,
          12.099999999999998,
          9.339999999999996,
          6.759999999999998
         ],
         "xaxis": "x",
         "y": [
          "11.49,16.86,3.07,2.68,16.09,20.69,17.24,11.88",
          "2.93,16.32,6.28,6.69,15.06,23.43,16.74,12.55",
          "14.93,15.3,2.99,3.36,19.03,17.16,15.66,11.57",
          "11.07,11.46,1.98,7.11,20.16,20.95,14.62,12.65",
          "13.22,16.61,3.04,4.75,14.58,18.98,13.9,14.92",
          "13.03,15.64,3.58,1.95,18.89,17.59,11.73,17.59",
          "4.7,12.39,3.85,8.55,21.36,21.37,12.82,14.96",
          "2.42,18.15,4.03,4.84,20.97,16.53,18.95,14.11",
          "4.0,17.78,8.0,4.44,20.44,17.78,13.78,13.78",
          "7.59,13.08,2.11,9.28,13.08,23.63,12.66,18.57"
         ],
         "yaxis": "y"
        }
       ],
       "layout": {
        "barmode": "group",
        "legend": {
         "title": {
          "text": "Class"
         },
         "tracegroupgap": 0
        },
        "template": {
         "data": {
          "bar": [
           {
            "error_x": {
             "color": "#2a3f5f"
            },
            "error_y": {
             "color": "#2a3f5f"
            },
            "marker": {
             "line": {
              "color": "#E5ECF6",
              "width": 0.5
             },
             "pattern": {
              "fillmode": "overlay",
              "size": 10,
              "solidity": 0.2
             }
            },
            "type": "bar"
           }
          ],
          "barpolar": [
           {
            "marker": {
             "line": {
              "color": "#E5ECF6",
              "width": 0.5
             },
             "pattern": {
              "fillmode": "overlay",
              "size": 10,
              "solidity": 0.2
             }
            },
            "type": "barpolar"
           }
          ],
          "carpet": [
           {
            "aaxis": {
             "endlinecolor": "#2a3f5f",
             "gridcolor": "white",
             "linecolor": "white",
             "minorgridcolor": "white",
             "startlinecolor": "#2a3f5f"
            },
            "baxis": {
             "endlinecolor": "#2a3f5f",
             "gridcolor": "white",
             "linecolor": "white",
             "minorgridcolor": "white",
             "startlinecolor": "#2a3f5f"
            },
            "type": "carpet"
           }
          ],
          "choropleth": [
           {
            "colorbar": {
             "outlinewidth": 0,
             "ticks": ""
            },
            "type": "choropleth"
           }
          ],
          "contour": [
           {
            "colorbar": {
             "outlinewidth": 0,
             "ticks": ""
            },
            "colorscale": [
             [
              0,
              "#0d0887"
             ],
             [
              0.1111111111111111,
              "#46039f"
             ],
             [
              0.2222222222222222,
              "#7201a8"
             ],
             [
              0.3333333333333333,
              "#9c179e"
             ],
             [
              0.4444444444444444,
              "#bd3786"
             ],
             [
              0.5555555555555556,
              "#d8576b"
             ],
             [
              0.6666666666666666,
              "#ed7953"
             ],
             [
              0.7777777777777778,
              "#fb9f3a"
             ],
             [
              0.8888888888888888,
              "#fdca26"
             ],
             [
              1,
              "#f0f921"
             ]
            ],
            "type": "contour"
           }
          ],
          "contourcarpet": [
           {
            "colorbar": {
             "outlinewidth": 0,
             "ticks": ""
            },
            "type": "contourcarpet"
           }
          ],
          "heatmap": [
           {
            "colorbar": {
             "outlinewidth": 0,
             "ticks": ""
            },
            "colorscale": [
             [
              0,
              "#0d0887"
             ],
             [
              0.1111111111111111,
              "#46039f"
             ],
             [
              0.2222222222222222,
              "#7201a8"
             ],
             [
              0.3333333333333333,
              "#9c179e"
             ],
             [
              0.4444444444444444,
              "#bd3786"
             ],
             [
              0.5555555555555556,
              "#d8576b"
             ],
             [
              0.6666666666666666,
              "#ed7953"
             ],
             [
              0.7777777777777778,
              "#fb9f3a"
             ],
             [
              0.8888888888888888,
              "#fdca26"
             ],
             [
              1,
              "#f0f921"
             ]
            ],
            "type": "heatmap"
           }
          ],
          "heatmapgl": [
           {
            "colorbar": {
             "outlinewidth": 0,
             "ticks": ""
            },
            "colorscale": [
             [
              0,
              "#0d0887"
             ],
             [
              0.1111111111111111,
              "#46039f"
             ],
             [
              0.2222222222222222,
              "#7201a8"
             ],
             [
              0.3333333333333333,
              "#9c179e"
             ],
             [
              0.4444444444444444,
              "#bd3786"
             ],
             [
              0.5555555555555556,
              "#d8576b"
             ],
             [
              0.6666666666666666,
              "#ed7953"
             ],
             [
              0.7777777777777778,
              "#fb9f3a"
             ],
             [
              0.8888888888888888,
              "#fdca26"
             ],
             [
              1,
              "#f0f921"
             ]
            ],
            "type": "heatmapgl"
           }
          ],
          "histogram": [
           {
            "marker": {
             "pattern": {
              "fillmode": "overlay",
              "size": 10,
              "solidity": 0.2
             }
            },
            "type": "histogram"
           }
          ],
          "histogram2d": [
           {
            "colorbar": {
             "outlinewidth": 0,
             "ticks": ""
            },
            "colorscale": [
             [
              0,
              "#0d0887"
             ],
             [
              0.1111111111111111,
              "#46039f"
             ],
             [
              0.2222222222222222,
              "#7201a8"
             ],
             [
              0.3333333333333333,
              "#9c179e"
             ],
             [
              0.4444444444444444,
              "#bd3786"
             ],
             [
              0.5555555555555556,
              "#d8576b"
             ],
             [
              0.6666666666666666,
              "#ed7953"
             ],
             [
              0.7777777777777778,
              "#fb9f3a"
             ],
             [
              0.8888888888888888,
              "#fdca26"
             ],
             [
              1,
              "#f0f921"
             ]
            ],
            "type": "histogram2d"
           }
          ],
          "histogram2dcontour": [
           {
            "colorbar": {
             "outlinewidth": 0,
             "ticks": ""
            },
            "colorscale": [
             [
              0,
              "#0d0887"
             ],
             [
              0.1111111111111111,
              "#46039f"
             ],
             [
              0.2222222222222222,
              "#7201a8"
             ],
             [
              0.3333333333333333,
              "#9c179e"
             ],
             [
              0.4444444444444444,
              "#bd3786"
             ],
             [
              0.5555555555555556,
              "#d8576b"
             ],
             [
              0.6666666666666666,
              "#ed7953"
             ],
             [
              0.7777777777777778,
              "#fb9f3a"
             ],
             [
              0.8888888888888888,
              "#fdca26"
             ],
             [
              1,
              "#f0f921"
             ]
            ],
            "type": "histogram2dcontour"
           }
          ],
          "mesh3d": [
           {
            "colorbar": {
             "outlinewidth": 0,
             "ticks": ""
            },
            "type": "mesh3d"
           }
          ],
          "parcoords": [
           {
            "line": {
             "colorbar": {
              "outlinewidth": 0,
              "ticks": ""
             }
            },
            "type": "parcoords"
           }
          ],
          "pie": [
           {
            "automargin": true,
            "type": "pie"
           }
          ],
          "scatter": [
           {
            "marker": {
             "colorbar": {
              "outlinewidth": 0,
              "ticks": ""
             }
            },
            "type": "scatter"
           }
          ],
          "scatter3d": [
           {
            "line": {
             "colorbar": {
              "outlinewidth": 0,
              "ticks": ""
             }
            },
            "marker": {
             "colorbar": {
              "outlinewidth": 0,
              "ticks": ""
             }
            },
            "type": "scatter3d"
           }
          ],
          "scattercarpet": [
           {
            "marker": {
             "colorbar": {
              "outlinewidth": 0,
              "ticks": ""
             }
            },
            "type": "scattercarpet"
           }
          ],
          "scattergeo": [
           {
            "marker": {
             "colorbar": {
              "outlinewidth": 0,
              "ticks": ""
             }
            },
            "type": "scattergeo"
           }
          ],
          "scattergl": [
           {
            "marker": {
             "colorbar": {
              "outlinewidth": 0,
              "ticks": ""
             }
            },
            "type": "scattergl"
           }
          ],
          "scattermapbox": [
           {
            "marker": {
             "colorbar": {
              "outlinewidth": 0,
              "ticks": ""
             }
            },
            "type": "scattermapbox"
           }
          ],
          "scatterpolar": [
           {
            "marker": {
             "colorbar": {
              "outlinewidth": 0,
              "ticks": ""
             }
            },
            "type": "scatterpolar"
           }
          ],
          "scatterpolargl": [
           {
            "marker": {
             "colorbar": {
              "outlinewidth": 0,
              "ticks": ""
             }
            },
            "type": "scatterpolargl"
           }
          ],
          "scatterternary": [
           {
            "marker": {
             "colorbar": {
              "outlinewidth": 0,
              "ticks": ""
             }
            },
            "type": "scatterternary"
           }
          ],
          "surface": [
           {
            "colorbar": {
             "outlinewidth": 0,
             "ticks": ""
            },
            "colorscale": [
             [
              0,
              "#0d0887"
             ],
             [
              0.1111111111111111,
              "#46039f"
             ],
             [
              0.2222222222222222,
              "#7201a8"
             ],
             [
              0.3333333333333333,
              "#9c179e"
             ],
             [
              0.4444444444444444,
              "#bd3786"
             ],
             [
              0.5555555555555556,
              "#d8576b"
             ],
             [
              0.6666666666666666,
              "#ed7953"
             ],
             [
              0.7777777777777778,
              "#fb9f3a"
             ],
             [
              0.8888888888888888,
              "#fdca26"
             ],
             [
              1,
              "#f0f921"
             ]
            ],
            "type": "surface"
           }
          ],
          "table": [
           {
            "cells": {
             "fill": {
              "color": "#EBF0F8"
             },
             "line": {
              "color": "white"
             }
            },
            "header": {
             "fill": {
              "color": "#C8D4E3"
             },
             "line": {
              "color": "white"
             }
            },
            "type": "table"
           }
          ]
         },
         "layout": {
          "annotationdefaults": {
           "arrowcolor": "#2a3f5f",
           "arrowhead": 0,
           "arrowwidth": 1
          },
          "autotypenumbers": "strict",
          "coloraxis": {
           "colorbar": {
            "outlinewidth": 0,
            "ticks": ""
           }
          },
          "colorscale": {
           "diverging": [
            [
             0,
             "#8e0152"
            ],
            [
             0.1,
             "#c51b7d"
            ],
            [
             0.2,
             "#de77ae"
            ],
            [
             0.3,
             "#f1b6da"
            ],
            [
             0.4,
             "#fde0ef"
            ],
            [
             0.5,
             "#f7f7f7"
            ],
            [
             0.6,
             "#e6f5d0"
            ],
            [
             0.7,
             "#b8e186"
            ],
            [
             0.8,
             "#7fbc41"
            ],
            [
             0.9,
             "#4d9221"
            ],
            [
             1,
             "#276419"
            ]
           ],
           "sequential": [
            [
             0,
             "#0d0887"
            ],
            [
             0.1111111111111111,
             "#46039f"
            ],
            [
             0.2222222222222222,
             "#7201a8"
            ],
            [
             0.3333333333333333,
             "#9c179e"
            ],
            [
             0.4444444444444444,
             "#bd3786"
            ],
            [
             0.5555555555555556,
             "#d8576b"
            ],
            [
             0.6666666666666666,
             "#ed7953"
            ],
            [
             0.7777777777777778,
             "#fb9f3a"
            ],
            [
             0.8888888888888888,
             "#fdca26"
            ],
            [
             1,
             "#f0f921"
            ]
           ],
           "sequentialminus": [
            [
             0,
             "#0d0887"
            ],
            [
             0.1111111111111111,
             "#46039f"
            ],
            [
             0.2222222222222222,
             "#7201a8"
            ],
            [
             0.3333333333333333,
             "#9c179e"
            ],
            [
             0.4444444444444444,
             "#bd3786"
            ],
            [
             0.5555555555555556,
             "#d8576b"
            ],
            [
             0.6666666666666666,
             "#ed7953"
            ],
            [
             0.7777777777777778,
             "#fb9f3a"
            ],
            [
             0.8888888888888888,
             "#fdca26"
            ],
            [
             1,
             "#f0f921"
            ]
           ]
          },
          "colorway": [
           "#636efa",
           "#EF553B",
           "#00cc96",
           "#ab63fa",
           "#FFA15A",
           "#19d3f3",
           "#FF6692",
           "#B6E880",
           "#FF97FF",
           "#FECB52"
          ],
          "font": {
           "color": "#2a3f5f"
          },
          "geo": {
           "bgcolor": "white",
           "lakecolor": "white",
           "landcolor": "#E5ECF6",
           "showlakes": true,
           "showland": true,
           "subunitcolor": "white"
          },
          "hoverlabel": {
           "align": "left"
          },
          "hovermode": "closest",
          "mapbox": {
           "style": "light"
          },
          "paper_bgcolor": "white",
          "plot_bgcolor": "#E5ECF6",
          "polar": {
           "angularaxis": {
            "gridcolor": "white",
            "linecolor": "white",
            "ticks": ""
           },
           "bgcolor": "#E5ECF6",
           "radialaxis": {
            "gridcolor": "white",
            "linecolor": "white",
            "ticks": ""
           }
          },
          "scene": {
           "xaxis": {
            "backgroundcolor": "#E5ECF6",
            "gridcolor": "white",
            "gridwidth": 2,
            "linecolor": "white",
            "showbackground": true,
            "ticks": "",
            "zerolinecolor": "white"
           },
           "yaxis": {
            "backgroundcolor": "#E5ECF6",
            "gridcolor": "white",
            "gridwidth": 2,
            "linecolor": "white",
            "showbackground": true,
            "ticks": "",
            "zerolinecolor": "white"
           },
           "zaxis": {
            "backgroundcolor": "#E5ECF6",
            "gridcolor": "white",
            "gridwidth": 2,
            "linecolor": "white",
            "showbackground": true,
            "ticks": "",
            "zerolinecolor": "white"
           }
          },
          "shapedefaults": {
           "line": {
            "color": "#2a3f5f"
           }
          },
          "ternary": {
           "aaxis": {
            "gridcolor": "white",
            "linecolor": "white",
            "ticks": ""
           },
           "baxis": {
            "gridcolor": "white",
            "linecolor": "white",
            "ticks": ""
           },
           "bgcolor": "#E5ECF6",
           "caxis": {
            "gridcolor": "white",
            "linecolor": "white",
            "ticks": ""
           }
          },
          "title": {
           "x": 0.05
          },
          "xaxis": {
           "automargin": true,
           "gridcolor": "white",
           "linecolor": "white",
           "ticks": "",
           "title": {
            "standoff": 15
           },
           "zerolinecolor": "white",
           "zerolinewidth": 2
          },
          "yaxis": {
           "automargin": true,
           "gridcolor": "white",
           "linecolor": "white",
           "ticks": "",
           "title": {
            "standoff": 15
           },
           "zerolinecolor": "white",
           "zerolinewidth": 2
          }
         }
        },
        "title": {
         "text": "Plot of Mean and median differences of randomized weights for each verification method for 2 d.p"
        },
        "xaxis": {
         "anchor": "y",
         "domain": [
          0,
          1
         ],
         "title": {
          "text": "value"
         }
        },
        "yaxis": {
         "anchor": "x",
         "domain": [
          0,
          1
         ],
         "title": {
          "text": "Weight_combination"
         }
        }
       }
      },
      "text/html": [
       "<div>                            <div id=\"8fce0305-743c-487c-b6f5-3b43626f78ca\" class=\"plotly-graph-div\" style=\"height:525px; width:100%;\"></div>            <script type=\"text/javascript\">                require([\"plotly\"], function(Plotly) {                    window.PLOTLYENV=window.PLOTLYENV || {};                                    if (document.getElementById(\"8fce0305-743c-487c-b6f5-3b43626f78ca\")) {                    Plotly.newPlot(                        \"8fce0305-743c-487c-b6f5-3b43626f78ca\",                        [{\"alignmentgroup\":\"True\",\"hovertemplate\":\"Class=wide_variable_0<br>value=%{x}<br>Weight_combination=%{y}<extra></extra>\",\"legendgroup\":\"wide_variable_0\",\"marker\":{\"color\":\"#636efa\",\"opacity\":0.9,\"pattern\":{\"shape\":\"\"}},\"name\":\"wide_variable_0\",\"offsetgroup\":\"wide_variable_0\",\"orientation\":\"h\",\"showlegend\":true,\"textposition\":\"auto\",\"type\":\"bar\",\"x\":[8.173971698113242,7.85274882075468,7.833809551886823,7.798739386792448,7.769916863207552,7.661834316037787,7.637201061320724,7.611748231132179,7.565830188679193,7.552877358490591],\"xaxis\":\"x\",\"y\":[\"11.49,16.86,3.07,2.68,16.09,20.69,17.24,11.88\",\"2.93,16.32,6.28,6.69,15.06,23.43,16.74,12.55\",\"14.93,15.3,2.99,3.36,19.03,17.16,15.66,11.57\",\"11.07,11.46,1.98,7.11,20.16,20.95,14.62,12.65\",\"13.22,16.61,3.04,4.75,14.58,18.98,13.9,14.92\",\"13.03,15.64,3.58,1.95,18.89,17.59,11.73,17.59\",\"4.7,12.39,3.85,8.55,21.36,21.37,12.82,14.96\",\"2.42,18.15,4.03,4.84,20.97,16.53,18.95,14.11\",\"4.0,17.78,8.0,4.44,20.44,17.78,13.78,13.78\",\"7.59,13.08,2.11,9.28,13.08,23.63,12.66,18.57\"],\"yaxis\":\"y\"},{\"alignmentgroup\":\"True\",\"hovertemplate\":\"Class=wide_variable_1<br>value=%{x}<br>Weight_combination=%{y}<extra></extra>\",\"legendgroup\":\"wide_variable_1\",\"marker\":{\"color\":\"#EF553B\",\"opacity\":0.9,\"pattern\":{\"shape\":\"\"}},\"name\":\"wide_variable_1\",\"offsetgroup\":\"wide_variable_1\",\"orientation\":\"h\",\"showlegend\":true,\"textposition\":\"auto\",\"type\":\"bar\",\"x\":[6.520000000000003,9.620000000000001,4.099999999999994,8.49499999999999,4.059999999999995,4.560000000000009,8.969999999999999,12.099999999999998,9.339999999999996,6.759999999999998],\"xaxis\":\"x\",\"y\":[\"11.49,16.86,3.07,2.68,16.09,20.69,17.24,11.88\",\"2.93,16.32,6.28,6.69,15.06,23.43,16.74,12.55\",\"14.93,15.3,2.99,3.36,19.03,17.16,15.66,11.57\",\"11.07,11.46,1.98,7.11,20.16,20.95,14.62,12.65\",\"13.22,16.61,3.04,4.75,14.58,18.98,13.9,14.92\",\"13.03,15.64,3.58,1.95,18.89,17.59,11.73,17.59\",\"4.7,12.39,3.85,8.55,21.36,21.37,12.82,14.96\",\"2.42,18.15,4.03,4.84,20.97,16.53,18.95,14.11\",\"4.0,17.78,8.0,4.44,20.44,17.78,13.78,13.78\",\"7.59,13.08,2.11,9.28,13.08,23.63,12.66,18.57\"],\"yaxis\":\"y\"}],                        {\"barmode\":\"group\",\"legend\":{\"title\":{\"text\":\"Class\"},\"tracegroupgap\":0},\"template\":{\"data\":{\"bar\":[{\"error_x\":{\"color\":\"#2a3f5f\"},\"error_y\":{\"color\":\"#2a3f5f\"},\"marker\":{\"line\":{\"color\":\"#E5ECF6\",\"width\":0.5},\"pattern\":{\"fillmode\":\"overlay\",\"size\":10,\"solidity\":0.2}},\"type\":\"bar\"}],\"barpolar\":[{\"marker\":{\"line\":{\"color\":\"#E5ECF6\",\"width\":0.5},\"pattern\":{\"fillmode\":\"overlay\",\"size\":10,\"solidity\":0.2}},\"type\":\"barpolar\"}],\"carpet\":[{\"aaxis\":{\"endlinecolor\":\"#2a3f5f\",\"gridcolor\":\"white\",\"linecolor\":\"white\",\"minorgridcolor\":\"white\",\"startlinecolor\":\"#2a3f5f\"},\"baxis\":{\"endlinecolor\":\"#2a3f5f\",\"gridcolor\":\"white\",\"linecolor\":\"white\",\"minorgridcolor\":\"white\",\"startlinecolor\":\"#2a3f5f\"},\"type\":\"carpet\"}],\"choropleth\":[{\"colorbar\":{\"outlinewidth\":0,\"ticks\":\"\"},\"type\":\"choropleth\"}],\"contour\":[{\"colorbar\":{\"outlinewidth\":0,\"ticks\":\"\"},\"colorscale\":[[0.0,\"#0d0887\"],[0.1111111111111111,\"#46039f\"],[0.2222222222222222,\"#7201a8\"],[0.3333333333333333,\"#9c179e\"],[0.4444444444444444,\"#bd3786\"],[0.5555555555555556,\"#d8576b\"],[0.6666666666666666,\"#ed7953\"],[0.7777777777777778,\"#fb9f3a\"],[0.8888888888888888,\"#fdca26\"],[1.0,\"#f0f921\"]],\"type\":\"contour\"}],\"contourcarpet\":[{\"colorbar\":{\"outlinewidth\":0,\"ticks\":\"\"},\"type\":\"contourcarpet\"}],\"heatmap\":[{\"colorbar\":{\"outlinewidth\":0,\"ticks\":\"\"},\"colorscale\":[[0.0,\"#0d0887\"],[0.1111111111111111,\"#46039f\"],[0.2222222222222222,\"#7201a8\"],[0.3333333333333333,\"#9c179e\"],[0.4444444444444444,\"#bd3786\"],[0.5555555555555556,\"#d8576b\"],[0.6666666666666666,\"#ed7953\"],[0.7777777777777778,\"#fb9f3a\"],[0.8888888888888888,\"#fdca26\"],[1.0,\"#f0f921\"]],\"type\":\"heatmap\"}],\"heatmapgl\":[{\"colorbar\":{\"outlinewidth\":0,\"ticks\":\"\"},\"colorscale\":[[0.0,\"#0d0887\"],[0.1111111111111111,\"#46039f\"],[0.2222222222222222,\"#7201a8\"],[0.3333333333333333,\"#9c179e\"],[0.4444444444444444,\"#bd3786\"],[0.5555555555555556,\"#d8576b\"],[0.6666666666666666,\"#ed7953\"],[0.7777777777777778,\"#fb9f3a\"],[0.8888888888888888,\"#fdca26\"],[1.0,\"#f0f921\"]],\"type\":\"heatmapgl\"}],\"histogram\":[{\"marker\":{\"pattern\":{\"fillmode\":\"overlay\",\"size\":10,\"solidity\":0.2}},\"type\":\"histogram\"}],\"histogram2d\":[{\"colorbar\":{\"outlinewidth\":0,\"ticks\":\"\"},\"colorscale\":[[0.0,\"#0d0887\"],[0.1111111111111111,\"#46039f\"],[0.2222222222222222,\"#7201a8\"],[0.3333333333333333,\"#9c179e\"],[0.4444444444444444,\"#bd3786\"],[0.5555555555555556,\"#d8576b\"],[0.6666666666666666,\"#ed7953\"],[0.7777777777777778,\"#fb9f3a\"],[0.8888888888888888,\"#fdca26\"],[1.0,\"#f0f921\"]],\"type\":\"histogram2d\"}],\"histogram2dcontour\":[{\"colorbar\":{\"outlinewidth\":0,\"ticks\":\"\"},\"colorscale\":[[0.0,\"#0d0887\"],[0.1111111111111111,\"#46039f\"],[0.2222222222222222,\"#7201a8\"],[0.3333333333333333,\"#9c179e\"],[0.4444444444444444,\"#bd3786\"],[0.5555555555555556,\"#d8576b\"],[0.6666666666666666,\"#ed7953\"],[0.7777777777777778,\"#fb9f3a\"],[0.8888888888888888,\"#fdca26\"],[1.0,\"#f0f921\"]],\"type\":\"histogram2dcontour\"}],\"mesh3d\":[{\"colorbar\":{\"outlinewidth\":0,\"ticks\":\"\"},\"type\":\"mesh3d\"}],\"parcoords\":[{\"line\":{\"colorbar\":{\"outlinewidth\":0,\"ticks\":\"\"}},\"type\":\"parcoords\"}],\"pie\":[{\"automargin\":true,\"type\":\"pie\"}],\"scatter\":[{\"marker\":{\"colorbar\":{\"outlinewidth\":0,\"ticks\":\"\"}},\"type\":\"scatter\"}],\"scatter3d\":[{\"line\":{\"colorbar\":{\"outlinewidth\":0,\"ticks\":\"\"}},\"marker\":{\"colorbar\":{\"outlinewidth\":0,\"ticks\":\"\"}},\"type\":\"scatter3d\"}],\"scattercarpet\":[{\"marker\":{\"colorbar\":{\"outlinewidth\":0,\"ticks\":\"\"}},\"type\":\"scattercarpet\"}],\"scattergeo\":[{\"marker\":{\"colorbar\":{\"outlinewidth\":0,\"ticks\":\"\"}},\"type\":\"scattergeo\"}],\"scattergl\":[{\"marker\":{\"colorbar\":{\"outlinewidth\":0,\"ticks\":\"\"}},\"type\":\"scattergl\"}],\"scattermapbox\":[{\"marker\":{\"colorbar\":{\"outlinewidth\":0,\"ticks\":\"\"}},\"type\":\"scattermapbox\"}],\"scatterpolar\":[{\"marker\":{\"colorbar\":{\"outlinewidth\":0,\"ticks\":\"\"}},\"type\":\"scatterpolar\"}],\"scatterpolargl\":[{\"marker\":{\"colorbar\":{\"outlinewidth\":0,\"ticks\":\"\"}},\"type\":\"scatterpolargl\"}],\"scatterternary\":[{\"marker\":{\"colorbar\":{\"outlinewidth\":0,\"ticks\":\"\"}},\"type\":\"scatterternary\"}],\"surface\":[{\"colorbar\":{\"outlinewidth\":0,\"ticks\":\"\"},\"colorscale\":[[0.0,\"#0d0887\"],[0.1111111111111111,\"#46039f\"],[0.2222222222222222,\"#7201a8\"],[0.3333333333333333,\"#9c179e\"],[0.4444444444444444,\"#bd3786\"],[0.5555555555555556,\"#d8576b\"],[0.6666666666666666,\"#ed7953\"],[0.7777777777777778,\"#fb9f3a\"],[0.8888888888888888,\"#fdca26\"],[1.0,\"#f0f921\"]],\"type\":\"surface\"}],\"table\":[{\"cells\":{\"fill\":{\"color\":\"#EBF0F8\"},\"line\":{\"color\":\"white\"}},\"header\":{\"fill\":{\"color\":\"#C8D4E3\"},\"line\":{\"color\":\"white\"}},\"type\":\"table\"}]},\"layout\":{\"annotationdefaults\":{\"arrowcolor\":\"#2a3f5f\",\"arrowhead\":0,\"arrowwidth\":1},\"autotypenumbers\":\"strict\",\"coloraxis\":{\"colorbar\":{\"outlinewidth\":0,\"ticks\":\"\"}},\"colorscale\":{\"diverging\":[[0,\"#8e0152\"],[0.1,\"#c51b7d\"],[0.2,\"#de77ae\"],[0.3,\"#f1b6da\"],[0.4,\"#fde0ef\"],[0.5,\"#f7f7f7\"],[0.6,\"#e6f5d0\"],[0.7,\"#b8e186\"],[0.8,\"#7fbc41\"],[0.9,\"#4d9221\"],[1,\"#276419\"]],\"sequential\":[[0.0,\"#0d0887\"],[0.1111111111111111,\"#46039f\"],[0.2222222222222222,\"#7201a8\"],[0.3333333333333333,\"#9c179e\"],[0.4444444444444444,\"#bd3786\"],[0.5555555555555556,\"#d8576b\"],[0.6666666666666666,\"#ed7953\"],[0.7777777777777778,\"#fb9f3a\"],[0.8888888888888888,\"#fdca26\"],[1.0,\"#f0f921\"]],\"sequentialminus\":[[0.0,\"#0d0887\"],[0.1111111111111111,\"#46039f\"],[0.2222222222222222,\"#7201a8\"],[0.3333333333333333,\"#9c179e\"],[0.4444444444444444,\"#bd3786\"],[0.5555555555555556,\"#d8576b\"],[0.6666666666666666,\"#ed7953\"],[0.7777777777777778,\"#fb9f3a\"],[0.8888888888888888,\"#fdca26\"],[1.0,\"#f0f921\"]]},\"colorway\":[\"#636efa\",\"#EF553B\",\"#00cc96\",\"#ab63fa\",\"#FFA15A\",\"#19d3f3\",\"#FF6692\",\"#B6E880\",\"#FF97FF\",\"#FECB52\"],\"font\":{\"color\":\"#2a3f5f\"},\"geo\":{\"bgcolor\":\"white\",\"lakecolor\":\"white\",\"landcolor\":\"#E5ECF6\",\"showlakes\":true,\"showland\":true,\"subunitcolor\":\"white\"},\"hoverlabel\":{\"align\":\"left\"},\"hovermode\":\"closest\",\"mapbox\":{\"style\":\"light\"},\"paper_bgcolor\":\"white\",\"plot_bgcolor\":\"#E5ECF6\",\"polar\":{\"angularaxis\":{\"gridcolor\":\"white\",\"linecolor\":\"white\",\"ticks\":\"\"},\"bgcolor\":\"#E5ECF6\",\"radialaxis\":{\"gridcolor\":\"white\",\"linecolor\":\"white\",\"ticks\":\"\"}},\"scene\":{\"xaxis\":{\"backgroundcolor\":\"#E5ECF6\",\"gridcolor\":\"white\",\"gridwidth\":2,\"linecolor\":\"white\",\"showbackground\":true,\"ticks\":\"\",\"zerolinecolor\":\"white\"},\"yaxis\":{\"backgroundcolor\":\"#E5ECF6\",\"gridcolor\":\"white\",\"gridwidth\":2,\"linecolor\":\"white\",\"showbackground\":true,\"ticks\":\"\",\"zerolinecolor\":\"white\"},\"zaxis\":{\"backgroundcolor\":\"#E5ECF6\",\"gridcolor\":\"white\",\"gridwidth\":2,\"linecolor\":\"white\",\"showbackground\":true,\"ticks\":\"\",\"zerolinecolor\":\"white\"}},\"shapedefaults\":{\"line\":{\"color\":\"#2a3f5f\"}},\"ternary\":{\"aaxis\":{\"gridcolor\":\"white\",\"linecolor\":\"white\",\"ticks\":\"\"},\"baxis\":{\"gridcolor\":\"white\",\"linecolor\":\"white\",\"ticks\":\"\"},\"bgcolor\":\"#E5ECF6\",\"caxis\":{\"gridcolor\":\"white\",\"linecolor\":\"white\",\"ticks\":\"\"}},\"title\":{\"x\":0.05},\"xaxis\":{\"automargin\":true,\"gridcolor\":\"white\",\"linecolor\":\"white\",\"ticks\":\"\",\"title\":{\"standoff\":15},\"zerolinecolor\":\"white\",\"zerolinewidth\":2},\"yaxis\":{\"automargin\":true,\"gridcolor\":\"white\",\"linecolor\":\"white\",\"ticks\":\"\",\"title\":{\"standoff\":15},\"zerolinecolor\":\"white\",\"zerolinewidth\":2}}},\"title\":{\"text\":\"Plot of Mean and median differences of randomized weights for each verification method for 2 d.p\"},\"xaxis\":{\"anchor\":\"y\",\"domain\":[0.0,1.0],\"title\":{\"text\":\"value\"}},\"yaxis\":{\"anchor\":\"x\",\"domain\":[0.0,1.0],\"title\":{\"text\":\"Weight_combination\"}}},                        {\"responsive\": true}                    ).then(function(){\n",
       "                            \n",
       "var gd = document.getElementById('8fce0305-743c-487c-b6f5-3b43626f78ca');\n",
       "var x = new MutationObserver(function (mutations, observer) {{\n",
       "        var display = window.getComputedStyle(gd).display;\n",
       "        if (!display || display === 'none') {{\n",
       "            console.log([gd, 'removed!']);\n",
       "            Plotly.purge(gd);\n",
       "            observer.disconnect();\n",
       "        }}\n",
       "}});\n",
       "\n",
       "// Listen for the removal of the full notebook cells\n",
       "var notebookContainer = gd.closest('#notebook-container');\n",
       "if (notebookContainer) {{\n",
       "    x.observe(notebookContainer, {childList: true});\n",
       "}}\n",
       "\n",
       "// Listen for the clearing of the current output cell\n",
       "var outputEl = gd.closest('.output');\n",
       "if (outputEl) {{\n",
       "    x.observe(outputEl, {childList: true});\n",
       "}}\n",
       "\n",
       "                        })                };                });            </script>        </div>"
      ]
     },
     "metadata": {},
     "output_type": "display_data"
    }
   ],
   "source": [
    "barchart"
   ]
  },
  {
   "cell_type": "code",
   "execution_count": 523,
   "id": "10954586",
   "metadata": {},
   "outputs": [],
   "source": [
    "diff3.drop(\"Weight_combination\", axis=1, inplace=True)"
   ]
  },
  {
   "cell_type": "code",
   "execution_count": 525,
   "id": "8042732b",
   "metadata": {},
   "outputs": [],
   "source": [
    "diff3.to_csv(\"./first_1k_for_2dp.csv\", index=False)"
   ]
  },
  {
   "cell_type": "code",
   "execution_count": 527,
   "id": "e82ac18e",
   "metadata": {},
   "outputs": [
    {
     "data": {
      "text/plain": [
       "2.0"
      ]
     },
     "execution_count": 527,
     "metadata": {},
     "output_type": "execute_result"
    }
   ],
   "source": [
    "round(2.3, 0)"
   ]
  },
  {
   "cell_type": "markdown",
   "id": "565665ee",
   "metadata": {},
   "source": [
    "#### Integers "
   ]
  },
  {
   "cell_type": "code",
   "execution_count": 591,
   "id": "46e201a7",
   "metadata": {},
   "outputs": [
    {
     "data": {
      "text/plain": [
       "[12, 16, 22, 8, 44]"
      ]
     },
     "execution_count": 591,
     "metadata": {},
     "output_type": "execute_result"
    }
   ],
   "source": [
    "list(np.random.randint(low = 5, high = 50, size = 5))"
   ]
  },
  {
   "cell_type": "code",
   "execution_count": 593,
   "id": "e55cde0f",
   "metadata": {},
   "outputs": [],
   "source": [
    "def random_with_patterns_int(n, m):\n",
    "    \n",
    "    \"\"\"\n",
    "    n: Number of less difficult methods.\n",
    "    m: Number of more difficult methods.    \n",
    "    \"\"\"\n",
    "    \n",
    "    ## Generate random values from a lower range for methods with less difficulty\n",
    "    list1 = list(np.random.randint(low = 5, high = 50, size = n))\n",
    "    \n",
    "    ## Generate random values from a higher range for more difficult verification methods\n",
    "    list2 = list(np.random.randint(low = 30, high = 60, size=m))\n",
    "    \n",
    "    ## Join both list\n",
    "    for i in list2:\n",
    "        list1.append(i)\n",
    "        \n",
    "    ## Convert them, such that they sum up to 100\n",
    "    list_ = [int(round(i/sum(list1)) * 100) for i in list1]\n",
    "    \n",
    "    ## Handling the errors due to approximation during rounding up.\n",
    "    if sum(list_) > 100:\n",
    "        \n",
    "        ## A random index where the correction will be made.\n",
    "        my_index = np.random.randint(len(list_))\n",
    "        \n",
    "        ## Subtract the excessive value from the selected index\n",
    "        list_[my_index] = list_[my_index] - (sum(list_) - 100)\n",
    "        \n",
    "        ## Returns the list\n",
    "        return list_\n",
    "    \n",
    "    ## Handling values that sums up to less than 100 after rounding up\n",
    "    elif sum(list_) < 100:\n",
    "        \n",
    "        ## Select random index.\n",
    "        my_index = np.random.randint(len(list_))\n",
    "        \n",
    "        ## Add the remaining to the selected index.\n",
    "        list_[my_index] = list_[my_index] + (100 - sum(list_))\n",
    "        \n",
    "        ## Return the list\n",
    "        return list_\n",
    "    \n",
    "    ## The value equals 100\n",
    "    else:\n",
    "        return list_"
   ]
  },
  {
   "cell_type": "code",
   "execution_count": 600,
   "id": "d0073137",
   "metadata": {},
   "outputs": [],
   "source": [
    "def random_int_generator(n, m):\n",
    "    \n",
    "    \"\"\"\n",
    "    n: Number of less difficult methods.\n",
    "    m: Number of more difficult methods.    \n",
    "    \"\"\"\n",
    "    \n",
    "    ## Generate random values from a lower range for methods with less difficulty\n",
    "    list1 = list(np.random.randint(low = 5, high = 50, size = n))\n",
    "    \n",
    "    ## Generate random values from a higher range for more difficult verification methods\n",
    "    list2 = list(np.random.randint(low = 30, high = 60, size=m))\n",
    "    \n",
    "    ## Join both list\n",
    "    for i in list2:\n",
    "        list1.append(i)\n",
    "        \n",
    "    ## Convert them, such that they sum up to 100\n",
    "    list_ = [int(round(i/sum(list1) * 100)) for i in list1]\n",
    "    \n",
    "    ## Handling the errors due to approximation during rounding up.\n",
    "    if sum(list_) > 100:\n",
    "        \n",
    "        ## A random index where the correction will be made.\n",
    "        my_index = np.random.randint(len(list_))\n",
    "        \n",
    "        ## Subtract the excessive value from the selected index\n",
    "        list_[my_index] = list_[my_index] - (sum(list_) - 100)\n",
    "        \n",
    "        ## Returns the list\n",
    "        return list_\n",
    "    \n",
    "    ## Handling values that sums up to less than 100 after rounding up\n",
    "    elif sum(list_) < 100:\n",
    "        \n",
    "        ## Select random index.\n",
    "        my_index = np.random.randint(len(list_))\n",
    "        \n",
    "        ## Add the remaining to the selected index.\n",
    "        list_[my_index] = list_[my_index] + (100 - sum(list_))\n",
    "        \n",
    "        ## Return the list\n",
    "        return list_\n",
    "    \n",
    "    ## The value equals 100\n",
    "    else:\n",
    "        return list_"
   ]
  },
  {
   "cell_type": "code",
   "execution_count": 616,
   "id": "6157df06",
   "metadata": {},
   "outputs": [
    {
     "data": {
      "text/plain": [
       "[1, 14, 9, 6, 7, 18, 14, 18, 13]"
      ]
     },
     "execution_count": 616,
     "metadata": {},
     "output_type": "execute_result"
    }
   ],
   "source": [
    "random_int_generator(5, 4)"
   ]
  },
  {
   "cell_type": "code",
   "execution_count": 617,
   "id": "26c60145",
   "metadata": {},
   "outputs": [],
   "source": [
    "\n",
    "def calc_score_no_duniter_int(dfs):\n",
    "    \n",
    "    dff = dfs.copy()\n",
    "    \n",
    "    scores = random_int_generator(4, 4)\n",
    "    \n",
    "    trust_scores.append([i for i in scores])\n",
    "    \n",
    "    total_score = []\n",
    "    \n",
    "    dff.is_brightid_verified = np.where(dff.is_brightid_verified == True, scores[0], 0)\n",
    "    \n",
    "    dff.is_twitter_verified = np.where(dff.is_twitter_verified == True, scores[1], 0)\n",
    "    \n",
    "    dff.is_google_verified = np.where(dff.is_google_verified == True, scores[2], 0)\n",
    "    \n",
    "    dff.is_facebook_verified = np.where(dff.is_facebook_verified == True, scores[3], 0)\n",
    "    \n",
    "    dff.is_poap_verified = np.where(dff.is_poap_verified == True, scores[4], 0)\n",
    "    \n",
    "    dff.is_ens_verified = np.where(dff.is_ens_verified == True, scores[5], 0)\n",
    "    \n",
    "    dff.is_poh_verified = np.where(dff.is_poh_verified == True, scores[6], 0)\n",
    "    \n",
    "    dff.is_idena_verified = np.where(dff.is_idena_verified == True, scores[7], 0)\n",
    "\n",
    "    \n",
    "    for row in range(dff.shape[0]):\n",
    "        total_score.append(sum(dff.loc[row, [\"is_brightid_verified\", \"is_twitter_verified\", \"is_poap_verified\",\n",
    "                             \"is_ens_verified\", \"is_google_verified\", 'is_facebook_verified', 'is_poh_verified', 'is_idena_verified']]))\n",
    "    \n",
    "    dff[\"total_score\"] = total_score\n",
    "    \n",
    "    sybil_mean_ = dff.groupby(\"Is Sybil? (T or F)\")[\"total_score\"].mean()[1]\n",
    "    not_sybil_mean_ = dff.groupby(\"Is Sybil? (T or F)\")[\"total_score\"].mean()[0]\n",
    "    \n",
    "    sybil_mean.append(sybil_mean_)\n",
    "    not_sybil_mean.append(not_sybil_mean_)\n",
    "    \n",
    "    sybil_median_ = dff.groupby(\"Is Sybil? (T or F)\")[\"total_score\"].median()[1]\n",
    "    not_sybil_median_ = dff.groupby(\"Is Sybil? (T or F)\")[\"total_score\"].median()[0]\n",
    "    \n",
    "    sybil_median.append(sybil_median_)\n",
    "    not_sybil_median.append(not_sybil_median_)\n",
    "    \n",
    "    trust_median_differences.append(abs(sybil_median_ - not_sybil_median_))\n",
    "    \n",
    "    trust_mean_differences.append(abs(sybil_mean_ - not_sybil_mean_))"
   ]
  },
  {
   "cell_type": "code",
   "execution_count": 685,
   "id": "2d5f146b",
   "metadata": {},
   "outputs": [
    {
     "name": "stdout",
     "output_type": "stream",
     "text": [
      "0:18:22.925293\n"
     ]
    }
   ],
   "source": [
    "trust_scores = []\n",
    "\n",
    "trust_mean_differences = []\n",
    "\n",
    "trust_median_differences = []\n",
    "\n",
    "sybil_mean = []\n",
    "\n",
    "not_sybil_mean = []\n",
    "\n",
    "sybil_median = []\n",
    "\n",
    "not_sybil_median = []\n",
    "\n",
    "\n",
    "import time\n",
    "from datetime import datetime\n",
    "\n",
    "\n",
    "start = datetime.now()\n",
    "for i in range(1000):\n",
    "    np.random.seed(i)\n",
    "    calc_score_no_duniter_int(df1)\n",
    "    \n",
    "end = datetime.now()\n",
    "\n",
    "print(end - start)"
   ]
  },
  {
   "cell_type": "code",
   "execution_count": 694,
   "id": "75ee423c",
   "metadata": {},
   "outputs": [],
   "source": [
    "comb = pd.DataFrame()\n",
    "comb[\"Combination\"] = [1, 10, 100, 1000, 10000, 100000, 1000000]\n",
    "comb[\"Time\"] = [\"0:00:00.098666\", \"0:00:10.601749\", \"0:01:47.152032\", \"0:18:22.925293\",\n",
    "                \"1:40:33.186432\", \"6:10:28.876507\", \"11:23:04.548901\"]"
   ]
  },
  {
   "cell_type": "code",
   "execution_count": 695,
   "id": "b2c2656d",
   "metadata": {},
   "outputs": [
    {
     "data": {
      "text/html": [
       "<div>\n",
       "<style scoped>\n",
       "    .dataframe tbody tr th:only-of-type {\n",
       "        vertical-align: middle;\n",
       "    }\n",
       "\n",
       "    .dataframe tbody tr th {\n",
       "        vertical-align: top;\n",
       "    }\n",
       "\n",
       "    .dataframe thead th {\n",
       "        text-align: right;\n",
       "    }\n",
       "</style>\n",
       "<table border=\"1\" class=\"dataframe\">\n",
       "  <thead>\n",
       "    <tr style=\"text-align: right;\">\n",
       "      <th></th>\n",
       "      <th>Combination</th>\n",
       "      <th>Time</th>\n",
       "    </tr>\n",
       "  </thead>\n",
       "  <tbody>\n",
       "    <tr>\n",
       "      <th>0</th>\n",
       "      <td>1</td>\n",
       "      <td>0:00:00.098666</td>\n",
       "    </tr>\n",
       "    <tr>\n",
       "      <th>1</th>\n",
       "      <td>10</td>\n",
       "      <td>0:00:10.601749</td>\n",
       "    </tr>\n",
       "    <tr>\n",
       "      <th>2</th>\n",
       "      <td>100</td>\n",
       "      <td>0:01:47.152032</td>\n",
       "    </tr>\n",
       "    <tr>\n",
       "      <th>3</th>\n",
       "      <td>1000</td>\n",
       "      <td>0:18:22.925293</td>\n",
       "    </tr>\n",
       "    <tr>\n",
       "      <th>4</th>\n",
       "      <td>10000</td>\n",
       "      <td>1:40:33.186432</td>\n",
       "    </tr>\n",
       "    <tr>\n",
       "      <th>5</th>\n",
       "      <td>100000</td>\n",
       "      <td>6:10:28.876507</td>\n",
       "    </tr>\n",
       "    <tr>\n",
       "      <th>6</th>\n",
       "      <td>1000000</td>\n",
       "      <td>11:23:04.548901</td>\n",
       "    </tr>\n",
       "  </tbody>\n",
       "</table>\n",
       "</div>"
      ],
      "text/plain": [
       "   Combination             Time\n",
       "0            1   0:00:00.098666\n",
       "1           10   0:00:10.601749\n",
       "2          100   0:01:47.152032\n",
       "3         1000   0:18:22.925293\n",
       "4        10000   1:40:33.186432\n",
       "5       100000   6:10:28.876507\n",
       "6      1000000  11:23:04.548901"
      ]
     },
     "execution_count": 695,
     "metadata": {},
     "output_type": "execute_result"
    }
   ],
   "source": [
    "comb"
   ]
  },
  {
   "cell_type": "code",
   "execution_count": 698,
   "id": "58a34cd0",
   "metadata": {},
   "outputs": [
    {
     "data": {
      "text/html": [
       "<div>\n",
       "<style scoped>\n",
       "    .dataframe tbody tr th:only-of-type {\n",
       "        vertical-align: middle;\n",
       "    }\n",
       "\n",
       "    .dataframe tbody tr th {\n",
       "        vertical-align: top;\n",
       "    }\n",
       "\n",
       "    .dataframe thead th {\n",
       "        text-align: right;\n",
       "    }\n",
       "</style>\n",
       "<table border=\"1\" class=\"dataframe\">\n",
       "  <thead>\n",
       "    <tr style=\"text-align: right;\">\n",
       "      <th></th>\n",
       "      <th>X</th>\n",
       "      <th>Y</th>\n",
       "    </tr>\n",
       "  </thead>\n",
       "  <tbody>\n",
       "    <tr>\n",
       "      <th>0</th>\n",
       "      <td>10</td>\n",
       "      <td>1</td>\n",
       "    </tr>\n",
       "    <tr>\n",
       "      <th>1</th>\n",
       "      <td>1000000</td>\n",
       "      <td>1</td>\n",
       "    </tr>\n",
       "    <tr>\n",
       "      <th>2</th>\n",
       "      <td>1000</td>\n",
       "      <td>1</td>\n",
       "    </tr>\n",
       "    <tr>\n",
       "      <th>3</th>\n",
       "      <td>100000</td>\n",
       "      <td>1</td>\n",
       "    </tr>\n",
       "    <tr>\n",
       "      <th>4</th>\n",
       "      <td>100</td>\n",
       "      <td>1</td>\n",
       "    </tr>\n",
       "    <tr>\n",
       "      <th>5</th>\n",
       "      <td>1</td>\n",
       "      <td>1</td>\n",
       "    </tr>\n",
       "    <tr>\n",
       "      <th>6</th>\n",
       "      <td>10000</td>\n",
       "      <td>1</td>\n",
       "    </tr>\n",
       "  </tbody>\n",
       "</table>\n",
       "</div>"
      ],
      "text/plain": [
       "         X  Y\n",
       "0       10  1\n",
       "1  1000000  1\n",
       "2     1000  1\n",
       "3   100000  1\n",
       "4      100  1\n",
       "5        1  1\n",
       "6    10000  1"
      ]
     },
     "execution_count": 698,
     "metadata": {},
     "output_type": "execute_result"
    }
   ],
   "source": [
    "x = pd.DataFrame()\n",
    "x[\"X\"] =comb.Combination.value_counts().index\n",
    "x[\"Y\"] = comb.Combination.value_counts().values\n",
    "x"
   ]
  },
  {
   "cell_type": "code",
   "execution_count": 700,
   "id": "68803abd",
   "metadata": {},
   "outputs": [
    {
     "data": {
      "text/plain": [
       "2"
      ]
     },
     "execution_count": 700,
     "metadata": {},
     "output_type": "execute_result"
    }
   ],
   "source": [
    "True + True "
   ]
  },
  {
   "cell_type": "code",
   "execution_count": 622,
   "id": "b4c4ed21",
   "metadata": {},
   "outputs": [],
   "source": [
    "diff4 = pd.DataFrame()\n",
    "diff4[\"Combination of weights\"] = trust_scores\n",
    "diff4[\"Sybil mean\"] = sybil_mean\n",
    "diff4[\"not_sybil mean\"] = not_sybil_mean\n",
    "diff4[\"Mean differences\"] = trust_mean_differences\n",
    "diff4[\"Sybil median\"] = sybil_median\n",
    "diff4[\"not_sybil median\"] = not_sybil_median\n",
    "diff4[\"Median differences\"] = trust_median_differences"
   ]
  },
  {
   "cell_type": "code",
   "execution_count": 702,
   "id": "e478c47d",
   "metadata": {},
   "outputs": [],
   "source": [
    "pd.options.display.max_rows = None"
   ]
  },
  {
   "cell_type": "code",
   "execution_count": 703,
   "id": "bdf2f29e",
   "metadata": {
    "scrolled": true
   },
   "outputs": [
    {
     "data": {
      "text/html": [
       "<div>\n",
       "<style scoped>\n",
       "    .dataframe tbody tr th:only-of-type {\n",
       "        vertical-align: middle;\n",
       "    }\n",
       "\n",
       "    .dataframe tbody tr th {\n",
       "        vertical-align: top;\n",
       "    }\n",
       "\n",
       "    .dataframe thead th {\n",
       "        text-align: right;\n",
       "    }\n",
       "</style>\n",
       "<table border=\"1\" class=\"dataframe\">\n",
       "  <thead>\n",
       "    <tr style=\"text-align: right;\">\n",
       "      <th></th>\n",
       "      <th>Combination of weights</th>\n",
       "      <th>Sybil mean</th>\n",
       "      <th>not_sybil mean</th>\n",
       "      <th>Mean differences</th>\n",
       "      <th>Sybil median</th>\n",
       "      <th>not_sybil median</th>\n",
       "      <th>Median differences</th>\n",
       "    </tr>\n",
       "  </thead>\n",
       "  <tbody>\n",
       "    <tr>\n",
       "      <th>0</th>\n",
       "      <td>[11, 17, 3, 3, 16, 21, 17, 12]</td>\n",
       "      <td>30.221698</td>\n",
       "      <td>38.431250</td>\n",
       "      <td>8.209552</td>\n",
       "      <td>33.0</td>\n",
       "      <td>40.0</td>\n",
       "      <td>7.0</td>\n",
       "    </tr>\n",
       "    <tr>\n",
       "      <th>1</th>\n",
       "      <td>[13, 17, 2, 5, 15, 19, 14, 15]</td>\n",
       "      <td>29.655660</td>\n",
       "      <td>37.556250</td>\n",
       "      <td>7.900590</td>\n",
       "      <td>34.0</td>\n",
       "      <td>37.0</td>\n",
       "      <td>3.0</td>\n",
       "    </tr>\n",
       "    <tr>\n",
       "      <th>2</th>\n",
       "      <td>[13, 16, 4, 2, 19, 18, 12, 16]</td>\n",
       "      <td>31.410377</td>\n",
       "      <td>39.206250</td>\n",
       "      <td>7.795873</td>\n",
       "      <td>35.0</td>\n",
       "      <td>40.0</td>\n",
       "      <td>5.0</td>\n",
       "    </tr>\n",
       "    <tr>\n",
       "      <th>3</th>\n",
       "      <td>[15, 15, 3, 3, 19, 17, 16, 12]</td>\n",
       "      <td>31.136792</td>\n",
       "      <td>38.896875</td>\n",
       "      <td>7.760083</td>\n",
       "      <td>35.0</td>\n",
       "      <td>39.0</td>\n",
       "      <td>4.0</td>\n",
       "    </tr>\n",
       "    <tr>\n",
       "      <th>4</th>\n",
       "      <td>[3, 16, 6, 7, 15, 23, 17, 13]</td>\n",
       "      <td>31.235849</td>\n",
       "      <td>38.984375</td>\n",
       "      <td>7.748526</td>\n",
       "      <td>31.5</td>\n",
       "      <td>41.0</td>\n",
       "      <td>9.5</td>\n",
       "    </tr>\n",
       "    <tr>\n",
       "      <th>5</th>\n",
       "      <td>[11, 11, 2, 7, 20, 21, 15, 13]</td>\n",
       "      <td>31.721698</td>\n",
       "      <td>39.440625</td>\n",
       "      <td>7.718927</td>\n",
       "      <td>32.5</td>\n",
       "      <td>41.0</td>\n",
       "      <td>8.5</td>\n",
       "    </tr>\n",
       "    <tr>\n",
       "      <th>6</th>\n",
       "      <td>[2, 18, 4, 5, 21, 17, 19, 14]</td>\n",
       "      <td>28.867925</td>\n",
       "      <td>36.515625</td>\n",
       "      <td>7.647700</td>\n",
       "      <td>28.0</td>\n",
       "      <td>40.0</td>\n",
       "      <td>12.0</td>\n",
       "    </tr>\n",
       "    <tr>\n",
       "      <th>7</th>\n",
       "      <td>[5, 7, 4, 2, 24, 25, 16, 17]</td>\n",
       "      <td>31.759434</td>\n",
       "      <td>39.359375</td>\n",
       "      <td>7.599941</td>\n",
       "      <td>31.5</td>\n",
       "      <td>40.5</td>\n",
       "      <td>9.0</td>\n",
       "    </tr>\n",
       "    <tr>\n",
       "      <th>8</th>\n",
       "      <td>[4, 18, 8, 4, 20, 18, 14, 14]</td>\n",
       "      <td>32.698113</td>\n",
       "      <td>40.287500</td>\n",
       "      <td>7.589387</td>\n",
       "      <td>32.0</td>\n",
       "      <td>42.0</td>\n",
       "      <td>10.0</td>\n",
       "    </tr>\n",
       "    <tr>\n",
       "      <th>9</th>\n",
       "      <td>[4, 16, 5, 7, 15, 21, 19, 13]</td>\n",
       "      <td>29.886792</td>\n",
       "      <td>37.443750</td>\n",
       "      <td>7.556958</td>\n",
       "      <td>31.0</td>\n",
       "      <td>40.0</td>\n",
       "      <td>9.0</td>\n",
       "    </tr>\n",
       "    <tr>\n",
       "      <th>10</th>\n",
       "      <td>[2, 16, 2, 8, 15, 21, 20, 16]</td>\n",
       "      <td>26.896226</td>\n",
       "      <td>34.446875</td>\n",
       "      <td>7.550649</td>\n",
       "      <td>27.0</td>\n",
       "      <td>38.0</td>\n",
       "      <td>11.0</td>\n",
       "    </tr>\n",
       "    <tr>\n",
       "      <th>11</th>\n",
       "      <td>[10, 15, 2, 11, 14, 19, 18, 11]</td>\n",
       "      <td>29.924528</td>\n",
       "      <td>37.443750</td>\n",
       "      <td>7.519222</td>\n",
       "      <td>31.0</td>\n",
       "      <td>37.0</td>\n",
       "      <td>6.0</td>\n",
       "    </tr>\n",
       "    <tr>\n",
       "      <th>12</th>\n",
       "      <td>[5, 12, 4, 9, 21, 21, 13, 15]</td>\n",
       "      <td>32.396226</td>\n",
       "      <td>39.903125</td>\n",
       "      <td>7.506899</td>\n",
       "      <td>34.0</td>\n",
       "      <td>42.0</td>\n",
       "      <td>8.0</td>\n",
       "    </tr>\n",
       "    <tr>\n",
       "      <th>13</th>\n",
       "      <td>[14, 16, 4, 8, 12, 19, 13, 14]</td>\n",
       "      <td>31.349057</td>\n",
       "      <td>38.843750</td>\n",
       "      <td>7.494693</td>\n",
       "      <td>31.0</td>\n",
       "      <td>39.0</td>\n",
       "      <td>8.0</td>\n",
       "    </tr>\n",
       "    <tr>\n",
       "      <th>14</th>\n",
       "      <td>[8, 13, 2, 9, 13, 23, 13, 19]</td>\n",
       "      <td>29.207547</td>\n",
       "      <td>36.665625</td>\n",
       "      <td>7.458078</td>\n",
       "      <td>32.0</td>\n",
       "      <td>38.0</td>\n",
       "      <td>6.0</td>\n",
       "    </tr>\n",
       "    <tr>\n",
       "      <th>15</th>\n",
       "      <td>[6, 12, 3, 14, 22, 19, 12, 12]</td>\n",
       "      <td>33.599057</td>\n",
       "      <td>41.056250</td>\n",
       "      <td>7.457193</td>\n",
       "      <td>36.0</td>\n",
       "      <td>44.0</td>\n",
       "      <td>8.0</td>\n",
       "    </tr>\n",
       "    <tr>\n",
       "      <th>16</th>\n",
       "      <td>[14, 18, 2, 7, 15, 14, 18, 12]</td>\n",
       "      <td>28.801887</td>\n",
       "      <td>36.234375</td>\n",
       "      <td>7.432488</td>\n",
       "      <td>30.0</td>\n",
       "      <td>38.0</td>\n",
       "      <td>8.0</td>\n",
       "    </tr>\n",
       "    <tr>\n",
       "      <th>17</th>\n",
       "      <td>[11, 15, 6, 4, 19, 17, 16, 12]</td>\n",
       "      <td>32.396226</td>\n",
       "      <td>39.821875</td>\n",
       "      <td>7.425649</td>\n",
       "      <td>34.0</td>\n",
       "      <td>42.0</td>\n",
       "      <td>8.0</td>\n",
       "    </tr>\n",
       "    <tr>\n",
       "      <th>18</th>\n",
       "      <td>[8, 17, 8, 8, 18, 17, 13, 11]</td>\n",
       "      <td>34.405660</td>\n",
       "      <td>41.806250</td>\n",
       "      <td>7.400590</td>\n",
       "      <td>34.0</td>\n",
       "      <td>43.0</td>\n",
       "      <td>9.0</td>\n",
       "    </tr>\n",
       "    <tr>\n",
       "      <th>19</th>\n",
       "      <td>[16, 16, 9, 2, 18, 16, 11, 12]</td>\n",
       "      <td>35.533019</td>\n",
       "      <td>42.931250</td>\n",
       "      <td>7.398231</td>\n",
       "      <td>34.0</td>\n",
       "      <td>43.0</td>\n",
       "      <td>9.0</td>\n",
       "    </tr>\n",
       "    <tr>\n",
       "      <th>20</th>\n",
       "      <td>[5, 17, 3, 8, 17, 18, 13, 19]</td>\n",
       "      <td>28.858491</td>\n",
       "      <td>36.256250</td>\n",
       "      <td>7.397759</td>\n",
       "      <td>29.0</td>\n",
       "      <td>38.0</td>\n",
       "      <td>9.0</td>\n",
       "    </tr>\n",
       "    <tr>\n",
       "      <th>21</th>\n",
       "      <td>[15, 13, 4, 6, 20, 16, 15, 11]</td>\n",
       "      <td>32.834906</td>\n",
       "      <td>40.221875</td>\n",
       "      <td>7.386969</td>\n",
       "      <td>35.0</td>\n",
       "      <td>40.0</td>\n",
       "      <td>5.0</td>\n",
       "    </tr>\n",
       "    <tr>\n",
       "      <th>22</th>\n",
       "      <td>[9, 12, 4, 2, 23, 18, 15, 17]</td>\n",
       "      <td>30.811321</td>\n",
       "      <td>38.171875</td>\n",
       "      <td>7.360554</td>\n",
       "      <td>31.0</td>\n",
       "      <td>41.0</td>\n",
       "      <td>10.0</td>\n",
       "    </tr>\n",
       "    <tr>\n",
       "      <th>23</th>\n",
       "      <td>[13, 19, 2, 11, 17, 12, 13, 13]</td>\n",
       "      <td>30.306604</td>\n",
       "      <td>37.656250</td>\n",
       "      <td>7.349646</td>\n",
       "      <td>30.0</td>\n",
       "      <td>42.0</td>\n",
       "      <td>12.0</td>\n",
       "    </tr>\n",
       "    <tr>\n",
       "      <th>24</th>\n",
       "      <td>[12, 16, 3, 5, 18, 15, 17, 14]</td>\n",
       "      <td>29.485849</td>\n",
       "      <td>36.831250</td>\n",
       "      <td>7.345401</td>\n",
       "      <td>30.0</td>\n",
       "      <td>36.0</td>\n",
       "      <td>6.0</td>\n",
       "    </tr>\n",
       "    <tr>\n",
       "      <th>25</th>\n",
       "      <td>[11, 3, 3, 2, 21, 26, 19, 15]</td>\n",
       "      <td>31.613208</td>\n",
       "      <td>38.956250</td>\n",
       "      <td>7.343042</td>\n",
       "      <td>30.0</td>\n",
       "      <td>40.0</td>\n",
       "      <td>10.0</td>\n",
       "    </tr>\n",
       "    <tr>\n",
       "      <th>26</th>\n",
       "      <td>[11, 13, 8, 3, 17, 20, 15, 13]</td>\n",
       "      <td>33.674528</td>\n",
       "      <td>40.981250</td>\n",
       "      <td>7.306722</td>\n",
       "      <td>35.5</td>\n",
       "      <td>44.0</td>\n",
       "      <td>8.5</td>\n",
       "    </tr>\n",
       "    <tr>\n",
       "      <th>27</th>\n",
       "      <td>[16, 10, 3, 7, 19, 18, 16, 11]</td>\n",
       "      <td>32.622642</td>\n",
       "      <td>39.912500</td>\n",
       "      <td>7.289858</td>\n",
       "      <td>36.0</td>\n",
       "      <td>40.0</td>\n",
       "      <td>4.0</td>\n",
       "    </tr>\n",
       "    <tr>\n",
       "      <th>28</th>\n",
       "      <td>[8, 14, 3, 10, 21, 16, 15, 13]</td>\n",
       "      <td>31.349057</td>\n",
       "      <td>38.637500</td>\n",
       "      <td>7.288443</td>\n",
       "      <td>34.0</td>\n",
       "      <td>40.0</td>\n",
       "      <td>6.0</td>\n",
       "    </tr>\n",
       "    <tr>\n",
       "      <th>29</th>\n",
       "      <td>[2, 17, 2, 13, 13, 19, 20, 14]</td>\n",
       "      <td>27.268868</td>\n",
       "      <td>34.556250</td>\n",
       "      <td>7.287382</td>\n",
       "      <td>30.0</td>\n",
       "      <td>34.0</td>\n",
       "      <td>4.0</td>\n",
       "    </tr>\n",
       "    <tr>\n",
       "      <th>30</th>\n",
       "      <td>[15, 13, 5, 3, 16, 18, 17, 13]</td>\n",
       "      <td>31.415094</td>\n",
       "      <td>38.690625</td>\n",
       "      <td>7.275531</td>\n",
       "      <td>34.0</td>\n",
       "      <td>39.0</td>\n",
       "      <td>5.0</td>\n",
       "    </tr>\n",
       "    <tr>\n",
       "      <th>31</th>\n",
       "      <td>[20, 10, 3, 2, 16, 19, 14, 16]</td>\n",
       "      <td>31.278302</td>\n",
       "      <td>38.537500</td>\n",
       "      <td>7.259198</td>\n",
       "      <td>31.0</td>\n",
       "      <td>40.0</td>\n",
       "      <td>9.0</td>\n",
       "    </tr>\n",
       "    <tr>\n",
       "      <th>32</th>\n",
       "      <td>[9, 15, 3, 9, 16, 18, 12, 18]</td>\n",
       "      <td>30.070755</td>\n",
       "      <td>37.318750</td>\n",
       "      <td>7.247995</td>\n",
       "      <td>30.0</td>\n",
       "      <td>37.0</td>\n",
       "      <td>7.0</td>\n",
       "    </tr>\n",
       "    <tr>\n",
       "      <th>33</th>\n",
       "      <td>[9, 17, 6, 9, 13, 18, 14, 14]</td>\n",
       "      <td>31.566038</td>\n",
       "      <td>38.803125</td>\n",
       "      <td>7.237087</td>\n",
       "      <td>33.0</td>\n",
       "      <td>40.0</td>\n",
       "      <td>7.0</td>\n",
       "    </tr>\n",
       "    <tr>\n",
       "      <th>34</th>\n",
       "      <td>[4, 12, 3, 12, 18, 21, 13, 17]</td>\n",
       "      <td>30.896226</td>\n",
       "      <td>38.128125</td>\n",
       "      <td>7.231899</td>\n",
       "      <td>33.0</td>\n",
       "      <td>40.0</td>\n",
       "      <td>7.0</td>\n",
       "    </tr>\n",
       "    <tr>\n",
       "      <th>35</th>\n",
       "      <td>[10, 9, 3, 2, 22, 19, 22, 13]</td>\n",
       "      <td>29.702830</td>\n",
       "      <td>36.931250</td>\n",
       "      <td>7.228420</td>\n",
       "      <td>31.5</td>\n",
       "      <td>41.0</td>\n",
       "      <td>9.5</td>\n",
       "    </tr>\n",
       "    <tr>\n",
       "      <th>36</th>\n",
       "      <td>[4, 17, 8, 3, 17, 19, 12, 20]</td>\n",
       "      <td>31.089623</td>\n",
       "      <td>38.306250</td>\n",
       "      <td>7.216627</td>\n",
       "      <td>31.0</td>\n",
       "      <td>40.0</td>\n",
       "      <td>9.0</td>\n",
       "    </tr>\n",
       "    <tr>\n",
       "      <th>37</th>\n",
       "      <td>[12, 9, 8, 4, 15, 24, 14, 14]</td>\n",
       "      <td>34.542453</td>\n",
       "      <td>41.750000</td>\n",
       "      <td>7.207547</td>\n",
       "      <td>35.5</td>\n",
       "      <td>45.0</td>\n",
       "      <td>9.5</td>\n",
       "    </tr>\n",
       "    <tr>\n",
       "      <th>38</th>\n",
       "      <td>[15, 16, 9, 5, 11, 19, 11, 14]</td>\n",
       "      <td>34.311321</td>\n",
       "      <td>41.512500</td>\n",
       "      <td>7.201179</td>\n",
       "      <td>34.5</td>\n",
       "      <td>43.0</td>\n",
       "      <td>8.5</td>\n",
       "    </tr>\n",
       "    <tr>\n",
       "      <th>39</th>\n",
       "      <td>[14, 18, 2, 7, 18, 11, 17, 13]</td>\n",
       "      <td>28.891509</td>\n",
       "      <td>36.090625</td>\n",
       "      <td>7.199116</td>\n",
       "      <td>27.0</td>\n",
       "      <td>38.0</td>\n",
       "      <td>11.0</td>\n",
       "    </tr>\n",
       "    <tr>\n",
       "      <th>40</th>\n",
       "      <td>[17, 13, 2, 5, 19, 14, 18, 12]</td>\n",
       "      <td>30.160377</td>\n",
       "      <td>37.353125</td>\n",
       "      <td>7.192748</td>\n",
       "      <td>33.0</td>\n",
       "      <td>38.0</td>\n",
       "      <td>5.0</td>\n",
       "    </tr>\n",
       "    <tr>\n",
       "      <th>41</th>\n",
       "      <td>[15, 15, 6, 3, 11, 19, 15, 16]</td>\n",
       "      <td>30.716981</td>\n",
       "      <td>37.896875</td>\n",
       "      <td>7.179894</td>\n",
       "      <td>32.0</td>\n",
       "      <td>39.0</td>\n",
       "      <td>7.0</td>\n",
       "    </tr>\n",
       "    <tr>\n",
       "      <th>42</th>\n",
       "      <td>[19, 16, 4, 2, 15, 14, 14, 16]</td>\n",
       "      <td>30.174528</td>\n",
       "      <td>37.350000</td>\n",
       "      <td>7.175472</td>\n",
       "      <td>32.0</td>\n",
       "      <td>37.0</td>\n",
       "      <td>5.0</td>\n",
       "    </tr>\n",
       "    <tr>\n",
       "      <th>43</th>\n",
       "      <td>[3, 15, 12, 9, 17, 21, 11, 12]</td>\n",
       "      <td>37.028302</td>\n",
       "      <td>44.203125</td>\n",
       "      <td>7.174823</td>\n",
       "      <td>38.0</td>\n",
       "      <td>45.0</td>\n",
       "      <td>7.0</td>\n",
       "    </tr>\n",
       "    <tr>\n",
       "      <th>44</th>\n",
       "      <td>[11, 16, 7, 3, 14, 18, 15, 16]</td>\n",
       "      <td>31.075472</td>\n",
       "      <td>38.246875</td>\n",
       "      <td>7.171403</td>\n",
       "      <td>32.0</td>\n",
       "      <td>39.0</td>\n",
       "      <td>7.0</td>\n",
       "    </tr>\n",
       "    <tr>\n",
       "      <th>45</th>\n",
       "      <td>[10, 14, 9, 5, 17, 19, 12, 14]</td>\n",
       "      <td>34.683962</td>\n",
       "      <td>41.853125</td>\n",
       "      <td>7.169163</td>\n",
       "      <td>36.0</td>\n",
       "      <td>45.0</td>\n",
       "      <td>9.0</td>\n",
       "    </tr>\n",
       "    <tr>\n",
       "      <th>46</th>\n",
       "      <td>[3, 15, 4, 8, 17, 19, 16, 18]</td>\n",
       "      <td>28.886792</td>\n",
       "      <td>36.046875</td>\n",
       "      <td>7.160083</td>\n",
       "      <td>30.0</td>\n",
       "      <td>39.0</td>\n",
       "      <td>9.0</td>\n",
       "    </tr>\n",
       "    <tr>\n",
       "      <th>47</th>\n",
       "      <td>[2, 14, 4, 15, 20, 18, 13, 14]</td>\n",
       "      <td>32.141509</td>\n",
       "      <td>39.293750</td>\n",
       "      <td>7.152241</td>\n",
       "      <td>37.0</td>\n",
       "      <td>40.0</td>\n",
       "      <td>3.0</td>\n",
       "    </tr>\n",
       "    <tr>\n",
       "      <th>48</th>\n",
       "      <td>[11, 11, 2, 11, 16, 19, 18, 12]</td>\n",
       "      <td>30.490566</td>\n",
       "      <td>37.637500</td>\n",
       "      <td>7.146934</td>\n",
       "      <td>32.0</td>\n",
       "      <td>40.0</td>\n",
       "      <td>8.0</td>\n",
       "    </tr>\n",
       "    <tr>\n",
       "      <th>49</th>\n",
       "      <td>[13, 13, 2, 12, 12, 19, 15, 14]</td>\n",
       "      <td>30.235849</td>\n",
       "      <td>37.381250</td>\n",
       "      <td>7.145401</td>\n",
       "      <td>32.0</td>\n",
       "      <td>39.0</td>\n",
       "      <td>7.0</td>\n",
       "    </tr>\n",
       "    <tr>\n",
       "      <th>50</th>\n",
       "      <td>[18, 9, 4, 3, 15, 21, 12, 18]</td>\n",
       "      <td>31.919811</td>\n",
       "      <td>39.062500</td>\n",
       "      <td>7.142689</td>\n",
       "      <td>31.0</td>\n",
       "      <td>40.0</td>\n",
       "      <td>9.0</td>\n",
       "    </tr>\n",
       "    <tr>\n",
       "      <th>51</th>\n",
       "      <td>[8, 7, 1, 6, 18, 23, 20, 17]</td>\n",
       "      <td>28.278302</td>\n",
       "      <td>35.418750</td>\n",
       "      <td>7.140448</td>\n",
       "      <td>30.0</td>\n",
       "      <td>39.0</td>\n",
       "      <td>9.0</td>\n",
       "    </tr>\n",
       "    <tr>\n",
       "      <th>52</th>\n",
       "      <td>[13, 12, 3, 9, 15, 19, 13, 16]</td>\n",
       "      <td>31.113208</td>\n",
       "      <td>38.250000</td>\n",
       "      <td>7.136792</td>\n",
       "      <td>31.0</td>\n",
       "      <td>40.0</td>\n",
       "      <td>9.0</td>\n",
       "    </tr>\n",
       "    <tr>\n",
       "      <th>53</th>\n",
       "      <td>[14, 15, 6, 12, 12, 18, 10, 13]</td>\n",
       "      <td>34.037736</td>\n",
       "      <td>41.162500</td>\n",
       "      <td>7.124764</td>\n",
       "      <td>33.0</td>\n",
       "      <td>44.0</td>\n",
       "      <td>11.0</td>\n",
       "    </tr>\n",
       "    <tr>\n",
       "      <th>54</th>\n",
       "      <td>[2, 17, 6, 14, 21, 15, 12, 13]</td>\n",
       "      <td>33.169811</td>\n",
       "      <td>40.290625</td>\n",
       "      <td>7.120814</td>\n",
       "      <td>37.0</td>\n",
       "      <td>41.0</td>\n",
       "      <td>4.0</td>\n",
       "    </tr>\n",
       "    <tr>\n",
       "      <th>55</th>\n",
       "      <td>[4, 17, 2, 14, 13, 18, 14, 18]</td>\n",
       "      <td>28.099057</td>\n",
       "      <td>35.218750</td>\n",
       "      <td>7.119693</td>\n",
       "      <td>31.0</td>\n",
       "      <td>35.0</td>\n",
       "      <td>4.0</td>\n",
       "    </tr>\n",
       "    <tr>\n",
       "      <th>56</th>\n",
       "      <td>[4, 14, 1, 6, 20, 17, 18, 20]</td>\n",
       "      <td>26.268868</td>\n",
       "      <td>33.387500</td>\n",
       "      <td>7.118632</td>\n",
       "      <td>26.5</td>\n",
       "      <td>37.0</td>\n",
       "      <td>10.5</td>\n",
       "    </tr>\n",
       "    <tr>\n",
       "      <th>57</th>\n",
       "      <td>[5, 7, 3, 5, 16, 26, 18, 20]</td>\n",
       "      <td>28.702830</td>\n",
       "      <td>35.812500</td>\n",
       "      <td>7.109670</td>\n",
       "      <td>29.0</td>\n",
       "      <td>39.0</td>\n",
       "      <td>10.0</td>\n",
       "    </tr>\n",
       "    <tr>\n",
       "      <th>58</th>\n",
       "      <td>[15, 10, 5, 3, 21, 17, 16, 13]</td>\n",
       "      <td>32.768868</td>\n",
       "      <td>39.871875</td>\n",
       "      <td>7.103007</td>\n",
       "      <td>33.5</td>\n",
       "      <td>43.0</td>\n",
       "      <td>9.5</td>\n",
       "    </tr>\n",
       "    <tr>\n",
       "      <th>59</th>\n",
       "      <td>[14, 11, 2, 10, 14, 19, 17, 13]</td>\n",
       "      <td>30.386792</td>\n",
       "      <td>37.487500</td>\n",
       "      <td>7.100708</td>\n",
       "      <td>31.0</td>\n",
       "      <td>40.0</td>\n",
       "      <td>9.0</td>\n",
       "    </tr>\n",
       "    <tr>\n",
       "      <th>60</th>\n",
       "      <td>[6, 14, 8, 9, 17, 19, 15, 12]</td>\n",
       "      <td>33.764151</td>\n",
       "      <td>40.859375</td>\n",
       "      <td>7.095224</td>\n",
       "      <td>34.0</td>\n",
       "      <td>42.0</td>\n",
       "      <td>8.0</td>\n",
       "    </tr>\n",
       "    <tr>\n",
       "      <th>61</th>\n",
       "      <td>[15, 17, 6, 5, 14, 15, 12, 16]</td>\n",
       "      <td>31.594340</td>\n",
       "      <td>38.687500</td>\n",
       "      <td>7.093160</td>\n",
       "      <td>31.5</td>\n",
       "      <td>40.0</td>\n",
       "      <td>8.5</td>\n",
       "    </tr>\n",
       "    <tr>\n",
       "      <th>62</th>\n",
       "      <td>[10, 17, 13, 6, 14, 18, 12, 10]</td>\n",
       "      <td>37.198113</td>\n",
       "      <td>44.290625</td>\n",
       "      <td>7.092512</td>\n",
       "      <td>37.0</td>\n",
       "      <td>45.0</td>\n",
       "      <td>8.0</td>\n",
       "    </tr>\n",
       "    <tr>\n",
       "      <th>63</th>\n",
       "      <td>[13, 15, 8, 9, 15, 17, 11, 12]</td>\n",
       "      <td>35.075472</td>\n",
       "      <td>42.165625</td>\n",
       "      <td>7.090153</td>\n",
       "      <td>34.0</td>\n",
       "      <td>45.0</td>\n",
       "      <td>11.0</td>\n",
       "    </tr>\n",
       "    <tr>\n",
       "      <th>64</th>\n",
       "      <td>[7, 9, 8, 10, 18, 23, 12, 13]</td>\n",
       "      <td>35.891509</td>\n",
       "      <td>42.978125</td>\n",
       "      <td>7.086616</td>\n",
       "      <td>37.0</td>\n",
       "      <td>47.0</td>\n",
       "      <td>10.0</td>\n",
       "    </tr>\n",
       "    <tr>\n",
       "      <th>65</th>\n",
       "      <td>[14, 13, 4, 8, 13, 19, 12, 17]</td>\n",
       "      <td>31.216981</td>\n",
       "      <td>38.303125</td>\n",
       "      <td>7.086144</td>\n",
       "      <td>31.5</td>\n",
       "      <td>39.0</td>\n",
       "      <td>7.5</td>\n",
       "    </tr>\n",
       "    <tr>\n",
       "      <th>66</th>\n",
       "      <td>[15, 10, 6, 6, 18, 19, 12, 14]</td>\n",
       "      <td>34.325472</td>\n",
       "      <td>41.403125</td>\n",
       "      <td>7.077653</td>\n",
       "      <td>37.0</td>\n",
       "      <td>43.0</td>\n",
       "      <td>6.0</td>\n",
       "    </tr>\n",
       "    <tr>\n",
       "      <th>67</th>\n",
       "      <td>[5, 15, 8, 7, 17, 18, 19, 11]</td>\n",
       "      <td>32.250000</td>\n",
       "      <td>39.325000</td>\n",
       "      <td>7.075000</td>\n",
       "      <td>32.5</td>\n",
       "      <td>40.0</td>\n",
       "      <td>7.5</td>\n",
       "    </tr>\n",
       "    <tr>\n",
       "      <th>68</th>\n",
       "      <td>[9, 15, 4, 5, 20, 15, 14, 18]</td>\n",
       "      <td>29.839623</td>\n",
       "      <td>36.912500</td>\n",
       "      <td>7.072877</td>\n",
       "      <td>29.0</td>\n",
       "      <td>39.0</td>\n",
       "      <td>10.0</td>\n",
       "    </tr>\n",
       "    <tr>\n",
       "      <th>69</th>\n",
       "      <td>[15, 15, 11, 4, 13, 18, 13, 11]</td>\n",
       "      <td>35.896226</td>\n",
       "      <td>42.943750</td>\n",
       "      <td>7.047524</td>\n",
       "      <td>33.0</td>\n",
       "      <td>44.0</td>\n",
       "      <td>11.0</td>\n",
       "    </tr>\n",
       "    <tr>\n",
       "      <th>70</th>\n",
       "      <td>[6, 15, 5, 12, 16, 17, 18, 11]</td>\n",
       "      <td>31.240566</td>\n",
       "      <td>38.287500</td>\n",
       "      <td>7.046934</td>\n",
       "      <td>33.0</td>\n",
       "      <td>39.0</td>\n",
       "      <td>6.0</td>\n",
       "    </tr>\n",
       "    <tr>\n",
       "      <th>71</th>\n",
       "      <td>[8, 13, 9, 2, 16, 21, 12, 19]</td>\n",
       "      <td>32.825472</td>\n",
       "      <td>39.862500</td>\n",
       "      <td>7.037028</td>\n",
       "      <td>33.0</td>\n",
       "      <td>43.0</td>\n",
       "      <td>10.0</td>\n",
       "    </tr>\n",
       "    <tr>\n",
       "      <th>72</th>\n",
       "      <td>[13, 11, 6, 4, 19, 18, 14, 15]</td>\n",
       "      <td>32.882075</td>\n",
       "      <td>39.918750</td>\n",
       "      <td>7.036675</td>\n",
       "      <td>34.5</td>\n",
       "      <td>42.0</td>\n",
       "      <td>7.5</td>\n",
       "    </tr>\n",
       "    <tr>\n",
       "      <th>73</th>\n",
       "      <td>[13, 12, 2, 5, 14, 18, 22, 14]</td>\n",
       "      <td>27.636792</td>\n",
       "      <td>34.671875</td>\n",
       "      <td>7.035083</td>\n",
       "      <td>29.5</td>\n",
       "      <td>34.0</td>\n",
       "      <td>4.5</td>\n",
       "    </tr>\n",
       "    <tr>\n",
       "      <th>74</th>\n",
       "      <td>[7, 15, 8, 14, 12, 20, 12, 12]</td>\n",
       "      <td>34.490566</td>\n",
       "      <td>41.518750</td>\n",
       "      <td>7.028184</td>\n",
       "      <td>35.0</td>\n",
       "      <td>41.0</td>\n",
       "      <td>6.0</td>\n",
       "    </tr>\n",
       "    <tr>\n",
       "      <th>75</th>\n",
       "      <td>[16, 7, 2, 4, 13, 23, 16, 19]</td>\n",
       "      <td>29.292453</td>\n",
       "      <td>36.296875</td>\n",
       "      <td>7.004422</td>\n",
       "      <td>29.0</td>\n",
       "      <td>38.0</td>\n",
       "      <td>9.0</td>\n",
       "    </tr>\n",
       "    <tr>\n",
       "      <th>76</th>\n",
       "      <td>[3, 14, 2, 16, 16, 18, 17, 14]</td>\n",
       "      <td>29.316038</td>\n",
       "      <td>36.315625</td>\n",
       "      <td>6.999587</td>\n",
       "      <td>34.0</td>\n",
       "      <td>36.0</td>\n",
       "      <td>2.0</td>\n",
       "    </tr>\n",
       "    <tr>\n",
       "      <th>77</th>\n",
       "      <td>[3, 16, 5, 7, 20, 15, 20, 14]</td>\n",
       "      <td>29.141509</td>\n",
       "      <td>36.140625</td>\n",
       "      <td>6.999116</td>\n",
       "      <td>30.0</td>\n",
       "      <td>38.0</td>\n",
       "      <td>8.0</td>\n",
       "    </tr>\n",
       "    <tr>\n",
       "      <th>78</th>\n",
       "      <td>[4, 13, 7, 2, 21, 18, 19, 16]</td>\n",
       "      <td>30.452830</td>\n",
       "      <td>37.450000</td>\n",
       "      <td>6.997170</td>\n",
       "      <td>30.0</td>\n",
       "      <td>40.0</td>\n",
       "      <td>10.0</td>\n",
       "    </tr>\n",
       "    <tr>\n",
       "      <th>79</th>\n",
       "      <td>[8, 13, 3, 14, 14, 19, 14, 15]</td>\n",
       "      <td>30.759434</td>\n",
       "      <td>37.756250</td>\n",
       "      <td>6.996816</td>\n",
       "      <td>31.0</td>\n",
       "      <td>38.5</td>\n",
       "      <td>7.5</td>\n",
       "    </tr>\n",
       "    <tr>\n",
       "      <th>80</th>\n",
       "      <td>[11, 12, 2, 10, 17, 17, 16, 15]</td>\n",
       "      <td>29.867925</td>\n",
       "      <td>36.859375</td>\n",
       "      <td>6.991450</td>\n",
       "      <td>30.0</td>\n",
       "      <td>40.0</td>\n",
       "      <td>10.0</td>\n",
       "    </tr>\n",
       "    <tr>\n",
       "      <th>81</th>\n",
       "      <td>[10, 12, 6, 9, 20, 17, 12, 14]</td>\n",
       "      <td>33.905660</td>\n",
       "      <td>40.893750</td>\n",
       "      <td>6.988090</td>\n",
       "      <td>35.0</td>\n",
       "      <td>43.0</td>\n",
       "      <td>8.0</td>\n",
       "    </tr>\n",
       "    <tr>\n",
       "      <th>82</th>\n",
       "      <td>[1, 9, 8, 11, 22, 22, 14, 13]</td>\n",
       "      <td>35.231132</td>\n",
       "      <td>42.215625</td>\n",
       "      <td>6.984493</td>\n",
       "      <td>40.5</td>\n",
       "      <td>44.0</td>\n",
       "      <td>3.5</td>\n",
       "    </tr>\n",
       "    <tr>\n",
       "      <th>83</th>\n",
       "      <td>[4, 11, 4, 15, 19, 19, 17, 11]</td>\n",
       "      <td>32.320755</td>\n",
       "      <td>39.303125</td>\n",
       "      <td>6.982370</td>\n",
       "      <td>38.0</td>\n",
       "      <td>42.0</td>\n",
       "      <td>4.0</td>\n",
       "    </tr>\n",
       "    <tr>\n",
       "      <th>84</th>\n",
       "      <td>[9, 11, 4, 6, 21, 17, 17, 15]</td>\n",
       "      <td>30.806604</td>\n",
       "      <td>37.781250</td>\n",
       "      <td>6.974646</td>\n",
       "      <td>31.0</td>\n",
       "      <td>40.0</td>\n",
       "      <td>9.0</td>\n",
       "    </tr>\n",
       "    <tr>\n",
       "      <th>85</th>\n",
       "      <td>[12, 15, 6, 9, 16, 15, 16, 11]</td>\n",
       "      <td>32.500000</td>\n",
       "      <td>39.468750</td>\n",
       "      <td>6.968750</td>\n",
       "      <td>31.0</td>\n",
       "      <td>42.0</td>\n",
       "      <td>11.0</td>\n",
       "    </tr>\n",
       "    <tr>\n",
       "      <th>86</th>\n",
       "      <td>[6, 14, 5, 13, 14, 19, 15, 14]</td>\n",
       "      <td>31.400943</td>\n",
       "      <td>38.368750</td>\n",
       "      <td>6.967807</td>\n",
       "      <td>32.5</td>\n",
       "      <td>38.0</td>\n",
       "      <td>5.5</td>\n",
       "    </tr>\n",
       "    <tr>\n",
       "      <th>87</th>\n",
       "      <td>[7, 15, 9, 7, 15, 19, 12, 16]</td>\n",
       "      <td>33.466981</td>\n",
       "      <td>40.434375</td>\n",
       "      <td>6.967394</td>\n",
       "      <td>35.0</td>\n",
       "      <td>42.0</td>\n",
       "      <td>7.0</td>\n",
       "    </tr>\n",
       "    <tr>\n",
       "      <th>88</th>\n",
       "      <td>[2, 14, 15, 2, 15, 23, 16, 13]</td>\n",
       "      <td>35.990566</td>\n",
       "      <td>42.956250</td>\n",
       "      <td>6.965684</td>\n",
       "      <td>37.5</td>\n",
       "      <td>42.0</td>\n",
       "      <td>4.5</td>\n",
       "    </tr>\n",
       "    <tr>\n",
       "      <th>89</th>\n",
       "      <td>[8, 19, 9, 10, 17, 13, 13, 11]</td>\n",
       "      <td>34.174528</td>\n",
       "      <td>41.134375</td>\n",
       "      <td>6.959847</td>\n",
       "      <td>36.0</td>\n",
       "      <td>40.0</td>\n",
       "      <td>4.0</td>\n",
       "    </tr>\n",
       "    <tr>\n",
       "      <th>90</th>\n",
       "      <td>[5, 14, 2, 12, 18, 16, 19, 14]</td>\n",
       "      <td>28.570755</td>\n",
       "      <td>35.528125</td>\n",
       "      <td>6.957370</td>\n",
       "      <td>32.0</td>\n",
       "      <td>36.0</td>\n",
       "      <td>4.0</td>\n",
       "    </tr>\n",
       "    <tr>\n",
       "      <th>91</th>\n",
       "      <td>[9, 15, 12, 11, 17, 17, 11, 8]</td>\n",
       "      <td>38.566038</td>\n",
       "      <td>45.521875</td>\n",
       "      <td>6.955837</td>\n",
       "      <td>40.0</td>\n",
       "      <td>46.0</td>\n",
       "      <td>6.0</td>\n",
       "    </tr>\n",
       "    <tr>\n",
       "      <th>92</th>\n",
       "      <td>[12, 13, 4, 7, 17, 16, 17, 14]</td>\n",
       "      <td>30.504717</td>\n",
       "      <td>37.456250</td>\n",
       "      <td>6.951533</td>\n",
       "      <td>32.0</td>\n",
       "      <td>39.0</td>\n",
       "      <td>7.0</td>\n",
       "    </tr>\n",
       "    <tr>\n",
       "      <th>93</th>\n",
       "      <td>[12, 15, 4, 5, 14, 16, 18, 16]</td>\n",
       "      <td>28.636792</td>\n",
       "      <td>35.584375</td>\n",
       "      <td>6.947583</td>\n",
       "      <td>30.0</td>\n",
       "      <td>35.0</td>\n",
       "      <td>5.0</td>\n",
       "    </tr>\n",
       "    <tr>\n",
       "      <th>94</th>\n",
       "      <td>[14, 8, 3, 4, 14, 21, 23, 13]</td>\n",
       "      <td>29.037736</td>\n",
       "      <td>35.984375</td>\n",
       "      <td>6.946639</td>\n",
       "      <td>29.0</td>\n",
       "      <td>38.0</td>\n",
       "      <td>9.0</td>\n",
       "    </tr>\n",
       "    <tr>\n",
       "      <th>95</th>\n",
       "      <td>[11, 12, 3, 11, 18, 16, 17, 12]</td>\n",
       "      <td>31.150943</td>\n",
       "      <td>38.096875</td>\n",
       "      <td>6.945932</td>\n",
       "      <td>32.0</td>\n",
       "      <td>41.0</td>\n",
       "      <td>9.0</td>\n",
       "    </tr>\n",
       "    <tr>\n",
       "      <th>96</th>\n",
       "      <td>[17, 12, 2, 11, 13, 17, 13, 15]</td>\n",
       "      <td>30.896226</td>\n",
       "      <td>37.840625</td>\n",
       "      <td>6.944399</td>\n",
       "      <td>30.0</td>\n",
       "      <td>42.0</td>\n",
       "      <td>12.0</td>\n",
       "    </tr>\n",
       "    <tr>\n",
       "      <th>97</th>\n",
       "      <td>[11, 10, 2, 9, 17, 19, 13, 19]</td>\n",
       "      <td>29.971698</td>\n",
       "      <td>36.878125</td>\n",
       "      <td>6.906427</td>\n",
       "      <td>30.0</td>\n",
       "      <td>38.5</td>\n",
       "      <td>8.5</td>\n",
       "    </tr>\n",
       "    <tr>\n",
       "      <th>98</th>\n",
       "      <td>[12, 13, 7, 7, 15, 18, 13, 15]</td>\n",
       "      <td>33.014151</td>\n",
       "      <td>39.915625</td>\n",
       "      <td>6.901474</td>\n",
       "      <td>33.0</td>\n",
       "      <td>41.0</td>\n",
       "      <td>8.0</td>\n",
       "    </tr>\n",
       "    <tr>\n",
       "      <th>99</th>\n",
       "      <td>[11, 11, 2, 14, 17, 17, 15, 13]</td>\n",
       "      <td>31.306604</td>\n",
       "      <td>38.206250</td>\n",
       "      <td>6.899646</td>\n",
       "      <td>33.0</td>\n",
       "      <td>41.0</td>\n",
       "      <td>8.0</td>\n",
       "    </tr>\n",
       "  </tbody>\n",
       "</table>\n",
       "</div>"
      ],
      "text/plain": [
       "             Combination of weights  Sybil mean  not_sybil mean  \\\n",
       "0    [11, 17, 3, 3, 16, 21, 17, 12]   30.221698       38.431250   \n",
       "1    [13, 17, 2, 5, 15, 19, 14, 15]   29.655660       37.556250   \n",
       "2    [13, 16, 4, 2, 19, 18, 12, 16]   31.410377       39.206250   \n",
       "3    [15, 15, 3, 3, 19, 17, 16, 12]   31.136792       38.896875   \n",
       "4     [3, 16, 6, 7, 15, 23, 17, 13]   31.235849       38.984375   \n",
       "5    [11, 11, 2, 7, 20, 21, 15, 13]   31.721698       39.440625   \n",
       "6     [2, 18, 4, 5, 21, 17, 19, 14]   28.867925       36.515625   \n",
       "7      [5, 7, 4, 2, 24, 25, 16, 17]   31.759434       39.359375   \n",
       "8     [4, 18, 8, 4, 20, 18, 14, 14]   32.698113       40.287500   \n",
       "9     [4, 16, 5, 7, 15, 21, 19, 13]   29.886792       37.443750   \n",
       "10    [2, 16, 2, 8, 15, 21, 20, 16]   26.896226       34.446875   \n",
       "11  [10, 15, 2, 11, 14, 19, 18, 11]   29.924528       37.443750   \n",
       "12    [5, 12, 4, 9, 21, 21, 13, 15]   32.396226       39.903125   \n",
       "13   [14, 16, 4, 8, 12, 19, 13, 14]   31.349057       38.843750   \n",
       "14    [8, 13, 2, 9, 13, 23, 13, 19]   29.207547       36.665625   \n",
       "15   [6, 12, 3, 14, 22, 19, 12, 12]   33.599057       41.056250   \n",
       "16   [14, 18, 2, 7, 15, 14, 18, 12]   28.801887       36.234375   \n",
       "17   [11, 15, 6, 4, 19, 17, 16, 12]   32.396226       39.821875   \n",
       "18    [8, 17, 8, 8, 18, 17, 13, 11]   34.405660       41.806250   \n",
       "19   [16, 16, 9, 2, 18, 16, 11, 12]   35.533019       42.931250   \n",
       "20    [5, 17, 3, 8, 17, 18, 13, 19]   28.858491       36.256250   \n",
       "21   [15, 13, 4, 6, 20, 16, 15, 11]   32.834906       40.221875   \n",
       "22    [9, 12, 4, 2, 23, 18, 15, 17]   30.811321       38.171875   \n",
       "23  [13, 19, 2, 11, 17, 12, 13, 13]   30.306604       37.656250   \n",
       "24   [12, 16, 3, 5, 18, 15, 17, 14]   29.485849       36.831250   \n",
       "25    [11, 3, 3, 2, 21, 26, 19, 15]   31.613208       38.956250   \n",
       "26   [11, 13, 8, 3, 17, 20, 15, 13]   33.674528       40.981250   \n",
       "27   [16, 10, 3, 7, 19, 18, 16, 11]   32.622642       39.912500   \n",
       "28   [8, 14, 3, 10, 21, 16, 15, 13]   31.349057       38.637500   \n",
       "29   [2, 17, 2, 13, 13, 19, 20, 14]   27.268868       34.556250   \n",
       "30   [15, 13, 5, 3, 16, 18, 17, 13]   31.415094       38.690625   \n",
       "31   [20, 10, 3, 2, 16, 19, 14, 16]   31.278302       38.537500   \n",
       "32    [9, 15, 3, 9, 16, 18, 12, 18]   30.070755       37.318750   \n",
       "33    [9, 17, 6, 9, 13, 18, 14, 14]   31.566038       38.803125   \n",
       "34   [4, 12, 3, 12, 18, 21, 13, 17]   30.896226       38.128125   \n",
       "35    [10, 9, 3, 2, 22, 19, 22, 13]   29.702830       36.931250   \n",
       "36    [4, 17, 8, 3, 17, 19, 12, 20]   31.089623       38.306250   \n",
       "37    [12, 9, 8, 4, 15, 24, 14, 14]   34.542453       41.750000   \n",
       "38   [15, 16, 9, 5, 11, 19, 11, 14]   34.311321       41.512500   \n",
       "39   [14, 18, 2, 7, 18, 11, 17, 13]   28.891509       36.090625   \n",
       "40   [17, 13, 2, 5, 19, 14, 18, 12]   30.160377       37.353125   \n",
       "41   [15, 15, 6, 3, 11, 19, 15, 16]   30.716981       37.896875   \n",
       "42   [19, 16, 4, 2, 15, 14, 14, 16]   30.174528       37.350000   \n",
       "43   [3, 15, 12, 9, 17, 21, 11, 12]   37.028302       44.203125   \n",
       "44   [11, 16, 7, 3, 14, 18, 15, 16]   31.075472       38.246875   \n",
       "45   [10, 14, 9, 5, 17, 19, 12, 14]   34.683962       41.853125   \n",
       "46    [3, 15, 4, 8, 17, 19, 16, 18]   28.886792       36.046875   \n",
       "47   [2, 14, 4, 15, 20, 18, 13, 14]   32.141509       39.293750   \n",
       "48  [11, 11, 2, 11, 16, 19, 18, 12]   30.490566       37.637500   \n",
       "49  [13, 13, 2, 12, 12, 19, 15, 14]   30.235849       37.381250   \n",
       "50    [18, 9, 4, 3, 15, 21, 12, 18]   31.919811       39.062500   \n",
       "51     [8, 7, 1, 6, 18, 23, 20, 17]   28.278302       35.418750   \n",
       "52   [13, 12, 3, 9, 15, 19, 13, 16]   31.113208       38.250000   \n",
       "53  [14, 15, 6, 12, 12, 18, 10, 13]   34.037736       41.162500   \n",
       "54   [2, 17, 6, 14, 21, 15, 12, 13]   33.169811       40.290625   \n",
       "55   [4, 17, 2, 14, 13, 18, 14, 18]   28.099057       35.218750   \n",
       "56    [4, 14, 1, 6, 20, 17, 18, 20]   26.268868       33.387500   \n",
       "57     [5, 7, 3, 5, 16, 26, 18, 20]   28.702830       35.812500   \n",
       "58   [15, 10, 5, 3, 21, 17, 16, 13]   32.768868       39.871875   \n",
       "59  [14, 11, 2, 10, 14, 19, 17, 13]   30.386792       37.487500   \n",
       "60    [6, 14, 8, 9, 17, 19, 15, 12]   33.764151       40.859375   \n",
       "61   [15, 17, 6, 5, 14, 15, 12, 16]   31.594340       38.687500   \n",
       "62  [10, 17, 13, 6, 14, 18, 12, 10]   37.198113       44.290625   \n",
       "63   [13, 15, 8, 9, 15, 17, 11, 12]   35.075472       42.165625   \n",
       "64    [7, 9, 8, 10, 18, 23, 12, 13]   35.891509       42.978125   \n",
       "65   [14, 13, 4, 8, 13, 19, 12, 17]   31.216981       38.303125   \n",
       "66   [15, 10, 6, 6, 18, 19, 12, 14]   34.325472       41.403125   \n",
       "67    [5, 15, 8, 7, 17, 18, 19, 11]   32.250000       39.325000   \n",
       "68    [9, 15, 4, 5, 20, 15, 14, 18]   29.839623       36.912500   \n",
       "69  [15, 15, 11, 4, 13, 18, 13, 11]   35.896226       42.943750   \n",
       "70   [6, 15, 5, 12, 16, 17, 18, 11]   31.240566       38.287500   \n",
       "71    [8, 13, 9, 2, 16, 21, 12, 19]   32.825472       39.862500   \n",
       "72   [13, 11, 6, 4, 19, 18, 14, 15]   32.882075       39.918750   \n",
       "73   [13, 12, 2, 5, 14, 18, 22, 14]   27.636792       34.671875   \n",
       "74   [7, 15, 8, 14, 12, 20, 12, 12]   34.490566       41.518750   \n",
       "75    [16, 7, 2, 4, 13, 23, 16, 19]   29.292453       36.296875   \n",
       "76   [3, 14, 2, 16, 16, 18, 17, 14]   29.316038       36.315625   \n",
       "77    [3, 16, 5, 7, 20, 15, 20, 14]   29.141509       36.140625   \n",
       "78    [4, 13, 7, 2, 21, 18, 19, 16]   30.452830       37.450000   \n",
       "79   [8, 13, 3, 14, 14, 19, 14, 15]   30.759434       37.756250   \n",
       "80  [11, 12, 2, 10, 17, 17, 16, 15]   29.867925       36.859375   \n",
       "81   [10, 12, 6, 9, 20, 17, 12, 14]   33.905660       40.893750   \n",
       "82    [1, 9, 8, 11, 22, 22, 14, 13]   35.231132       42.215625   \n",
       "83   [4, 11, 4, 15, 19, 19, 17, 11]   32.320755       39.303125   \n",
       "84    [9, 11, 4, 6, 21, 17, 17, 15]   30.806604       37.781250   \n",
       "85   [12, 15, 6, 9, 16, 15, 16, 11]   32.500000       39.468750   \n",
       "86   [6, 14, 5, 13, 14, 19, 15, 14]   31.400943       38.368750   \n",
       "87    [7, 15, 9, 7, 15, 19, 12, 16]   33.466981       40.434375   \n",
       "88   [2, 14, 15, 2, 15, 23, 16, 13]   35.990566       42.956250   \n",
       "89   [8, 19, 9, 10, 17, 13, 13, 11]   34.174528       41.134375   \n",
       "90   [5, 14, 2, 12, 18, 16, 19, 14]   28.570755       35.528125   \n",
       "91   [9, 15, 12, 11, 17, 17, 11, 8]   38.566038       45.521875   \n",
       "92   [12, 13, 4, 7, 17, 16, 17, 14]   30.504717       37.456250   \n",
       "93   [12, 15, 4, 5, 14, 16, 18, 16]   28.636792       35.584375   \n",
       "94    [14, 8, 3, 4, 14, 21, 23, 13]   29.037736       35.984375   \n",
       "95  [11, 12, 3, 11, 18, 16, 17, 12]   31.150943       38.096875   \n",
       "96  [17, 12, 2, 11, 13, 17, 13, 15]   30.896226       37.840625   \n",
       "97   [11, 10, 2, 9, 17, 19, 13, 19]   29.971698       36.878125   \n",
       "98   [12, 13, 7, 7, 15, 18, 13, 15]   33.014151       39.915625   \n",
       "99  [11, 11, 2, 14, 17, 17, 15, 13]   31.306604       38.206250   \n",
       "\n",
       "    Mean differences  Sybil median  not_sybil median  Median differences  \n",
       "0           8.209552          33.0              40.0                 7.0  \n",
       "1           7.900590          34.0              37.0                 3.0  \n",
       "2           7.795873          35.0              40.0                 5.0  \n",
       "3           7.760083          35.0              39.0                 4.0  \n",
       "4           7.748526          31.5              41.0                 9.5  \n",
       "5           7.718927          32.5              41.0                 8.5  \n",
       "6           7.647700          28.0              40.0                12.0  \n",
       "7           7.599941          31.5              40.5                 9.0  \n",
       "8           7.589387          32.0              42.0                10.0  \n",
       "9           7.556958          31.0              40.0                 9.0  \n",
       "10          7.550649          27.0              38.0                11.0  \n",
       "11          7.519222          31.0              37.0                 6.0  \n",
       "12          7.506899          34.0              42.0                 8.0  \n",
       "13          7.494693          31.0              39.0                 8.0  \n",
       "14          7.458078          32.0              38.0                 6.0  \n",
       "15          7.457193          36.0              44.0                 8.0  \n",
       "16          7.432488          30.0              38.0                 8.0  \n",
       "17          7.425649          34.0              42.0                 8.0  \n",
       "18          7.400590          34.0              43.0                 9.0  \n",
       "19          7.398231          34.0              43.0                 9.0  \n",
       "20          7.397759          29.0              38.0                 9.0  \n",
       "21          7.386969          35.0              40.0                 5.0  \n",
       "22          7.360554          31.0              41.0                10.0  \n",
       "23          7.349646          30.0              42.0                12.0  \n",
       "24          7.345401          30.0              36.0                 6.0  \n",
       "25          7.343042          30.0              40.0                10.0  \n",
       "26          7.306722          35.5              44.0                 8.5  \n",
       "27          7.289858          36.0              40.0                 4.0  \n",
       "28          7.288443          34.0              40.0                 6.0  \n",
       "29          7.287382          30.0              34.0                 4.0  \n",
       "30          7.275531          34.0              39.0                 5.0  \n",
       "31          7.259198          31.0              40.0                 9.0  \n",
       "32          7.247995          30.0              37.0                 7.0  \n",
       "33          7.237087          33.0              40.0                 7.0  \n",
       "34          7.231899          33.0              40.0                 7.0  \n",
       "35          7.228420          31.5              41.0                 9.5  \n",
       "36          7.216627          31.0              40.0                 9.0  \n",
       "37          7.207547          35.5              45.0                 9.5  \n",
       "38          7.201179          34.5              43.0                 8.5  \n",
       "39          7.199116          27.0              38.0                11.0  \n",
       "40          7.192748          33.0              38.0                 5.0  \n",
       "41          7.179894          32.0              39.0                 7.0  \n",
       "42          7.175472          32.0              37.0                 5.0  \n",
       "43          7.174823          38.0              45.0                 7.0  \n",
       "44          7.171403          32.0              39.0                 7.0  \n",
       "45          7.169163          36.0              45.0                 9.0  \n",
       "46          7.160083          30.0              39.0                 9.0  \n",
       "47          7.152241          37.0              40.0                 3.0  \n",
       "48          7.146934          32.0              40.0                 8.0  \n",
       "49          7.145401          32.0              39.0                 7.0  \n",
       "50          7.142689          31.0              40.0                 9.0  \n",
       "51          7.140448          30.0              39.0                 9.0  \n",
       "52          7.136792          31.0              40.0                 9.0  \n",
       "53          7.124764          33.0              44.0                11.0  \n",
       "54          7.120814          37.0              41.0                 4.0  \n",
       "55          7.119693          31.0              35.0                 4.0  \n",
       "56          7.118632          26.5              37.0                10.5  \n",
       "57          7.109670          29.0              39.0                10.0  \n",
       "58          7.103007          33.5              43.0                 9.5  \n",
       "59          7.100708          31.0              40.0                 9.0  \n",
       "60          7.095224          34.0              42.0                 8.0  \n",
       "61          7.093160          31.5              40.0                 8.5  \n",
       "62          7.092512          37.0              45.0                 8.0  \n",
       "63          7.090153          34.0              45.0                11.0  \n",
       "64          7.086616          37.0              47.0                10.0  \n",
       "65          7.086144          31.5              39.0                 7.5  \n",
       "66          7.077653          37.0              43.0                 6.0  \n",
       "67          7.075000          32.5              40.0                 7.5  \n",
       "68          7.072877          29.0              39.0                10.0  \n",
       "69          7.047524          33.0              44.0                11.0  \n",
       "70          7.046934          33.0              39.0                 6.0  \n",
       "71          7.037028          33.0              43.0                10.0  \n",
       "72          7.036675          34.5              42.0                 7.5  \n",
       "73          7.035083          29.5              34.0                 4.5  \n",
       "74          7.028184          35.0              41.0                 6.0  \n",
       "75          7.004422          29.0              38.0                 9.0  \n",
       "76          6.999587          34.0              36.0                 2.0  \n",
       "77          6.999116          30.0              38.0                 8.0  \n",
       "78          6.997170          30.0              40.0                10.0  \n",
       "79          6.996816          31.0              38.5                 7.5  \n",
       "80          6.991450          30.0              40.0                10.0  \n",
       "81          6.988090          35.0              43.0                 8.0  \n",
       "82          6.984493          40.5              44.0                 3.5  \n",
       "83          6.982370          38.0              42.0                 4.0  \n",
       "84          6.974646          31.0              40.0                 9.0  \n",
       "85          6.968750          31.0              42.0                11.0  \n",
       "86          6.967807          32.5              38.0                 5.5  \n",
       "87          6.967394          35.0              42.0                 7.0  \n",
       "88          6.965684          37.5              42.0                 4.5  \n",
       "89          6.959847          36.0              40.0                 4.0  \n",
       "90          6.957370          32.0              36.0                 4.0  \n",
       "91          6.955837          40.0              46.0                 6.0  \n",
       "92          6.951533          32.0              39.0                 7.0  \n",
       "93          6.947583          30.0              35.0                 5.0  \n",
       "94          6.946639          29.0              38.0                 9.0  \n",
       "95          6.945932          32.0              41.0                 9.0  \n",
       "96          6.944399          30.0              42.0                12.0  \n",
       "97          6.906427          30.0              38.5                 8.5  \n",
       "98          6.901474          33.0              41.0                 8.0  \n",
       "99          6.899646          33.0              41.0                 8.0  "
      ]
     },
     "execution_count": 703,
     "metadata": {},
     "output_type": "execute_result"
    }
   ],
   "source": [
    "diff4."
   ]
  },
  {
   "cell_type": "code",
   "execution_count": 624,
   "id": "884ee010",
   "metadata": {},
   "outputs": [],
   "source": [
    "diff4.sort_values(by=\"Mean differences\", inplace=True, ascending=False)\n",
    "diff4.reset_index(drop=True, inplace=True)"
   ]
  },
  {
   "cell_type": "code",
   "execution_count": 632,
   "id": "2aed7e6b",
   "metadata": {},
   "outputs": [
    {
     "data": {
      "text/html": [
       "<div>\n",
       "<style scoped>\n",
       "    .dataframe tbody tr th:only-of-type {\n",
       "        vertical-align: middle;\n",
       "    }\n",
       "\n",
       "    .dataframe tbody tr th {\n",
       "        vertical-align: top;\n",
       "    }\n",
       "\n",
       "    .dataframe thead th {\n",
       "        text-align: right;\n",
       "    }\n",
       "</style>\n",
       "<table border=\"1\" class=\"dataframe\">\n",
       "  <thead>\n",
       "    <tr style=\"text-align: right;\">\n",
       "      <th></th>\n",
       "      <th>Combination of weights</th>\n",
       "      <th>Sybil mean</th>\n",
       "      <th>not_sybil mean</th>\n",
       "      <th>Mean differences</th>\n",
       "      <th>Sybil median</th>\n",
       "      <th>not_sybil median</th>\n",
       "      <th>Median differences</th>\n",
       "    </tr>\n",
       "  </thead>\n",
       "  <tbody>\n",
       "    <tr>\n",
       "      <th>0</th>\n",
       "      <td>[11, 17, 3, 3, 16, 21, 17, 12]</td>\n",
       "      <td>30.221698</td>\n",
       "      <td>38.431250</td>\n",
       "      <td>8.209552</td>\n",
       "      <td>33.0</td>\n",
       "      <td>40.0</td>\n",
       "      <td>7.0</td>\n",
       "    </tr>\n",
       "    <tr>\n",
       "      <th>1</th>\n",
       "      <td>[13, 17, 2, 5, 15, 19, 14, 15]</td>\n",
       "      <td>29.655660</td>\n",
       "      <td>37.556250</td>\n",
       "      <td>7.900590</td>\n",
       "      <td>34.0</td>\n",
       "      <td>37.0</td>\n",
       "      <td>3.0</td>\n",
       "    </tr>\n",
       "    <tr>\n",
       "      <th>2</th>\n",
       "      <td>[13, 16, 4, 2, 19, 18, 12, 16]</td>\n",
       "      <td>31.410377</td>\n",
       "      <td>39.206250</td>\n",
       "      <td>7.795873</td>\n",
       "      <td>35.0</td>\n",
       "      <td>40.0</td>\n",
       "      <td>5.0</td>\n",
       "    </tr>\n",
       "    <tr>\n",
       "      <th>3</th>\n",
       "      <td>[15, 15, 3, 3, 19, 17, 16, 12]</td>\n",
       "      <td>31.136792</td>\n",
       "      <td>38.896875</td>\n",
       "      <td>7.760083</td>\n",
       "      <td>35.0</td>\n",
       "      <td>39.0</td>\n",
       "      <td>4.0</td>\n",
       "    </tr>\n",
       "    <tr>\n",
       "      <th>4</th>\n",
       "      <td>[3, 16, 6, 7, 15, 23, 17, 13]</td>\n",
       "      <td>31.235849</td>\n",
       "      <td>38.984375</td>\n",
       "      <td>7.748526</td>\n",
       "      <td>31.5</td>\n",
       "      <td>41.0</td>\n",
       "      <td>9.5</td>\n",
       "    </tr>\n",
       "    <tr>\n",
       "      <th>5</th>\n",
       "      <td>[11, 11, 2, 7, 20, 21, 15, 13]</td>\n",
       "      <td>31.721698</td>\n",
       "      <td>39.440625</td>\n",
       "      <td>7.718927</td>\n",
       "      <td>32.5</td>\n",
       "      <td>41.0</td>\n",
       "      <td>8.5</td>\n",
       "    </tr>\n",
       "    <tr>\n",
       "      <th>6</th>\n",
       "      <td>[2, 18, 4, 5, 21, 17, 19, 14]</td>\n",
       "      <td>28.867925</td>\n",
       "      <td>36.515625</td>\n",
       "      <td>7.647700</td>\n",
       "      <td>28.0</td>\n",
       "      <td>40.0</td>\n",
       "      <td>12.0</td>\n",
       "    </tr>\n",
       "    <tr>\n",
       "      <th>7</th>\n",
       "      <td>[5, 7, 4, 2, 24, 25, 16, 17]</td>\n",
       "      <td>31.759434</td>\n",
       "      <td>39.359375</td>\n",
       "      <td>7.599941</td>\n",
       "      <td>31.5</td>\n",
       "      <td>40.5</td>\n",
       "      <td>9.0</td>\n",
       "    </tr>\n",
       "    <tr>\n",
       "      <th>8</th>\n",
       "      <td>[4, 18, 8, 4, 20, 18, 14, 14]</td>\n",
       "      <td>32.698113</td>\n",
       "      <td>40.287500</td>\n",
       "      <td>7.589387</td>\n",
       "      <td>32.0</td>\n",
       "      <td>42.0</td>\n",
       "      <td>10.0</td>\n",
       "    </tr>\n",
       "    <tr>\n",
       "      <th>9</th>\n",
       "      <td>[4, 16, 5, 7, 15, 21, 19, 13]</td>\n",
       "      <td>29.886792</td>\n",
       "      <td>37.443750</td>\n",
       "      <td>7.556958</td>\n",
       "      <td>31.0</td>\n",
       "      <td>40.0</td>\n",
       "      <td>9.0</td>\n",
       "    </tr>\n",
       "  </tbody>\n",
       "</table>\n",
       "</div>"
      ],
      "text/plain": [
       "           Combination of weights  Sybil mean  not_sybil mean  \\\n",
       "0  [11, 17, 3, 3, 16, 21, 17, 12]   30.221698       38.431250   \n",
       "1  [13, 17, 2, 5, 15, 19, 14, 15]   29.655660       37.556250   \n",
       "2  [13, 16, 4, 2, 19, 18, 12, 16]   31.410377       39.206250   \n",
       "3  [15, 15, 3, 3, 19, 17, 16, 12]   31.136792       38.896875   \n",
       "4   [3, 16, 6, 7, 15, 23, 17, 13]   31.235849       38.984375   \n",
       "5  [11, 11, 2, 7, 20, 21, 15, 13]   31.721698       39.440625   \n",
       "6   [2, 18, 4, 5, 21, 17, 19, 14]   28.867925       36.515625   \n",
       "7    [5, 7, 4, 2, 24, 25, 16, 17]   31.759434       39.359375   \n",
       "8   [4, 18, 8, 4, 20, 18, 14, 14]   32.698113       40.287500   \n",
       "9   [4, 16, 5, 7, 15, 21, 19, 13]   29.886792       37.443750   \n",
       "\n",
       "   Mean differences  Sybil median  not_sybil median  Median differences  \n",
       "0          8.209552          33.0              40.0                 7.0  \n",
       "1          7.900590          34.0              37.0                 3.0  \n",
       "2          7.795873          35.0              40.0                 5.0  \n",
       "3          7.760083          35.0              39.0                 4.0  \n",
       "4          7.748526          31.5              41.0                 9.5  \n",
       "5          7.718927          32.5              41.0                 8.5  \n",
       "6          7.647700          28.0              40.0                12.0  \n",
       "7          7.599941          31.5              40.5                 9.0  \n",
       "8          7.589387          32.0              42.0                10.0  \n",
       "9          7.556958          31.0              40.0                 9.0  "
      ]
     },
     "execution_count": 632,
     "metadata": {},
     "output_type": "execute_result"
    }
   ],
   "source": [
    "diff4.head(10)"
   ]
  },
  {
   "cell_type": "code",
   "execution_count": 628,
   "id": "5dab0008",
   "metadata": {},
   "outputs": [],
   "source": [
    "import plotly.express as px\n",
    "\n",
    "combination = []\n",
    "for i in range(diff4.shape[0]):\n",
    "    string = \" , \".join([str(item) for item in diff4.loc[i, \"Combination of weights\"]])\n",
    "    combination.append(string)\n",
    "    \n",
    "diff4[\"Weight_combination\"] = combination\n",
    "\n",
    "barchart = px.bar(data_frame= diff4.head(10),\n",
    "                 y= \"Weight_combination\",\n",
    "                 x= [diff4.head(10)[\"Mean differences\"], diff4.head(10)[\"Median differences\"]],\n",
    "                 #color=\"counts\",\n",
    "                 opacity=0.9,\n",
    "                 orientation=\"h\",\n",
    "                  color_continuous_scale=px.colors.diverging.Spectral,\n",
    "                  barmode=\"group\",\n",
    "                  title=\"Plot of Mean and median differences of randomized weights for each verification method for integers\",\n",
    "                  labels={\"variable\": \"Class\",\n",
    "                         \"x\": \"Methods\", \n",
    "                         \"true_counts\": \"True\",\n",
    "                         \"false_counts\": \"False\"}\n",
    "                  #text= verify.counts_True, verify.counts_False\n",
    "                 #color_discrete_sequence=[\"darkorange\", \"lightblue\"]\n",
    "                 ) \n",
    "\n",
    "#barchart.update_layout(yaxis = dict(tickmode = 'array', ticktext = [i for i in diff[\"Combination of weights\"]]))"
   ]
  },
  {
   "cell_type": "code",
   "execution_count": 629,
   "id": "9ad111b7",
   "metadata": {},
   "outputs": [
    {
     "data": {
      "application/vnd.plotly.v1+json": {
       "config": {
        "plotlyServerURL": "https://plot.ly"
       },
       "data": [
        {
         "alignmentgroup": "True",
         "hovertemplate": "Class=wide_variable_0<br>value=%{x}<br>Weight_combination=%{y}<extra></extra>",
         "legendgroup": "wide_variable_0",
         "marker": {
          "color": "#636efa",
          "opacity": 0.9,
          "pattern": {
           "shape": ""
          }
         },
         "name": "wide_variable_0",
         "offsetgroup": "wide_variable_0",
         "orientation": "h",
         "showlegend": true,
         "textposition": "auto",
         "type": "bar",
         "x": [
          8.20955188679245,
          7.900589622641508,
          7.79587264150943,
          7.760082547169812,
          7.748525943396228,
          7.718926886792449,
          7.647700471698112,
          7.599941037735849,
          7.589386792452835,
          7.556957547169812
         ],
         "xaxis": "x",
         "y": [
          "11 , 17 , 3 , 3 , 16 , 21 , 17 , 12",
          "13 , 17 , 2 , 5 , 15 , 19 , 14 , 15",
          "13 , 16 , 4 , 2 , 19 , 18 , 12 , 16",
          "15 , 15 , 3 , 3 , 19 , 17 , 16 , 12",
          "3 , 16 , 6 , 7 , 15 , 23 , 17 , 13",
          "11 , 11 , 2 , 7 , 20 , 21 , 15 , 13",
          "2 , 18 , 4 , 5 , 21 , 17 , 19 , 14",
          "5 , 7 , 4 , 2 , 24 , 25 , 16 , 17",
          "4 , 18 , 8 , 4 , 20 , 18 , 14 , 14",
          "4 , 16 , 5 , 7 , 15 , 21 , 19 , 13"
         ],
         "yaxis": "y"
        },
        {
         "alignmentgroup": "True",
         "hovertemplate": "Class=wide_variable_1<br>value=%{x}<br>Weight_combination=%{y}<extra></extra>",
         "legendgroup": "wide_variable_1",
         "marker": {
          "color": "#EF553B",
          "opacity": 0.9,
          "pattern": {
           "shape": ""
          }
         },
         "name": "wide_variable_1",
         "offsetgroup": "wide_variable_1",
         "orientation": "h",
         "showlegend": true,
         "textposition": "auto",
         "type": "bar",
         "x": [
          7,
          3,
          5,
          4,
          9.5,
          8.5,
          12,
          9,
          10,
          9
         ],
         "xaxis": "x",
         "y": [
          "11 , 17 , 3 , 3 , 16 , 21 , 17 , 12",
          "13 , 17 , 2 , 5 , 15 , 19 , 14 , 15",
          "13 , 16 , 4 , 2 , 19 , 18 , 12 , 16",
          "15 , 15 , 3 , 3 , 19 , 17 , 16 , 12",
          "3 , 16 , 6 , 7 , 15 , 23 , 17 , 13",
          "11 , 11 , 2 , 7 , 20 , 21 , 15 , 13",
          "2 , 18 , 4 , 5 , 21 , 17 , 19 , 14",
          "5 , 7 , 4 , 2 , 24 , 25 , 16 , 17",
          "4 , 18 , 8 , 4 , 20 , 18 , 14 , 14",
          "4 , 16 , 5 , 7 , 15 , 21 , 19 , 13"
         ],
         "yaxis": "y"
        }
       ],
       "layout": {
        "barmode": "group",
        "legend": {
         "title": {
          "text": "Class"
         },
         "tracegroupgap": 0
        },
        "template": {
         "data": {
          "bar": [
           {
            "error_x": {
             "color": "#2a3f5f"
            },
            "error_y": {
             "color": "#2a3f5f"
            },
            "marker": {
             "line": {
              "color": "#E5ECF6",
              "width": 0.5
             },
             "pattern": {
              "fillmode": "overlay",
              "size": 10,
              "solidity": 0.2
             }
            },
            "type": "bar"
           }
          ],
          "barpolar": [
           {
            "marker": {
             "line": {
              "color": "#E5ECF6",
              "width": 0.5
             },
             "pattern": {
              "fillmode": "overlay",
              "size": 10,
              "solidity": 0.2
             }
            },
            "type": "barpolar"
           }
          ],
          "carpet": [
           {
            "aaxis": {
             "endlinecolor": "#2a3f5f",
             "gridcolor": "white",
             "linecolor": "white",
             "minorgridcolor": "white",
             "startlinecolor": "#2a3f5f"
            },
            "baxis": {
             "endlinecolor": "#2a3f5f",
             "gridcolor": "white",
             "linecolor": "white",
             "minorgridcolor": "white",
             "startlinecolor": "#2a3f5f"
            },
            "type": "carpet"
           }
          ],
          "choropleth": [
           {
            "colorbar": {
             "outlinewidth": 0,
             "ticks": ""
            },
            "type": "choropleth"
           }
          ],
          "contour": [
           {
            "colorbar": {
             "outlinewidth": 0,
             "ticks": ""
            },
            "colorscale": [
             [
              0,
              "#0d0887"
             ],
             [
              0.1111111111111111,
              "#46039f"
             ],
             [
              0.2222222222222222,
              "#7201a8"
             ],
             [
              0.3333333333333333,
              "#9c179e"
             ],
             [
              0.4444444444444444,
              "#bd3786"
             ],
             [
              0.5555555555555556,
              "#d8576b"
             ],
             [
              0.6666666666666666,
              "#ed7953"
             ],
             [
              0.7777777777777778,
              "#fb9f3a"
             ],
             [
              0.8888888888888888,
              "#fdca26"
             ],
             [
              1,
              "#f0f921"
             ]
            ],
            "type": "contour"
           }
          ],
          "contourcarpet": [
           {
            "colorbar": {
             "outlinewidth": 0,
             "ticks": ""
            },
            "type": "contourcarpet"
           }
          ],
          "heatmap": [
           {
            "colorbar": {
             "outlinewidth": 0,
             "ticks": ""
            },
            "colorscale": [
             [
              0,
              "#0d0887"
             ],
             [
              0.1111111111111111,
              "#46039f"
             ],
             [
              0.2222222222222222,
              "#7201a8"
             ],
             [
              0.3333333333333333,
              "#9c179e"
             ],
             [
              0.4444444444444444,
              "#bd3786"
             ],
             [
              0.5555555555555556,
              "#d8576b"
             ],
             [
              0.6666666666666666,
              "#ed7953"
             ],
             [
              0.7777777777777778,
              "#fb9f3a"
             ],
             [
              0.8888888888888888,
              "#fdca26"
             ],
             [
              1,
              "#f0f921"
             ]
            ],
            "type": "heatmap"
           }
          ],
          "heatmapgl": [
           {
            "colorbar": {
             "outlinewidth": 0,
             "ticks": ""
            },
            "colorscale": [
             [
              0,
              "#0d0887"
             ],
             [
              0.1111111111111111,
              "#46039f"
             ],
             [
              0.2222222222222222,
              "#7201a8"
             ],
             [
              0.3333333333333333,
              "#9c179e"
             ],
             [
              0.4444444444444444,
              "#bd3786"
             ],
             [
              0.5555555555555556,
              "#d8576b"
             ],
             [
              0.6666666666666666,
              "#ed7953"
             ],
             [
              0.7777777777777778,
              "#fb9f3a"
             ],
             [
              0.8888888888888888,
              "#fdca26"
             ],
             [
              1,
              "#f0f921"
             ]
            ],
            "type": "heatmapgl"
           }
          ],
          "histogram": [
           {
            "marker": {
             "pattern": {
              "fillmode": "overlay",
              "size": 10,
              "solidity": 0.2
             }
            },
            "type": "histogram"
           }
          ],
          "histogram2d": [
           {
            "colorbar": {
             "outlinewidth": 0,
             "ticks": ""
            },
            "colorscale": [
             [
              0,
              "#0d0887"
             ],
             [
              0.1111111111111111,
              "#46039f"
             ],
             [
              0.2222222222222222,
              "#7201a8"
             ],
             [
              0.3333333333333333,
              "#9c179e"
             ],
             [
              0.4444444444444444,
              "#bd3786"
             ],
             [
              0.5555555555555556,
              "#d8576b"
             ],
             [
              0.6666666666666666,
              "#ed7953"
             ],
             [
              0.7777777777777778,
              "#fb9f3a"
             ],
             [
              0.8888888888888888,
              "#fdca26"
             ],
             [
              1,
              "#f0f921"
             ]
            ],
            "type": "histogram2d"
           }
          ],
          "histogram2dcontour": [
           {
            "colorbar": {
             "outlinewidth": 0,
             "ticks": ""
            },
            "colorscale": [
             [
              0,
              "#0d0887"
             ],
             [
              0.1111111111111111,
              "#46039f"
             ],
             [
              0.2222222222222222,
              "#7201a8"
             ],
             [
              0.3333333333333333,
              "#9c179e"
             ],
             [
              0.4444444444444444,
              "#bd3786"
             ],
             [
              0.5555555555555556,
              "#d8576b"
             ],
             [
              0.6666666666666666,
              "#ed7953"
             ],
             [
              0.7777777777777778,
              "#fb9f3a"
             ],
             [
              0.8888888888888888,
              "#fdca26"
             ],
             [
              1,
              "#f0f921"
             ]
            ],
            "type": "histogram2dcontour"
           }
          ],
          "mesh3d": [
           {
            "colorbar": {
             "outlinewidth": 0,
             "ticks": ""
            },
            "type": "mesh3d"
           }
          ],
          "parcoords": [
           {
            "line": {
             "colorbar": {
              "outlinewidth": 0,
              "ticks": ""
             }
            },
            "type": "parcoords"
           }
          ],
          "pie": [
           {
            "automargin": true,
            "type": "pie"
           }
          ],
          "scatter": [
           {
            "marker": {
             "colorbar": {
              "outlinewidth": 0,
              "ticks": ""
             }
            },
            "type": "scatter"
           }
          ],
          "scatter3d": [
           {
            "line": {
             "colorbar": {
              "outlinewidth": 0,
              "ticks": ""
             }
            },
            "marker": {
             "colorbar": {
              "outlinewidth": 0,
              "ticks": ""
             }
            },
            "type": "scatter3d"
           }
          ],
          "scattercarpet": [
           {
            "marker": {
             "colorbar": {
              "outlinewidth": 0,
              "ticks": ""
             }
            },
            "type": "scattercarpet"
           }
          ],
          "scattergeo": [
           {
            "marker": {
             "colorbar": {
              "outlinewidth": 0,
              "ticks": ""
             }
            },
            "type": "scattergeo"
           }
          ],
          "scattergl": [
           {
            "marker": {
             "colorbar": {
              "outlinewidth": 0,
              "ticks": ""
             }
            },
            "type": "scattergl"
           }
          ],
          "scattermapbox": [
           {
            "marker": {
             "colorbar": {
              "outlinewidth": 0,
              "ticks": ""
             }
            },
            "type": "scattermapbox"
           }
          ],
          "scatterpolar": [
           {
            "marker": {
             "colorbar": {
              "outlinewidth": 0,
              "ticks": ""
             }
            },
            "type": "scatterpolar"
           }
          ],
          "scatterpolargl": [
           {
            "marker": {
             "colorbar": {
              "outlinewidth": 0,
              "ticks": ""
             }
            },
            "type": "scatterpolargl"
           }
          ],
          "scatterternary": [
           {
            "marker": {
             "colorbar": {
              "outlinewidth": 0,
              "ticks": ""
             }
            },
            "type": "scatterternary"
           }
          ],
          "surface": [
           {
            "colorbar": {
             "outlinewidth": 0,
             "ticks": ""
            },
            "colorscale": [
             [
              0,
              "#0d0887"
             ],
             [
              0.1111111111111111,
              "#46039f"
             ],
             [
              0.2222222222222222,
              "#7201a8"
             ],
             [
              0.3333333333333333,
              "#9c179e"
             ],
             [
              0.4444444444444444,
              "#bd3786"
             ],
             [
              0.5555555555555556,
              "#d8576b"
             ],
             [
              0.6666666666666666,
              "#ed7953"
             ],
             [
              0.7777777777777778,
              "#fb9f3a"
             ],
             [
              0.8888888888888888,
              "#fdca26"
             ],
             [
              1,
              "#f0f921"
             ]
            ],
            "type": "surface"
           }
          ],
          "table": [
           {
            "cells": {
             "fill": {
              "color": "#EBF0F8"
             },
             "line": {
              "color": "white"
             }
            },
            "header": {
             "fill": {
              "color": "#C8D4E3"
             },
             "line": {
              "color": "white"
             }
            },
            "type": "table"
           }
          ]
         },
         "layout": {
          "annotationdefaults": {
           "arrowcolor": "#2a3f5f",
           "arrowhead": 0,
           "arrowwidth": 1
          },
          "autotypenumbers": "strict",
          "coloraxis": {
           "colorbar": {
            "outlinewidth": 0,
            "ticks": ""
           }
          },
          "colorscale": {
           "diverging": [
            [
             0,
             "#8e0152"
            ],
            [
             0.1,
             "#c51b7d"
            ],
            [
             0.2,
             "#de77ae"
            ],
            [
             0.3,
             "#f1b6da"
            ],
            [
             0.4,
             "#fde0ef"
            ],
            [
             0.5,
             "#f7f7f7"
            ],
            [
             0.6,
             "#e6f5d0"
            ],
            [
             0.7,
             "#b8e186"
            ],
            [
             0.8,
             "#7fbc41"
            ],
            [
             0.9,
             "#4d9221"
            ],
            [
             1,
             "#276419"
            ]
           ],
           "sequential": [
            [
             0,
             "#0d0887"
            ],
            [
             0.1111111111111111,
             "#46039f"
            ],
            [
             0.2222222222222222,
             "#7201a8"
            ],
            [
             0.3333333333333333,
             "#9c179e"
            ],
            [
             0.4444444444444444,
             "#bd3786"
            ],
            [
             0.5555555555555556,
             "#d8576b"
            ],
            [
             0.6666666666666666,
             "#ed7953"
            ],
            [
             0.7777777777777778,
             "#fb9f3a"
            ],
            [
             0.8888888888888888,
             "#fdca26"
            ],
            [
             1,
             "#f0f921"
            ]
           ],
           "sequentialminus": [
            [
             0,
             "#0d0887"
            ],
            [
             0.1111111111111111,
             "#46039f"
            ],
            [
             0.2222222222222222,
             "#7201a8"
            ],
            [
             0.3333333333333333,
             "#9c179e"
            ],
            [
             0.4444444444444444,
             "#bd3786"
            ],
            [
             0.5555555555555556,
             "#d8576b"
            ],
            [
             0.6666666666666666,
             "#ed7953"
            ],
            [
             0.7777777777777778,
             "#fb9f3a"
            ],
            [
             0.8888888888888888,
             "#fdca26"
            ],
            [
             1,
             "#f0f921"
            ]
           ]
          },
          "colorway": [
           "#636efa",
           "#EF553B",
           "#00cc96",
           "#ab63fa",
           "#FFA15A",
           "#19d3f3",
           "#FF6692",
           "#B6E880",
           "#FF97FF",
           "#FECB52"
          ],
          "font": {
           "color": "#2a3f5f"
          },
          "geo": {
           "bgcolor": "white",
           "lakecolor": "white",
           "landcolor": "#E5ECF6",
           "showlakes": true,
           "showland": true,
           "subunitcolor": "white"
          },
          "hoverlabel": {
           "align": "left"
          },
          "hovermode": "closest",
          "mapbox": {
           "style": "light"
          },
          "paper_bgcolor": "white",
          "plot_bgcolor": "#E5ECF6",
          "polar": {
           "angularaxis": {
            "gridcolor": "white",
            "linecolor": "white",
            "ticks": ""
           },
           "bgcolor": "#E5ECF6",
           "radialaxis": {
            "gridcolor": "white",
            "linecolor": "white",
            "ticks": ""
           }
          },
          "scene": {
           "xaxis": {
            "backgroundcolor": "#E5ECF6",
            "gridcolor": "white",
            "gridwidth": 2,
            "linecolor": "white",
            "showbackground": true,
            "ticks": "",
            "zerolinecolor": "white"
           },
           "yaxis": {
            "backgroundcolor": "#E5ECF6",
            "gridcolor": "white",
            "gridwidth": 2,
            "linecolor": "white",
            "showbackground": true,
            "ticks": "",
            "zerolinecolor": "white"
           },
           "zaxis": {
            "backgroundcolor": "#E5ECF6",
            "gridcolor": "white",
            "gridwidth": 2,
            "linecolor": "white",
            "showbackground": true,
            "ticks": "",
            "zerolinecolor": "white"
           }
          },
          "shapedefaults": {
           "line": {
            "color": "#2a3f5f"
           }
          },
          "ternary": {
           "aaxis": {
            "gridcolor": "white",
            "linecolor": "white",
            "ticks": ""
           },
           "baxis": {
            "gridcolor": "white",
            "linecolor": "white",
            "ticks": ""
           },
           "bgcolor": "#E5ECF6",
           "caxis": {
            "gridcolor": "white",
            "linecolor": "white",
            "ticks": ""
           }
          },
          "title": {
           "x": 0.05
          },
          "xaxis": {
           "automargin": true,
           "gridcolor": "white",
           "linecolor": "white",
           "ticks": "",
           "title": {
            "standoff": 15
           },
           "zerolinecolor": "white",
           "zerolinewidth": 2
          },
          "yaxis": {
           "automargin": true,
           "gridcolor": "white",
           "linecolor": "white",
           "ticks": "",
           "title": {
            "standoff": 15
           },
           "zerolinecolor": "white",
           "zerolinewidth": 2
          }
         }
        },
        "title": {
         "text": "Plot of Mean and median differences of randomized weights for each verification method for integers"
        },
        "xaxis": {
         "anchor": "y",
         "domain": [
          0,
          1
         ],
         "title": {
          "text": "value"
         }
        },
        "yaxis": {
         "anchor": "x",
         "domain": [
          0,
          1
         ],
         "title": {
          "text": "Weight_combination"
         }
        }
       }
      },
      "text/html": [
       "<div>                            <div id=\"4701cbf0-6f1b-4ba7-bc92-fa7ddfa404bb\" class=\"plotly-graph-div\" style=\"height:525px; width:100%;\"></div>            <script type=\"text/javascript\">                require([\"plotly\"], function(Plotly) {                    window.PLOTLYENV=window.PLOTLYENV || {};                                    if (document.getElementById(\"4701cbf0-6f1b-4ba7-bc92-fa7ddfa404bb\")) {                    Plotly.newPlot(                        \"4701cbf0-6f1b-4ba7-bc92-fa7ddfa404bb\",                        [{\"alignmentgroup\":\"True\",\"hovertemplate\":\"Class=wide_variable_0<br>value=%{x}<br>Weight_combination=%{y}<extra></extra>\",\"legendgroup\":\"wide_variable_0\",\"marker\":{\"color\":\"#636efa\",\"opacity\":0.9,\"pattern\":{\"shape\":\"\"}},\"name\":\"wide_variable_0\",\"offsetgroup\":\"wide_variable_0\",\"orientation\":\"h\",\"showlegend\":true,\"textposition\":\"auto\",\"type\":\"bar\",\"x\":[8.20955188679245,7.900589622641508,7.79587264150943,7.760082547169812,7.748525943396228,7.718926886792449,7.647700471698112,7.599941037735849,7.589386792452835,7.556957547169812],\"xaxis\":\"x\",\"y\":[\"11 , 17 , 3 , 3 , 16 , 21 , 17 , 12\",\"13 , 17 , 2 , 5 , 15 , 19 , 14 , 15\",\"13 , 16 , 4 , 2 , 19 , 18 , 12 , 16\",\"15 , 15 , 3 , 3 , 19 , 17 , 16 , 12\",\"3 , 16 , 6 , 7 , 15 , 23 , 17 , 13\",\"11 , 11 , 2 , 7 , 20 , 21 , 15 , 13\",\"2 , 18 , 4 , 5 , 21 , 17 , 19 , 14\",\"5 , 7 , 4 , 2 , 24 , 25 , 16 , 17\",\"4 , 18 , 8 , 4 , 20 , 18 , 14 , 14\",\"4 , 16 , 5 , 7 , 15 , 21 , 19 , 13\"],\"yaxis\":\"y\"},{\"alignmentgroup\":\"True\",\"hovertemplate\":\"Class=wide_variable_1<br>value=%{x}<br>Weight_combination=%{y}<extra></extra>\",\"legendgroup\":\"wide_variable_1\",\"marker\":{\"color\":\"#EF553B\",\"opacity\":0.9,\"pattern\":{\"shape\":\"\"}},\"name\":\"wide_variable_1\",\"offsetgroup\":\"wide_variable_1\",\"orientation\":\"h\",\"showlegend\":true,\"textposition\":\"auto\",\"type\":\"bar\",\"x\":[7.0,3.0,5.0,4.0,9.5,8.5,12.0,9.0,10.0,9.0],\"xaxis\":\"x\",\"y\":[\"11 , 17 , 3 , 3 , 16 , 21 , 17 , 12\",\"13 , 17 , 2 , 5 , 15 , 19 , 14 , 15\",\"13 , 16 , 4 , 2 , 19 , 18 , 12 , 16\",\"15 , 15 , 3 , 3 , 19 , 17 , 16 , 12\",\"3 , 16 , 6 , 7 , 15 , 23 , 17 , 13\",\"11 , 11 , 2 , 7 , 20 , 21 , 15 , 13\",\"2 , 18 , 4 , 5 , 21 , 17 , 19 , 14\",\"5 , 7 , 4 , 2 , 24 , 25 , 16 , 17\",\"4 , 18 , 8 , 4 , 20 , 18 , 14 , 14\",\"4 , 16 , 5 , 7 , 15 , 21 , 19 , 13\"],\"yaxis\":\"y\"}],                        {\"barmode\":\"group\",\"legend\":{\"title\":{\"text\":\"Class\"},\"tracegroupgap\":0},\"template\":{\"data\":{\"bar\":[{\"error_x\":{\"color\":\"#2a3f5f\"},\"error_y\":{\"color\":\"#2a3f5f\"},\"marker\":{\"line\":{\"color\":\"#E5ECF6\",\"width\":0.5},\"pattern\":{\"fillmode\":\"overlay\",\"size\":10,\"solidity\":0.2}},\"type\":\"bar\"}],\"barpolar\":[{\"marker\":{\"line\":{\"color\":\"#E5ECF6\",\"width\":0.5},\"pattern\":{\"fillmode\":\"overlay\",\"size\":10,\"solidity\":0.2}},\"type\":\"barpolar\"}],\"carpet\":[{\"aaxis\":{\"endlinecolor\":\"#2a3f5f\",\"gridcolor\":\"white\",\"linecolor\":\"white\",\"minorgridcolor\":\"white\",\"startlinecolor\":\"#2a3f5f\"},\"baxis\":{\"endlinecolor\":\"#2a3f5f\",\"gridcolor\":\"white\",\"linecolor\":\"white\",\"minorgridcolor\":\"white\",\"startlinecolor\":\"#2a3f5f\"},\"type\":\"carpet\"}],\"choropleth\":[{\"colorbar\":{\"outlinewidth\":0,\"ticks\":\"\"},\"type\":\"choropleth\"}],\"contour\":[{\"colorbar\":{\"outlinewidth\":0,\"ticks\":\"\"},\"colorscale\":[[0.0,\"#0d0887\"],[0.1111111111111111,\"#46039f\"],[0.2222222222222222,\"#7201a8\"],[0.3333333333333333,\"#9c179e\"],[0.4444444444444444,\"#bd3786\"],[0.5555555555555556,\"#d8576b\"],[0.6666666666666666,\"#ed7953\"],[0.7777777777777778,\"#fb9f3a\"],[0.8888888888888888,\"#fdca26\"],[1.0,\"#f0f921\"]],\"type\":\"contour\"}],\"contourcarpet\":[{\"colorbar\":{\"outlinewidth\":0,\"ticks\":\"\"},\"type\":\"contourcarpet\"}],\"heatmap\":[{\"colorbar\":{\"outlinewidth\":0,\"ticks\":\"\"},\"colorscale\":[[0.0,\"#0d0887\"],[0.1111111111111111,\"#46039f\"],[0.2222222222222222,\"#7201a8\"],[0.3333333333333333,\"#9c179e\"],[0.4444444444444444,\"#bd3786\"],[0.5555555555555556,\"#d8576b\"],[0.6666666666666666,\"#ed7953\"],[0.7777777777777778,\"#fb9f3a\"],[0.8888888888888888,\"#fdca26\"],[1.0,\"#f0f921\"]],\"type\":\"heatmap\"}],\"heatmapgl\":[{\"colorbar\":{\"outlinewidth\":0,\"ticks\":\"\"},\"colorscale\":[[0.0,\"#0d0887\"],[0.1111111111111111,\"#46039f\"],[0.2222222222222222,\"#7201a8\"],[0.3333333333333333,\"#9c179e\"],[0.4444444444444444,\"#bd3786\"],[0.5555555555555556,\"#d8576b\"],[0.6666666666666666,\"#ed7953\"],[0.7777777777777778,\"#fb9f3a\"],[0.8888888888888888,\"#fdca26\"],[1.0,\"#f0f921\"]],\"type\":\"heatmapgl\"}],\"histogram\":[{\"marker\":{\"pattern\":{\"fillmode\":\"overlay\",\"size\":10,\"solidity\":0.2}},\"type\":\"histogram\"}],\"histogram2d\":[{\"colorbar\":{\"outlinewidth\":0,\"ticks\":\"\"},\"colorscale\":[[0.0,\"#0d0887\"],[0.1111111111111111,\"#46039f\"],[0.2222222222222222,\"#7201a8\"],[0.3333333333333333,\"#9c179e\"],[0.4444444444444444,\"#bd3786\"],[0.5555555555555556,\"#d8576b\"],[0.6666666666666666,\"#ed7953\"],[0.7777777777777778,\"#fb9f3a\"],[0.8888888888888888,\"#fdca26\"],[1.0,\"#f0f921\"]],\"type\":\"histogram2d\"}],\"histogram2dcontour\":[{\"colorbar\":{\"outlinewidth\":0,\"ticks\":\"\"},\"colorscale\":[[0.0,\"#0d0887\"],[0.1111111111111111,\"#46039f\"],[0.2222222222222222,\"#7201a8\"],[0.3333333333333333,\"#9c179e\"],[0.4444444444444444,\"#bd3786\"],[0.5555555555555556,\"#d8576b\"],[0.6666666666666666,\"#ed7953\"],[0.7777777777777778,\"#fb9f3a\"],[0.8888888888888888,\"#fdca26\"],[1.0,\"#f0f921\"]],\"type\":\"histogram2dcontour\"}],\"mesh3d\":[{\"colorbar\":{\"outlinewidth\":0,\"ticks\":\"\"},\"type\":\"mesh3d\"}],\"parcoords\":[{\"line\":{\"colorbar\":{\"outlinewidth\":0,\"ticks\":\"\"}},\"type\":\"parcoords\"}],\"pie\":[{\"automargin\":true,\"type\":\"pie\"}],\"scatter\":[{\"marker\":{\"colorbar\":{\"outlinewidth\":0,\"ticks\":\"\"}},\"type\":\"scatter\"}],\"scatter3d\":[{\"line\":{\"colorbar\":{\"outlinewidth\":0,\"ticks\":\"\"}},\"marker\":{\"colorbar\":{\"outlinewidth\":0,\"ticks\":\"\"}},\"type\":\"scatter3d\"}],\"scattercarpet\":[{\"marker\":{\"colorbar\":{\"outlinewidth\":0,\"ticks\":\"\"}},\"type\":\"scattercarpet\"}],\"scattergeo\":[{\"marker\":{\"colorbar\":{\"outlinewidth\":0,\"ticks\":\"\"}},\"type\":\"scattergeo\"}],\"scattergl\":[{\"marker\":{\"colorbar\":{\"outlinewidth\":0,\"ticks\":\"\"}},\"type\":\"scattergl\"}],\"scattermapbox\":[{\"marker\":{\"colorbar\":{\"outlinewidth\":0,\"ticks\":\"\"}},\"type\":\"scattermapbox\"}],\"scatterpolar\":[{\"marker\":{\"colorbar\":{\"outlinewidth\":0,\"ticks\":\"\"}},\"type\":\"scatterpolar\"}],\"scatterpolargl\":[{\"marker\":{\"colorbar\":{\"outlinewidth\":0,\"ticks\":\"\"}},\"type\":\"scatterpolargl\"}],\"scatterternary\":[{\"marker\":{\"colorbar\":{\"outlinewidth\":0,\"ticks\":\"\"}},\"type\":\"scatterternary\"}],\"surface\":[{\"colorbar\":{\"outlinewidth\":0,\"ticks\":\"\"},\"colorscale\":[[0.0,\"#0d0887\"],[0.1111111111111111,\"#46039f\"],[0.2222222222222222,\"#7201a8\"],[0.3333333333333333,\"#9c179e\"],[0.4444444444444444,\"#bd3786\"],[0.5555555555555556,\"#d8576b\"],[0.6666666666666666,\"#ed7953\"],[0.7777777777777778,\"#fb9f3a\"],[0.8888888888888888,\"#fdca26\"],[1.0,\"#f0f921\"]],\"type\":\"surface\"}],\"table\":[{\"cells\":{\"fill\":{\"color\":\"#EBF0F8\"},\"line\":{\"color\":\"white\"}},\"header\":{\"fill\":{\"color\":\"#C8D4E3\"},\"line\":{\"color\":\"white\"}},\"type\":\"table\"}]},\"layout\":{\"annotationdefaults\":{\"arrowcolor\":\"#2a3f5f\",\"arrowhead\":0,\"arrowwidth\":1},\"autotypenumbers\":\"strict\",\"coloraxis\":{\"colorbar\":{\"outlinewidth\":0,\"ticks\":\"\"}},\"colorscale\":{\"diverging\":[[0,\"#8e0152\"],[0.1,\"#c51b7d\"],[0.2,\"#de77ae\"],[0.3,\"#f1b6da\"],[0.4,\"#fde0ef\"],[0.5,\"#f7f7f7\"],[0.6,\"#e6f5d0\"],[0.7,\"#b8e186\"],[0.8,\"#7fbc41\"],[0.9,\"#4d9221\"],[1,\"#276419\"]],\"sequential\":[[0.0,\"#0d0887\"],[0.1111111111111111,\"#46039f\"],[0.2222222222222222,\"#7201a8\"],[0.3333333333333333,\"#9c179e\"],[0.4444444444444444,\"#bd3786\"],[0.5555555555555556,\"#d8576b\"],[0.6666666666666666,\"#ed7953\"],[0.7777777777777778,\"#fb9f3a\"],[0.8888888888888888,\"#fdca26\"],[1.0,\"#f0f921\"]],\"sequentialminus\":[[0.0,\"#0d0887\"],[0.1111111111111111,\"#46039f\"],[0.2222222222222222,\"#7201a8\"],[0.3333333333333333,\"#9c179e\"],[0.4444444444444444,\"#bd3786\"],[0.5555555555555556,\"#d8576b\"],[0.6666666666666666,\"#ed7953\"],[0.7777777777777778,\"#fb9f3a\"],[0.8888888888888888,\"#fdca26\"],[1.0,\"#f0f921\"]]},\"colorway\":[\"#636efa\",\"#EF553B\",\"#00cc96\",\"#ab63fa\",\"#FFA15A\",\"#19d3f3\",\"#FF6692\",\"#B6E880\",\"#FF97FF\",\"#FECB52\"],\"font\":{\"color\":\"#2a3f5f\"},\"geo\":{\"bgcolor\":\"white\",\"lakecolor\":\"white\",\"landcolor\":\"#E5ECF6\",\"showlakes\":true,\"showland\":true,\"subunitcolor\":\"white\"},\"hoverlabel\":{\"align\":\"left\"},\"hovermode\":\"closest\",\"mapbox\":{\"style\":\"light\"},\"paper_bgcolor\":\"white\",\"plot_bgcolor\":\"#E5ECF6\",\"polar\":{\"angularaxis\":{\"gridcolor\":\"white\",\"linecolor\":\"white\",\"ticks\":\"\"},\"bgcolor\":\"#E5ECF6\",\"radialaxis\":{\"gridcolor\":\"white\",\"linecolor\":\"white\",\"ticks\":\"\"}},\"scene\":{\"xaxis\":{\"backgroundcolor\":\"#E5ECF6\",\"gridcolor\":\"white\",\"gridwidth\":2,\"linecolor\":\"white\",\"showbackground\":true,\"ticks\":\"\",\"zerolinecolor\":\"white\"},\"yaxis\":{\"backgroundcolor\":\"#E5ECF6\",\"gridcolor\":\"white\",\"gridwidth\":2,\"linecolor\":\"white\",\"showbackground\":true,\"ticks\":\"\",\"zerolinecolor\":\"white\"},\"zaxis\":{\"backgroundcolor\":\"#E5ECF6\",\"gridcolor\":\"white\",\"gridwidth\":2,\"linecolor\":\"white\",\"showbackground\":true,\"ticks\":\"\",\"zerolinecolor\":\"white\"}},\"shapedefaults\":{\"line\":{\"color\":\"#2a3f5f\"}},\"ternary\":{\"aaxis\":{\"gridcolor\":\"white\",\"linecolor\":\"white\",\"ticks\":\"\"},\"baxis\":{\"gridcolor\":\"white\",\"linecolor\":\"white\",\"ticks\":\"\"},\"bgcolor\":\"#E5ECF6\",\"caxis\":{\"gridcolor\":\"white\",\"linecolor\":\"white\",\"ticks\":\"\"}},\"title\":{\"x\":0.05},\"xaxis\":{\"automargin\":true,\"gridcolor\":\"white\",\"linecolor\":\"white\",\"ticks\":\"\",\"title\":{\"standoff\":15},\"zerolinecolor\":\"white\",\"zerolinewidth\":2},\"yaxis\":{\"automargin\":true,\"gridcolor\":\"white\",\"linecolor\":\"white\",\"ticks\":\"\",\"title\":{\"standoff\":15},\"zerolinecolor\":\"white\",\"zerolinewidth\":2}}},\"title\":{\"text\":\"Plot of Mean and median differences of randomized weights for each verification method for integers\"},\"xaxis\":{\"anchor\":\"y\",\"domain\":[0.0,1.0],\"title\":{\"text\":\"value\"}},\"yaxis\":{\"anchor\":\"x\",\"domain\":[0.0,1.0],\"title\":{\"text\":\"Weight_combination\"}}},                        {\"responsive\": true}                    ).then(function(){\n",
       "                            \n",
       "var gd = document.getElementById('4701cbf0-6f1b-4ba7-bc92-fa7ddfa404bb');\n",
       "var x = new MutationObserver(function (mutations, observer) {{\n",
       "        var display = window.getComputedStyle(gd).display;\n",
       "        if (!display || display === 'none') {{\n",
       "            console.log([gd, 'removed!']);\n",
       "            Plotly.purge(gd);\n",
       "            observer.disconnect();\n",
       "        }}\n",
       "}});\n",
       "\n",
       "// Listen for the removal of the full notebook cells\n",
       "var notebookContainer = gd.closest('#notebook-container');\n",
       "if (notebookContainer) {{\n",
       "    x.observe(notebookContainer, {childList: true});\n",
       "}}\n",
       "\n",
       "// Listen for the clearing of the current output cell\n",
       "var outputEl = gd.closest('.output');\n",
       "if (outputEl) {{\n",
       "    x.observe(outputEl, {childList: true});\n",
       "}}\n",
       "\n",
       "                        })                };                });            </script>        </div>"
      ]
     },
     "metadata": {},
     "output_type": "display_data"
    }
   ],
   "source": [
    "barchart"
   ]
  },
  {
   "cell_type": "code",
   "execution_count": 630,
   "id": "2723a3c6",
   "metadata": {},
   "outputs": [],
   "source": [
    "diff4.drop(\"Weight_combination\", axis=1, inplace=True)"
   ]
  },
  {
   "cell_type": "code",
   "execution_count": 631,
   "id": "4aaa694a",
   "metadata": {},
   "outputs": [],
   "source": [
    "diff4.to_csv(\"./weights_for_first_1k_int_no_dp.csv\", index=False)"
   ]
  },
  {
   "cell_type": "code",
   "execution_count": 665,
   "id": "db13fab9",
   "metadata": {},
   "outputs": [],
   "source": [
    "matrix = []\n",
    "for i in range(10):\n",
    "    np.random.seed(i)\n",
    "    matrix.append(np.random.randint(low=5, high=10, size = 6))"
   ]
  },
  {
   "cell_type": "code",
   "execution_count": 662,
   "id": "8ab18f4e",
   "metadata": {},
   "outputs": [],
   "source": [
    "matrix1 =np.asarray(matrix)"
   ]
  },
  {
   "cell_type": "code",
   "execution_count": 666,
   "id": "16794e5a",
   "metadata": {
    "collapsed": true
   },
   "outputs": [
    {
     "name": "stdout",
     "output_type": "stream",
     "text": [
      "[81 25 64 64 64 36]\n",
      "[64 81 25 36 64 25]\n",
      "[25 25 64 49 64 25]\n",
      "[49 25 36 64 25 25]\n",
      "[49 36 25 25 49 36]\n",
      "[64 25 36 25 81 64]\n",
      "[49 36 64 81 49 49]\n",
      "[81 36 64 64 81 36]\n",
      "[64 81 36 36 49 25]\n",
      "[81 25 64 36 81 64]\n"
     ]
    }
   ],
   "source": [
    "for i in matrix:\n",
    "    print(i * np.array(i).T)"
   ]
  },
  {
   "cell_type": "code",
   "execution_count": 667,
   "id": "9e52b994",
   "metadata": {
    "collapsed": true
   },
   "outputs": [
    {
     "data": {
      "text/plain": [
       "[array([9, 5, 8, 8, 8, 6]),\n",
       " array([8, 9, 5, 6, 8, 5]),\n",
       " array([5, 5, 8, 7, 8, 5]),\n",
       " array([7, 5, 6, 8, 5, 5]),\n",
       " array([7, 6, 5, 5, 7, 6]),\n",
       " array([8, 5, 6, 5, 9, 8]),\n",
       " array([7, 6, 8, 9, 7, 7]),\n",
       " array([9, 6, 8, 8, 9, 6]),\n",
       " array([8, 9, 6, 6, 7, 5]),\n",
       " array([9, 5, 8, 6, 9, 8])]"
      ]
     },
     "execution_count": 667,
     "metadata": {},
     "output_type": "execute_result"
    }
   ],
   "source": [
    "matrix"
   ]
  },
  {
   "cell_type": "code",
   "execution_count": 672,
   "id": "23691909",
   "metadata": {},
   "outputs": [
    {
     "data": {
      "text/plain": [
       "array([ True,  True, False,  True, False, False, False, False])"
      ]
     },
     "execution_count": 672,
     "metadata": {},
     "output_type": "execute_result"
    }
   ],
   "source": [
    "np.random.choice([True, False], 8)"
   ]
  },
  {
   "cell_type": "code",
   "execution_count": 673,
   "id": "c2c7885a",
   "metadata": {},
   "outputs": [],
   "source": [
    "df2 = df1.copy()"
   ]
  },
  {
   "cell_type": "code",
   "execution_count": 674,
   "id": "63c6c162",
   "metadata": {},
   "outputs": [],
   "source": [
    "x = 0\n",
    "while x < 10:\n",
    "    df2 = pd.concat([df2, df1])\n",
    "    x += 1"
   ]
  },
  {
   "cell_type": "code",
   "execution_count": 675,
   "id": "6fb925fc",
   "metadata": {},
   "outputs": [
    {
     "data": {
      "text/plain": [
       "(5852, 12)"
      ]
     },
     "execution_count": 675,
     "metadata": {},
     "output_type": "execute_result"
    }
   ],
   "source": [
    "df2.shape"
   ]
  },
  {
   "cell_type": "code",
   "execution_count": null,
   "id": "9030fbec",
   "metadata": {},
   "outputs": [],
   "source": [
    "d"
   ]
  }
 ],
 "metadata": {
  "kernelspec": {
   "display_name": "Python 3",
   "language": "python",
   "name": "python3"
  },
  "language_info": {
   "codemirror_mode": {
    "name": "ipython",
    "version": 3
   },
   "file_extension": ".py",
   "mimetype": "text/x-python",
   "name": "python",
   "nbconvert_exporter": "python",
   "pygments_lexer": "ipython3",
   "version": "3.7.6"
  }
 },
 "nbformat": 4,
 "nbformat_minor": 5
}
